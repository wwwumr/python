{
 "cells": [
  {
   "cell_type": "code",
   "execution_count": 6,
   "metadata": {},
   "outputs": [],
   "source": [
    "import tkinter as Tk\n",
    "import time\n",
    "\n",
    "userData = {\n",
    "    \"hw\": \"201700800067\",\n",
    "    \"wjm\": \"201700800094\",\n",
    "}"
   ]
  },
  {
   "cell_type": "code",
   "execution_count": 2,
   "metadata": {},
   "outputs": [],
   "source": [
    "# 检查登录\n",
    "def checkLogIn(logInCount) :\n",
    "    print(\"欢迎进入收银管理系统，请登录\")\n",
    "    while logInCount > 0 :\n",
    "        userName = input(\"用户名: \")\n",
    "        password = input(\"密码: \")\n",
    "        logInCount -= 1\n",
    "        if userData.get(userName) == None:\n",
    "            if logInCount > 0:\n",
    "                print(\"登录失败,请重新登录,您还有{0}次机会:\".format(logInCount))\n",
    "            else :\n",
    "                print(\"对不起，登录失败,您已无法继续登录\")\n",
    "                return False\n",
    "        else :\n",
    "            print(\"登录成功\")\n",
    "            return True\n",
    "    \n",
    "    return False\n",
    "\n",
    "# 检查输入的商品信息\n",
    "def inputItems():\n",
    "    print(\"欢迎您,请您输入商品信息\")\n",
    "    itemList = []\n",
    "    while True:\n",
    "        item = [0.0, 0]\n",
    "        itemPrice = input(\"请输入商品单价:\")\n",
    "        itemAmount = input(\"请输入商品数量:\")\n",
    "        if type(eval(itemAmount)) != int or not (type(eval(itemPrice)) == int or type(eval(itemPrice)) == float):\n",
    "            print(\"对不起,您输入的数据的格式不正确,请重新输入\")\n",
    "            continue\n",
    "            \n",
    "        itemPrice = round(eval(itemPrice) * 100.0,) / 100.0\n",
    "        itemAmount = eval(itemAmount)\n",
    "        item[0] = itemPrice\n",
    "        item[1] = itemAmount\n",
    "        \n",
    "        if itemPrice <= 0 or itemAmount <= 0.0:\n",
    "            print(\"对不起,您输入的数据的格式不正确,请重新输入\")\n",
    "            continue\n",
    "            \n",
    "        itemList.append(item)\n",
    "\n",
    "        if input(\"您是否还要继续输入商品信息?按[N]退出\").lower() == 'n':\n",
    "            break\n",
    "\n",
    "    totalAmount = 0\n",
    "    totalPrice = 0.0\n",
    "    for item in itemList:\n",
    "        totalAmount += item[1]\n",
    "        totalPrice += item[0] * item[1]\n",
    "    print(\"您本次选购商品:{}件, 总价为:{}元\".format(totalAmount, totalPrice))\n",
    "    print(\"感谢惠顾,欢迎下次光临\")\n",
    "    return itemList, totalAmount, totalPrice \n",
    "\n",
    "# 打印商品清单\n",
    "def printItemList(itemList, totalAmount, totalPrice):\n",
    "    orderFile = time.strftime(\"./transactions/%Y-%m-%d-%H-%M-%S.txt\", time.localtime())\n",
    "    fileWriter = open(orderFile, 'w', encoding=\"utf-8\")\n",
    "    fileWriter.seek(0, 0)\n",
    "    for i in range(len(itemList)):\n",
    "        itemMessage = \"商品{0}: 单价 {1}元, 数量 {2}个\\n\".format(i+1, itemList[i][0], itemList[i][1])\n",
    "        fileWriter.write(itemMessage)\n",
    "    totalMessage = \"总量: {}个\\n总价: {}元\\n\".format(totalAmount, totalPrice)\n",
    "    fileWriter.write(totalMessage)\n",
    "    fileWriter.close()"
   ]
  },
  {
   "cell_type": "code",
   "execution_count": 3,
   "metadata": {},
   "outputs": [],
   "source": [
    "# 主函数\n",
    "def main():\n",
    "    if checkLogIn(4) == False:\n",
    "        exit()\n",
    "    itemList, totalAmount, totalPrice = inputItems()\n",
    "    if totalAmount > 0:\n",
    "        printItemList(itemList, totalAmount, totalPrice)"
   ]
  },
  {
   "cell_type": "code",
   "execution_count": 10,
   "metadata": {},
   "outputs": [],
   "source": [
    "mian()"
   ]
  }
 ],
 "metadata": {
  "kernelspec": {
   "display_name": "Python 3",
   "language": "python",
   "name": "python3"
  },
  "language_info": {
   "codemirror_mode": {
    "name": "ipython",
    "version": 3
   },
   "file_extension": ".py",
   "mimetype": "text/x-python",
   "name": "python",
   "nbconvert_exporter": "python",
   "pygments_lexer": "ipython3",
   "version": "3.6.8"
  }
 },
 "nbformat": 4,
 "nbformat_minor": 2
}
