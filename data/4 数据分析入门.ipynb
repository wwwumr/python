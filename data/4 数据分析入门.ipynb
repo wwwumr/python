{
 "cells": [
  {
   "cell_type": "markdown",
   "metadata": {
    "render": true
   },
   "source": [
    "<h1, align=center> &nbsp;&nbsp;&nbsp;&nbsp;&nbsp;&nbsp;&nbsp;数据科学引论 - Python之道 </h1>\n",
    "\n",
    "<h1, align=center> &nbsp;&nbsp;&nbsp;&nbsp;&nbsp;&nbsp;&nbsp;&nbsp;第4课 数据分析入门 </h1>"
   ]
  },
  {
   "cell_type": "markdown",
   "metadata": {},
   "source": [
    "<hr>"
   ]
  },
  {
   "cell_type": "markdown",
   "metadata": {},
   "source": [
    "### 目录 \n",
    "[**Numpy 库**](#NumPy-库)   \n",
    "[**Pandas 库**](#Pandas-库)  \n",
    "[**按国家和年份统计的CO2排放量**](#按国家和年份统计的CO2排放量)  \n",
    "[**获取数据**](#获取数据)  \n",
    "[**使用Pandas导入数据**](#使用-Pandas-导入数据)  \n",
    "[**Dataframe的特性**](#Dataframe-的特性)  \n",
    "[**对Dataframe求子集**](#对-Dataframe-求子集)  \n",
    "[**按照条件求子集**](#按照条件求子集)  \n",
    "\n",
    "\n",
    "\n"
   ]
  },
  {
   "cell_type": "markdown",
   "metadata": {},
   "source": [
    "<hr>"
   ]
  },
  {
   "cell_type": "markdown",
   "metadata": {
    "collapsed": true
   },
   "source": [
    "<h1, align=\"center\">NumPy 库</h1>\n",
    "__NumPy__: \n",
    "- 快速\n",
    "- 多维数组 \n",
    "- 向量化计算\n"
   ]
  },
  {
   "cell_type": "markdown",
   "metadata": {
    "collapsed": true
   },
   "source": [
    "### NumPy 多维数组\n",
    "多维数组对象.  \n",
    "用来在整块数据上执行数学操作. "
   ]
  },
  {
   "cell_type": "code",
   "execution_count": 2,
   "metadata": {
    "collapsed": true
   },
   "outputs": [],
   "source": [
    "# to insert a library (a file consisting of Python code) use \"import\"\n",
    "import numpy as np"
   ]
  },
  {
   "cell_type": "markdown",
   "metadata": {},
   "source": [
    "#### 创建多维数组\n",
    "- 使用 __array__ 函数.  \n",
    "- 所有元素必须具有 __相同类型__ (同构)"
   ]
  },
  {
   "cell_type": "code",
   "execution_count": 3,
   "metadata": {
    "collapsed": false
   },
   "outputs": [
    {
     "data": {
      "text/plain": [
       "array([[ 1.9526, -0.246 , -0.8856],\n",
       "       [ 0.5639,  0.2379,  0.9104]])"
      ]
     },
     "execution_count": 3,
     "metadata": {},
     "output_type": "execute_result"
    }
   ],
   "source": [
    "data=np.array([[ 1.9526, -0.246 , -0.8856],\n",
    "[ 0.5639, 0.2379, 0.9104]])\n",
    "data"
   ]
  },
  {
   "cell_type": "markdown",
   "metadata": {},
   "source": [
    "每个数组都具有 __维数__ 和 __形状__ (一个表示每个维度尺寸的元素)"
   ]
  },
  {
   "cell_type": "code",
   "execution_count": 5,
   "metadata": {
    "collapsed": false
   },
   "outputs": [
    {
     "data": {
      "text/plain": [
       "2"
      ]
     },
     "execution_count": 5,
     "metadata": {},
     "output_type": "execute_result"
    }
   ],
   "source": [
    "data.ndim"
   ]
  },
  {
   "cell_type": "code",
   "execution_count": 6,
   "metadata": {
    "collapsed": false
   },
   "outputs": [
    {
     "data": {
      "text/plain": [
       "(2, 3)"
      ]
     },
     "execution_count": 6,
     "metadata": {},
     "output_type": "execute_result"
    }
   ],
   "source": [
    "data.shape"
   ]
  },
  {
   "cell_type": "markdown",
   "metadata": {},
   "source": [
    "__dtype:__ 描述数组的数据类型的对象:\n"
   ]
  },
  {
   "cell_type": "code",
   "execution_count": 7,
   "metadata": {
    "collapsed": false
   },
   "outputs": [
    {
     "data": {
      "text/plain": [
       "dtype('float64')"
      ]
     },
     "execution_count": 7,
     "metadata": {},
     "output_type": "execute_result"
    }
   ],
   "source": [
    "data.dtype"
   ]
  },
  {
   "cell_type": "markdown",
   "metadata": {},
   "source": [
    "__empty__, __arange__ , __zeros__ 和 **ones** 数组"
   ]
  },
  {
   "cell_type": "code",
   "execution_count": 2,
   "metadata": {
    "collapsed": false,
    "scrolled": true
   },
   "outputs": [
    {
     "data": {
      "text/plain": [
       "array([[0., 0.],\n",
       "       [0., 0.],\n",
       "       [0., 0.]])"
      ]
     },
     "execution_count": 2,
     "metadata": {},
     "output_type": "execute_result"
    }
   ],
   "source": [
    "data1=np.empty((3,2))\n",
    "data1"
   ]
  },
  {
   "cell_type": "code",
   "execution_count": 8,
   "metadata": {
    "collapsed": false
   },
   "outputs": [
    {
     "data": {
      "text/plain": [
       "array([0., 0., 0., 0., 0., 0., 0., 0., 0., 0.])"
      ]
     },
     "execution_count": 8,
     "metadata": {},
     "output_type": "execute_result"
    }
   ],
   "source": [
    "data0=np.zeros(10)\n",
    "data0"
   ]
  },
  {
   "cell_type": "code",
   "execution_count": 9,
   "metadata": {
    "collapsed": false
   },
   "outputs": [
    {
     "data": {
      "text/plain": [
       "array([0, 1, 2, 3, 4, 5, 6, 7, 8, 9])"
      ]
     },
     "execution_count": 9,
     "metadata": {},
     "output_type": "execute_result"
    }
   ],
   "source": [
    "data3=np.arange(10)\n",
    "data3"
   ]
  },
  {
   "cell_type": "markdown",
   "metadata": {},
   "source": [
    "### <span style=\"color: red\">轮到你了:</span> \n",
    "创建一个 2x4 的数组，数组中元素都是 1，然后获取该数组的数据类型和形状。"
   ]
  },
  {
   "cell_type": "code",
   "execution_count": null,
   "metadata": {
    "collapsed": false
   },
   "outputs": [],
   "source": [
    "#You code\n",
    "\n"
   ]
  },
  {
   "cell_type": "markdown",
   "metadata": {},
   "source": [
    "#### 数据类型"
   ]
  },
  {
   "cell_type": "code",
   "execution_count": 4,
   "metadata": {
    "collapsed": false
   },
   "outputs": [
    {
     "data": {
      "text/plain": [
       "array([b'1.25', b'-9.6', b'42'], dtype='|S4')"
      ]
     },
     "execution_count": 4,
     "metadata": {},
     "output_type": "execute_result"
    }
   ],
   "source": [
    "data=np.array([1.25, -9.6, 42], dtype=np.string_)\n",
    "data"
   ]
  },
  {
   "cell_type": "markdown",
   "metadata": {},
   "source": [
    "可以将该数组强制类型转换为浮点数类型"
   ]
  },
  {
   "cell_type": "code",
   "execution_count": 6,
   "metadata": {
    "collapsed": false
   },
   "outputs": [
    {
     "data": {
      "text/plain": [
       "array([ 1.25, -9.6 , 42.  ])"
      ]
     },
     "execution_count": 6,
     "metadata": {},
     "output_type": "execute_result"
    }
   ],
   "source": [
    "data.astype(np.float64)"
   ]
  },
  {
   "cell_type": "markdown",
   "metadata": {},
   "source": [
    "<hr></hr>\n",
    "<div class=\"alert alert-success alertsuccess\" style=\"margin-top: 0px\">\n",
    "<h4> [tip] 强制类型转换后，为什么-9.6变成了-9.60000038？ </h4>\n",
    "<p></p>\n",
    "这是因为浮点数只是一种近似表达，它几乎总是会存在误差：\n",
    "<li>简单地讲，浮点数中每一位都表示2的-n次方，32位浮点数最高精度就是2的-32次方。我们可以这样理解，浮点数的表示机制就是用一系列离散的点来表示连续的数轴，点与点之间的距离就是浮点数最高精度位所能表示的数字。除非希望表示的浮点数正好落在这些点上，否则误差总是存在，它总是会近似地表示成最靠近它的某个点所表示的数字。</li>\n",
    "<li>回到-9.6的例子，就是因为浮点数机制无法精确表示它，但是在能够精确表示的数字中，-9.60000038离它最近，因此用-9.60000038近似表示它。</li>\n",
    "<p></p>\n",
    "浮点数的这种机制告诉我们，需要精确表示数据时，不要使用浮点数。\n",
    "<li>例如，在表示货币金额时，通常会选择使用整数来表示，单位为分，而不会选择使用浮点数来表示。如果我们留意第三方支付服务的接口，就会发现它们清一色都是使用单位为分的整数来表示的。</li>\n",
    "<p></p>\n",
    "</div>\n",
    "<hr></hr>"
   ]
  },
  {
   "cell_type": "markdown",
   "metadata": {},
   "source": [
    "### 操作"
   ]
  },
  {
   "cell_type": "code",
   "execution_count": 12,
   "metadata": {
    "collapsed": false
   },
   "outputs": [
    {
     "data": {
      "text/plain": [
       "array([[1., 2., 3.],\n",
       "       [4., 5., 6.]])"
      ]
     },
     "execution_count": 12,
     "metadata": {},
     "output_type": "execute_result"
    }
   ],
   "source": [
    "arr= np.array([[1., 2., 3.], [4., 5., 6.]])\n",
    "arr"
   ]
  },
  {
   "cell_type": "markdown",
   "metadata": {},
   "source": [
    "#### 算数操作"
   ]
  },
  {
   "cell_type": "code",
   "execution_count": 13,
   "metadata": {
    "collapsed": false
   },
   "outputs": [
    {
     "data": {
      "text/plain": [
       "array([[ 2.,  4.,  6.],\n",
       "       [ 8., 10., 12.]])"
      ]
     },
     "execution_count": 13,
     "metadata": {},
     "output_type": "execute_result"
    }
   ],
   "source": [
    "arr * 2"
   ]
  },
  {
   "cell_type": "code",
   "execution_count": 14,
   "metadata": {
    "collapsed": false
   },
   "outputs": [
    {
     "data": {
      "text/plain": [
       "array([[ 1.,  4.,  9.],\n",
       "       [16., 25., 36.]])"
      ]
     },
     "execution_count": 14,
     "metadata": {},
     "output_type": "execute_result"
    }
   ],
   "source": [
    "arr * arr"
   ]
  },
  {
   "cell_type": "markdown",
   "metadata": {},
   "source": [
    "<hr></hr>\n",
    "<div class=\"alert alert-success alertsuccess\" style=\"margin-top: 0px\">\n",
    "<h4> [tip] **arr*arr**执行的不是矩阵乘法？ </h4>\n",
    "<p></p>\n",
    "很遗憾，尽管多维数组看起来就是矩阵，但是**arr*arr**执行的不是矩阵乘法。<br/>\n",
    "**arr*arr**执行的是将两个矩阵对应位置上元素的乘积作为结果矩阵中对应位置上的元素。所以：\n",
    "<li>尽管arr是一个2×3的矩阵，按照矩阵乘法的规则，**arr*arr**非法，但是在Python中这是合法操作。</li>\n",
    "<li>**arr*arr**产生的结果仍旧是一个2×3的矩阵，其中每个元素的值都是arr中对应元素的平方值。</li>\n",
    "<p></p>\n",
    "</div>\n",
    "<hr></hr>"
   ]
  },
  {
   "cell_type": "markdown",
   "metadata": {},
   "source": [
    "### 索引和切片\n",
    "用来选择数据子集或单个元素"
   ]
  },
  {
   "cell_type": "code",
   "execution_count": 15,
   "metadata": {
    "collapsed": false
   },
   "outputs": [
    {
     "data": {
      "text/plain": [
       "array([0, 1, 2, 3, 4, 5, 6, 7, 8, 9])"
      ]
     },
     "execution_count": 15,
     "metadata": {},
     "output_type": "execute_result"
    }
   ],
   "source": [
    "arr = np.arange(10)\n",
    "arr"
   ]
  },
  {
   "cell_type": "markdown",
   "metadata": {},
   "source": [
    "与Python的列表相同:"
   ]
  },
  {
   "cell_type": "code",
   "execution_count": 16,
   "metadata": {
    "collapsed": false
   },
   "outputs": [
    {
     "data": {
      "text/plain": [
       "5"
      ]
     },
     "execution_count": 16,
     "metadata": {},
     "output_type": "execute_result"
    }
   ],
   "source": [
    "arr[5]"
   ]
  },
  {
   "cell_type": "code",
   "execution_count": 17,
   "metadata": {
    "collapsed": false,
    "scrolled": true
   },
   "outputs": [
    {
     "data": {
      "text/plain": [
       "array([5, 6, 7])"
      ]
     },
     "execution_count": 17,
     "metadata": {},
     "output_type": "execute_result"
    }
   ],
   "source": [
    "arr[5:8]"
   ]
  },
  {
   "cell_type": "markdown",
   "metadata": {},
   "source": [
    "可以将某个值赋给一个切片:"
   ]
  },
  {
   "cell_type": "code",
   "execution_count": 18,
   "metadata": {
    "collapsed": false
   },
   "outputs": [
    {
     "data": {
      "text/plain": [
       "array([ 0,  1,  2,  3,  4, 12, 12, 12,  8,  9])"
      ]
     },
     "execution_count": 18,
     "metadata": {},
     "output_type": "execute_result"
    }
   ],
   "source": [
    "arr[5:8] = 12\n",
    "arr"
   ]
  },
  {
   "cell_type": "code",
   "execution_count": 19,
   "metadata": {
    "collapsed": false
   },
   "outputs": [
    {
     "data": {
      "text/plain": [
       "array([12, 12, 12,  8,  9])"
      ]
     },
     "execution_count": 19,
     "metadata": {},
     "output_type": "execute_result"
    }
   ],
   "source": [
    "arr[5:]"
   ]
  },
  {
   "cell_type": "markdown",
   "metadata": {},
   "source": [
    "在多维数组中，单个索引对应的元素都不再是具体的值，而是一个数组"
   ]
  },
  {
   "cell_type": "code",
   "execution_count": 4,
   "metadata": {
    "collapsed": false
   },
   "outputs": [
    {
     "data": {
      "text/plain": [
       "array([[1, 2, 3],\n",
       "       [4, 5, 6],\n",
       "       [7, 8, 9]])"
      ]
     },
     "execution_count": 4,
     "metadata": {},
     "output_type": "execute_result"
    }
   ],
   "source": [
    "arr2d = np.array([[1, 2, 3], [4, 5, 6], [7, 8, 9]])\n",
    "arr2d"
   ]
  },
  {
   "cell_type": "code",
   "execution_count": 20,
   "metadata": {
    "collapsed": false
   },
   "outputs": [
    {
     "data": {
      "text/plain": [
       "5"
      ]
     },
     "execution_count": 20,
     "metadata": {},
     "output_type": "execute_result"
    }
   ],
   "source": [
    "arr2d[1][1]"
   ]
  },
  {
   "cell_type": "code",
   "execution_count": 21,
   "metadata": {
    "collapsed": false
   },
   "outputs": [
    {
     "data": {
      "text/plain": [
       "3"
      ]
     },
     "execution_count": 21,
     "metadata": {},
     "output_type": "execute_result"
    }
   ],
   "source": [
    "arr2d[0][2]   # also: arr2d[0, 2]"
   ]
  },
  {
   "cell_type": "code",
   "execution_count": 5,
   "metadata": {
    "collapsed": false
   },
   "outputs": [
    {
     "data": {
      "text/plain": [
       "array([4, 5, 6])"
      ]
     },
     "execution_count": 5,
     "metadata": {},
     "output_type": "execute_result"
    }
   ],
   "source": [
    "arr2d[1]"
   ]
  },
  {
   "cell_type": "markdown",
   "metadata": {},
   "source": [
    "切片总是按照先切第0维，再切第1维，以此类推的顺序切。  \n",
    "例如，下面的代码表示先切出前两行，然后再切出后两列："
   ]
  },
  {
   "cell_type": "code",
   "execution_count": 25,
   "metadata": {
    "collapsed": false
   },
   "outputs": [
    {
     "data": {
      "text/plain": [
       "array([[2, 3],\n",
       "       [5, 6]])"
      ]
     },
     "execution_count": 25,
     "metadata": {},
     "output_type": "execute_result"
    }
   ],
   "source": [
    "arr2d[:2, 1:]"
   ]
  },
  {
   "cell_type": "markdown",
   "metadata": {},
   "source": [
    "### 布尔索引"
   ]
  },
  {
   "cell_type": "code",
   "execution_count": 20,
   "metadata": {
    "collapsed": false,
    "scrolled": true
   },
   "outputs": [
    {
     "data": {
      "text/plain": [
       "array([[0.43583053, 0.75807465, 0.07531484, 0.13055596],\n",
       "       [0.71862549, 0.49713043, 0.0262395 , 0.2399416 ],\n",
       "       [0.88019802, 0.36384049, 0.35017668, 0.94806735],\n",
       "       [0.43875859, 0.05758334, 0.64402765, 0.93055502],\n",
       "       [0.77759748, 0.45310094, 0.96506834, 0.56490449],\n",
       "       [0.2347499 , 0.16136047, 0.68894375, 0.73892787],\n",
       "       [0.72366737, 0.03267487, 0.13370967, 0.31347589]])"
      ]
     },
     "execution_count": 20,
     "metadata": {},
     "output_type": "execute_result"
    }
   ],
   "source": [
    "data=np.random.rand(7,4)\n",
    "data"
   ]
  },
  {
   "cell_type": "code",
   "execution_count": 21,
   "metadata": {
    "collapsed": false
   },
   "outputs": [
    {
     "data": {
      "text/plain": [
       "array([[ True,  True, False, False],\n",
       "       [ True,  True, False, False],\n",
       "       [ True, False, False,  True],\n",
       "       [ True, False,  True,  True],\n",
       "       [ True,  True,  True,  True],\n",
       "       [False, False,  True,  True],\n",
       "       [ True, False, False, False]])"
      ]
     },
     "execution_count": 21,
     "metadata": {},
     "output_type": "execute_result"
    }
   ],
   "source": [
    "data > 0.4    # Comparison Operators: ==, !=, &, |"
   ]
  },
  {
   "cell_type": "code",
   "execution_count": 22,
   "metadata": {
    "collapsed": false
   },
   "outputs": [
    {
     "data": {
      "text/plain": [
       "array([0.43583053, 0.75807465, 0.71862549, 0.49713043, 0.88019802,\n",
       "       0.94806735, 0.43875859, 0.64402765, 0.93055502, 0.77759748,\n",
       "       0.45310094, 0.96506834, 0.56490449, 0.68894375, 0.73892787,\n",
       "       0.72366737])"
      ]
     },
     "execution_count": 22,
     "metadata": {},
     "output_type": "execute_result"
    }
   ],
   "source": [
    "data[(data>0.4)]"
   ]
  },
  {
   "cell_type": "markdown",
   "metadata": {
    "collapsed": true
   },
   "source": [
    "### 函数"
   ]
  },
  {
   "cell_type": "code",
   "execution_count": 29,
   "metadata": {
    "collapsed": false
   },
   "outputs": [
    {
     "data": {
      "text/plain": [
       "array([ 0.        ,  1.        ,  1.41421356,  1.73205081,  2.        ])"
      ]
     },
     "execution_count": 29,
     "metadata": {},
     "output_type": "execute_result"
    }
   ],
   "source": [
    "arr = np.arange(5)\n",
    "np.sqrt(arr)   #squar root function"
   ]
  },
  {
   "cell_type": "code",
   "execution_count": 30,
   "metadata": {
    "collapsed": false
   },
   "outputs": [
    {
     "data": {
      "text/plain": [
       "array([  1.        ,   2.71828183,   7.3890561 ,  20.08553692,  54.59815003])"
      ]
     },
     "execution_count": 30,
     "metadata": {},
     "output_type": "execute_result"
    }
   ],
   "source": [
    "np.exp(arr)   #exponentiation function"
   ]
  },
  {
   "cell_type": "code",
   "execution_count": 31,
   "metadata": {
    "collapsed": false
   },
   "outputs": [
    {
     "data": {
      "text/plain": [
       "2.0"
      ]
     },
     "execution_count": 31,
     "metadata": {},
     "output_type": "execute_result"
    }
   ],
   "source": [
    "np.mean(arr) #average function"
   ]
  },
  {
   "cell_type": "markdown",
   "metadata": {},
   "source": [
    "### <span style=\"color: red\">轮到你了:</span> "
   ]
  },
  {
   "cell_type": "markdown",
   "metadata": {},
   "source": [
    "创建一个3x2的numpy数组 (使用 __ones__ 函数), 然后选择其中的第2行"
   ]
  },
  {
   "cell_type": "code",
   "execution_count": null,
   "metadata": {
    "collapsed": false
   },
   "outputs": [],
   "source": [
    "## YOUR CODE BELOW\n",
    "\n",
    "\n"
   ]
  },
  {
   "cell_type": "markdown",
   "metadata": {},
   "source": [
    "<h1, align=\"center\">Pandas 库</h1>"
   ]
  },
  {
   "cell_type": "markdown",
   "metadata": {},
   "source": [
    "Pandas\n",
    "- 可用于大多数类型的数据分析\n",
    "- 可对结构化或表格化数据进行分析\n",
    "- 高层数据结构\n",
    "- 构建在NumPy之上  \n",
    "- 可进行时间序列操作\n",
    "\n",
    "\n",
    "对象:  \n",
    "- Series  \n",
    "- DataFrame  \n",
    "\n"
   ]
  },
  {
   "cell_type": "markdown",
   "metadata": {},
   "source": [
    "首先, 导入Pandas包"
   ]
  },
  {
   "cell_type": "code",
   "execution_count": 1,
   "metadata": {
    "collapsed": false
   },
   "outputs": [],
   "source": [
    "import pandas as pd"
   ]
  },
  {
   "cell_type": "markdown",
   "metadata": {},
   "source": [
    "### Series"
   ]
  },
  {
   "cell_type": "markdown",
   "metadata": {},
   "source": [
    "Series是一种类似一维数组的对象，其中包含了一个数据数组(可以具有任何NumPy的数据类型)和一个被称为索引的由数据标号构成的关联数组。"
   ]
  },
  {
   "cell_type": "code",
   "execution_count": 3,
   "metadata": {
    "collapsed": false
   },
   "outputs": [
    {
     "data": {
      "text/plain": [
       "d    4\n",
       "b    7\n",
       "a   -5\n",
       "c    3\n",
       "dtype: int64"
      ]
     },
     "execution_count": 3,
     "metadata": {},
     "output_type": "execute_result"
    }
   ],
   "source": [
    "obj2 = pd.Series([4, 7, -5, 3], index=['d', 'b', 'a', 'c'])\n",
    "obj2"
   ]
  },
  {
   "cell_type": "code",
   "execution_count": 25,
   "metadata": {
    "collapsed": false
   },
   "outputs": [
    {
     "data": {
      "text/plain": [
       "c    3\n",
       "a   -5\n",
       "d    4\n",
       "dtype: int64"
      ]
     },
     "execution_count": 25,
     "metadata": {},
     "output_type": "execute_result"
    }
   ],
   "source": [
    "obj2[['c', 'a', 'd']]"
   ]
  },
  {
   "cell_type": "code",
   "execution_count": 4,
   "metadata": {
    "collapsed": false
   },
   "outputs": [
    {
     "data": {
      "text/plain": [
       "False"
      ]
     },
     "execution_count": 4,
     "metadata": {},
     "output_type": "execute_result"
    }
   ],
   "source": [
    "'e' in obj2"
   ]
  },
  {
   "cell_type": "markdown",
   "metadata": {},
   "source": [
    "### DataFrame\n",
    "- 表示一种类似电子表格的数据结构\n",
    "- 每一列都可以包含不同的值类型(数值型, 字符串, 布尔型, 等等)\n",
    "- 具有行和列索引"
   ]
  },
  {
   "cell_type": "markdown",
   "metadata": {},
   "source": [
    "<h1, align=\"center\">按国家和年份统计的CO2排放量</h1>"
   ]
  },
  {
   "cell_type": "markdown",
   "metadata": {},
   "source": [
    "二氧化碳排放源自燃烧化石燃料和水泥制造，包含了在固体、液体和气体燃料消耗以及放空燃烧过程中所产生的二氧化碳"
   ]
  },
  {
   "cell_type": "markdown",
   "metadata": {},
   "source": [
    "http://data.worldbank.org/indicator/EN.ATM.CO2E.PC/"
   ]
  },
  {
   "cell_type": "markdown",
   "metadata": {},
   "source": [
    "<h2, align=center>获取数据</h2>"
   ]
  },
  {
   "cell_type": "markdown",
   "metadata": {},
   "source": [
    "这些数据可以从世界银行(World Bank) [链接](http://data.worldbank.org/indicator/EN.ATM.CO2E.PC/) 或者从 Box [链接](https://ibm.box.com/shared/static/3yzxbbizo49bkl8cnjw15tymzfwkycj4.csv) 上下载"
   ]
  },
  {
   "cell_type": "markdown",
   "metadata": {},
   "source": [
    "#### 我们在linux下可以使用bash命令 `wget` 从链接处获取 csv 文件"
   ]
  },
  {
   "cell_type": "code",
   "execution_count": null,
   "metadata": {
    "collapsed": false
   },
   "outputs": [],
   "source": [
    "!wget --output-document /resources/data/co2emissions.csv https://ibm.box.com/shared/static/3yzxbbizo49bkl8cnjw15tymzfwkycj4.csv"
   ]
  },
  {
   "cell_type": "markdown",
   "metadata": {},
   "source": [
    "<hr>"
   ]
  },
  {
   "cell_type": "markdown",
   "metadata": {},
   "source": [
    "<h2, align=center>使用 Pandas 导入数据</h2>"
   ]
  },
  {
   "cell_type": "markdown",
   "metadata": {},
   "source": [
    "#### 导入所需的 `pandas` 库"
   ]
  },
  {
   "cell_type": "code",
   "execution_count": 28,
   "metadata": {
    "collapsed": true
   },
   "outputs": [],
   "source": [
    "import pandas as pd"
   ]
  },
  {
   "cell_type": "markdown",
   "metadata": {},
   "source": [
    "#### 使用 `pd.read_csv` 导入数据"
   ]
  },
  {
   "cell_type": "code",
   "execution_count": 31,
   "metadata": {
    "collapsed": false
   },
   "outputs": [],
   "source": [
    "data = pd.read_csv(\"resources/data/co2emissions.csv\", skiprows = 4)"
   ]
  },
  {
   "cell_type": "code",
   "execution_count": 32,
   "metadata": {
    "collapsed": false
   },
   "outputs": [
    {
     "data": {
      "text/plain": [
       "pandas.core.frame.DataFrame"
      ]
     },
     "execution_count": 32,
     "metadata": {},
     "output_type": "execute_result"
    }
   ],
   "source": [
    "type(data) #Checks the type of object"
   ]
  },
  {
   "cell_type": "code",
   "execution_count": 33,
   "metadata": {
    "collapsed": false
   },
   "outputs": [
    {
     "data": {
      "text/html": [
       "<div>\n",
       "<style scoped>\n",
       "    .dataframe tbody tr th:only-of-type {\n",
       "        vertical-align: middle;\n",
       "    }\n",
       "\n",
       "    .dataframe tbody tr th {\n",
       "        vertical-align: top;\n",
       "    }\n",
       "\n",
       "    .dataframe thead th {\n",
       "        text-align: right;\n",
       "    }\n",
       "</style>\n",
       "<table border=\"1\" class=\"dataframe\">\n",
       "  <thead>\n",
       "    <tr style=\"text-align: right;\">\n",
       "      <th></th>\n",
       "      <th>Country Name</th>\n",
       "      <th>Country Code</th>\n",
       "      <th>Indicator Name</th>\n",
       "      <th>Indicator Code</th>\n",
       "      <th>1960</th>\n",
       "      <th>1961</th>\n",
       "      <th>1962</th>\n",
       "      <th>1963</th>\n",
       "      <th>1964</th>\n",
       "      <th>1965</th>\n",
       "      <th>...</th>\n",
       "      <th>2007</th>\n",
       "      <th>2008</th>\n",
       "      <th>2009</th>\n",
       "      <th>2010</th>\n",
       "      <th>2011</th>\n",
       "      <th>2012</th>\n",
       "      <th>2013</th>\n",
       "      <th>2014</th>\n",
       "      <th>2015</th>\n",
       "      <th>Unnamed: 60</th>\n",
       "    </tr>\n",
       "  </thead>\n",
       "  <tbody>\n",
       "    <tr>\n",
       "      <th>0</th>\n",
       "      <td>Aruba</td>\n",
       "      <td>ABW</td>\n",
       "      <td>CO2 emissions (metric tons per capita)</td>\n",
       "      <td>EN.ATM.CO2E.PC</td>\n",
       "      <td>NaN</td>\n",
       "      <td>NaN</td>\n",
       "      <td>NaN</td>\n",
       "      <td>NaN</td>\n",
       "      <td>NaN</td>\n",
       "      <td>NaN</td>\n",
       "      <td>...</td>\n",
       "      <td>25.613715</td>\n",
       "      <td>24.750133</td>\n",
       "      <td>24.876706</td>\n",
       "      <td>24.182702</td>\n",
       "      <td>23.922412</td>\n",
       "      <td>NaN</td>\n",
       "      <td>NaN</td>\n",
       "      <td>NaN</td>\n",
       "      <td>NaN</td>\n",
       "      <td>NaN</td>\n",
       "    </tr>\n",
       "    <tr>\n",
       "      <th>1</th>\n",
       "      <td>Andorra</td>\n",
       "      <td>AND</td>\n",
       "      <td>CO2 emissions (metric tons per capita)</td>\n",
       "      <td>EN.ATM.CO2E.PC</td>\n",
       "      <td>NaN</td>\n",
       "      <td>NaN</td>\n",
       "      <td>NaN</td>\n",
       "      <td>NaN</td>\n",
       "      <td>NaN</td>\n",
       "      <td>NaN</td>\n",
       "      <td>...</td>\n",
       "      <td>6.350868</td>\n",
       "      <td>6.296125</td>\n",
       "      <td>6.049173</td>\n",
       "      <td>6.124770</td>\n",
       "      <td>5.968685</td>\n",
       "      <td>NaN</td>\n",
       "      <td>NaN</td>\n",
       "      <td>NaN</td>\n",
       "      <td>NaN</td>\n",
       "      <td>NaN</td>\n",
       "    </tr>\n",
       "    <tr>\n",
       "      <th>2</th>\n",
       "      <td>Afghanistan</td>\n",
       "      <td>AFG</td>\n",
       "      <td>CO2 emissions (metric tons per capita)</td>\n",
       "      <td>EN.ATM.CO2E.PC</td>\n",
       "      <td>0.046068</td>\n",
       "      <td>0.053615</td>\n",
       "      <td>0.073781</td>\n",
       "      <td>0.074251</td>\n",
       "      <td>0.086317</td>\n",
       "      <td>0.101499</td>\n",
       "      <td>...</td>\n",
       "      <td>0.088141</td>\n",
       "      <td>0.158962</td>\n",
       "      <td>0.249074</td>\n",
       "      <td>0.302936</td>\n",
       "      <td>0.425262</td>\n",
       "      <td>NaN</td>\n",
       "      <td>NaN</td>\n",
       "      <td>NaN</td>\n",
       "      <td>NaN</td>\n",
       "      <td>NaN</td>\n",
       "    </tr>\n",
       "    <tr>\n",
       "      <th>3</th>\n",
       "      <td>Angola</td>\n",
       "      <td>AGO</td>\n",
       "      <td>CO2 emissions (metric tons per capita)</td>\n",
       "      <td>EN.ATM.CO2E.PC</td>\n",
       "      <td>0.104357</td>\n",
       "      <td>0.084718</td>\n",
       "      <td>0.216025</td>\n",
       "      <td>0.206877</td>\n",
       "      <td>0.216174</td>\n",
       "      <td>0.206089</td>\n",
       "      <td>...</td>\n",
       "      <td>1.311096</td>\n",
       "      <td>1.369425</td>\n",
       "      <td>1.430873</td>\n",
       "      <td>1.401654</td>\n",
       "      <td>1.354008</td>\n",
       "      <td>NaN</td>\n",
       "      <td>NaN</td>\n",
       "      <td>NaN</td>\n",
       "      <td>NaN</td>\n",
       "      <td>NaN</td>\n",
       "    </tr>\n",
       "    <tr>\n",
       "      <th>4</th>\n",
       "      <td>Albania</td>\n",
       "      <td>ALB</td>\n",
       "      <td>CO2 emissions (metric tons per capita)</td>\n",
       "      <td>EN.ATM.CO2E.PC</td>\n",
       "      <td>1.258195</td>\n",
       "      <td>1.374186</td>\n",
       "      <td>1.439956</td>\n",
       "      <td>1.181681</td>\n",
       "      <td>1.111742</td>\n",
       "      <td>1.166099</td>\n",
       "      <td>...</td>\n",
       "      <td>1.507536</td>\n",
       "      <td>1.580113</td>\n",
       "      <td>1.533178</td>\n",
       "      <td>1.515632</td>\n",
       "      <td>1.607038</td>\n",
       "      <td>NaN</td>\n",
       "      <td>NaN</td>\n",
       "      <td>NaN</td>\n",
       "      <td>NaN</td>\n",
       "      <td>NaN</td>\n",
       "    </tr>\n",
       "    <tr>\n",
       "      <th>5</th>\n",
       "      <td>Arab World</td>\n",
       "      <td>ARB</td>\n",
       "      <td>CO2 emissions (metric tons per capita)</td>\n",
       "      <td>EN.ATM.CO2E.PC</td>\n",
       "      <td>0.643964</td>\n",
       "      <td>0.685501</td>\n",
       "      <td>0.761148</td>\n",
       "      <td>0.875124</td>\n",
       "      <td>0.999248</td>\n",
       "      <td>1.166075</td>\n",
       "      <td>...</td>\n",
       "      <td>4.181153</td>\n",
       "      <td>4.373573</td>\n",
       "      <td>4.575251</td>\n",
       "      <td>4.764912</td>\n",
       "      <td>4.724500</td>\n",
       "      <td>NaN</td>\n",
       "      <td>NaN</td>\n",
       "      <td>NaN</td>\n",
       "      <td>NaN</td>\n",
       "      <td>NaN</td>\n",
       "    </tr>\n",
       "    <tr>\n",
       "      <th>6</th>\n",
       "      <td>United Arab Emirates</td>\n",
       "      <td>ARE</td>\n",
       "      <td>CO2 emissions (metric tons per capita)</td>\n",
       "      <td>EN.ATM.CO2E.PC</td>\n",
       "      <td>0.118786</td>\n",
       "      <td>0.108937</td>\n",
       "      <td>0.163355</td>\n",
       "      <td>0.175712</td>\n",
       "      <td>0.132651</td>\n",
       "      <td>0.146370</td>\n",
       "      <td>...</td>\n",
       "      <td>23.195067</td>\n",
       "      <td>23.033600</td>\n",
       "      <td>21.102296</td>\n",
       "      <td>20.120957</td>\n",
       "      <td>20.433838</td>\n",
       "      <td>NaN</td>\n",
       "      <td>NaN</td>\n",
       "      <td>NaN</td>\n",
       "      <td>NaN</td>\n",
       "      <td>NaN</td>\n",
       "    </tr>\n",
       "    <tr>\n",
       "      <th>7</th>\n",
       "      <td>Argentina</td>\n",
       "      <td>ARG</td>\n",
       "      <td>CO2 emissions (metric tons per capita)</td>\n",
       "      <td>EN.ATM.CO2E.PC</td>\n",
       "      <td>2.367473</td>\n",
       "      <td>2.442616</td>\n",
       "      <td>2.522392</td>\n",
       "      <td>2.316356</td>\n",
       "      <td>2.538380</td>\n",
       "      <td>2.641714</td>\n",
       "      <td>...</td>\n",
       "      <td>4.496834</td>\n",
       "      <td>4.744178</td>\n",
       "      <td>4.427960</td>\n",
       "      <td>4.342272</td>\n",
       "      <td>4.562049</td>\n",
       "      <td>NaN</td>\n",
       "      <td>NaN</td>\n",
       "      <td>NaN</td>\n",
       "      <td>NaN</td>\n",
       "      <td>NaN</td>\n",
       "    </tr>\n",
       "    <tr>\n",
       "      <th>8</th>\n",
       "      <td>Armenia</td>\n",
       "      <td>ARM</td>\n",
       "      <td>CO2 emissions (metric tons per capita)</td>\n",
       "      <td>EN.ATM.CO2E.PC</td>\n",
       "      <td>NaN</td>\n",
       "      <td>NaN</td>\n",
       "      <td>NaN</td>\n",
       "      <td>NaN</td>\n",
       "      <td>NaN</td>\n",
       "      <td>NaN</td>\n",
       "      <td>...</td>\n",
       "      <td>1.694755</td>\n",
       "      <td>1.868611</td>\n",
       "      <td>1.469961</td>\n",
       "      <td>1.422998</td>\n",
       "      <td>1.671657</td>\n",
       "      <td>NaN</td>\n",
       "      <td>NaN</td>\n",
       "      <td>NaN</td>\n",
       "      <td>NaN</td>\n",
       "      <td>NaN</td>\n",
       "    </tr>\n",
       "    <tr>\n",
       "      <th>9</th>\n",
       "      <td>American Samoa</td>\n",
       "      <td>ASM</td>\n",
       "      <td>CO2 emissions (metric tons per capita)</td>\n",
       "      <td>EN.ATM.CO2E.PC</td>\n",
       "      <td>NaN</td>\n",
       "      <td>NaN</td>\n",
       "      <td>NaN</td>\n",
       "      <td>NaN</td>\n",
       "      <td>NaN</td>\n",
       "      <td>NaN</td>\n",
       "      <td>...</td>\n",
       "      <td>NaN</td>\n",
       "      <td>NaN</td>\n",
       "      <td>NaN</td>\n",
       "      <td>NaN</td>\n",
       "      <td>NaN</td>\n",
       "      <td>NaN</td>\n",
       "      <td>NaN</td>\n",
       "      <td>NaN</td>\n",
       "      <td>NaN</td>\n",
       "      <td>NaN</td>\n",
       "    </tr>\n",
       "    <tr>\n",
       "      <th>10</th>\n",
       "      <td>Antigua and Barbuda</td>\n",
       "      <td>ATG</td>\n",
       "      <td>CO2 emissions (metric tons per capita)</td>\n",
       "      <td>EN.ATM.CO2E.PC</td>\n",
       "      <td>0.670617</td>\n",
       "      <td>0.860441</td>\n",
       "      <td>1.823374</td>\n",
       "      <td>1.470175</td>\n",
       "      <td>1.567094</td>\n",
       "      <td>2.520359</td>\n",
       "      <td>...</td>\n",
       "      <td>5.561525</td>\n",
       "      <td>5.628319</td>\n",
       "      <td>5.906292</td>\n",
       "      <td>6.011269</td>\n",
       "      <td>5.823804</td>\n",
       "      <td>NaN</td>\n",
       "      <td>NaN</td>\n",
       "      <td>NaN</td>\n",
       "      <td>NaN</td>\n",
       "      <td>NaN</td>\n",
       "    </tr>\n",
       "    <tr>\n",
       "      <th>11</th>\n",
       "      <td>Australia</td>\n",
       "      <td>AUS</td>\n",
       "      <td>CO2 emissions (metric tons per capita)</td>\n",
       "      <td>EN.ATM.CO2E.PC</td>\n",
       "      <td>8.582937</td>\n",
       "      <td>8.641569</td>\n",
       "      <td>8.835688</td>\n",
       "      <td>9.226440</td>\n",
       "      <td>9.759073</td>\n",
       "      <td>10.622321</td>\n",
       "      <td>...</td>\n",
       "      <td>17.467002</td>\n",
       "      <td>17.704080</td>\n",
       "      <td>17.631833</td>\n",
       "      <td>16.710904</td>\n",
       "      <td>16.519210</td>\n",
       "      <td>NaN</td>\n",
       "      <td>NaN</td>\n",
       "      <td>NaN</td>\n",
       "      <td>NaN</td>\n",
       "      <td>NaN</td>\n",
       "    </tr>\n",
       "    <tr>\n",
       "      <th>12</th>\n",
       "      <td>Austria</td>\n",
       "      <td>AUT</td>\n",
       "      <td>CO2 emissions (metric tons per capita)</td>\n",
       "      <td>EN.ATM.CO2E.PC</td>\n",
       "      <td>4.373319</td>\n",
       "      <td>4.496362</td>\n",
       "      <td>4.755362</td>\n",
       "      <td>5.155194</td>\n",
       "      <td>5.391004</td>\n",
       "      <td>5.252197</td>\n",
       "      <td>...</td>\n",
       "      <td>8.405093</td>\n",
       "      <td>8.262046</td>\n",
       "      <td>7.608851</td>\n",
       "      <td>8.127693</td>\n",
       "      <td>7.769983</td>\n",
       "      <td>NaN</td>\n",
       "      <td>NaN</td>\n",
       "      <td>NaN</td>\n",
       "      <td>NaN</td>\n",
       "      <td>NaN</td>\n",
       "    </tr>\n",
       "    <tr>\n",
       "      <th>13</th>\n",
       "      <td>Azerbaijan</td>\n",
       "      <td>AZE</td>\n",
       "      <td>CO2 emissions (metric tons per capita)</td>\n",
       "      <td>EN.ATM.CO2E.PC</td>\n",
       "      <td>NaN</td>\n",
       "      <td>NaN</td>\n",
       "      <td>NaN</td>\n",
       "      <td>NaN</td>\n",
       "      <td>NaN</td>\n",
       "      <td>NaN</td>\n",
       "      <td>...</td>\n",
       "      <td>3.555340</td>\n",
       "      <td>4.051383</td>\n",
       "      <td>3.565668</td>\n",
       "      <td>3.388226</td>\n",
       "      <td>3.647379</td>\n",
       "      <td>NaN</td>\n",
       "      <td>NaN</td>\n",
       "      <td>NaN</td>\n",
       "      <td>NaN</td>\n",
       "      <td>NaN</td>\n",
       "    </tr>\n",
       "    <tr>\n",
       "      <th>14</th>\n",
       "      <td>Burundi</td>\n",
       "      <td>BDI</td>\n",
       "      <td>CO2 emissions (metric tons per capita)</td>\n",
       "      <td>EN.ATM.CO2E.PC</td>\n",
       "      <td>NaN</td>\n",
       "      <td>NaN</td>\n",
       "      <td>0.015203</td>\n",
       "      <td>0.016155</td>\n",
       "      <td>0.015827</td>\n",
       "      <td>0.011910</td>\n",
       "      <td>...</td>\n",
       "      <td>0.021964</td>\n",
       "      <td>0.021615</td>\n",
       "      <td>0.020868</td>\n",
       "      <td>0.020542</td>\n",
       "      <td>0.021350</td>\n",
       "      <td>NaN</td>\n",
       "      <td>NaN</td>\n",
       "      <td>NaN</td>\n",
       "      <td>NaN</td>\n",
       "      <td>NaN</td>\n",
       "    </tr>\n",
       "    <tr>\n",
       "      <th>15</th>\n",
       "      <td>Belgium</td>\n",
       "      <td>BEL</td>\n",
       "      <td>CO2 emissions (metric tons per capita)</td>\n",
       "      <td>EN.ATM.CO2E.PC</td>\n",
       "      <td>9.941594</td>\n",
       "      <td>10.103872</td>\n",
       "      <td>10.641190</td>\n",
       "      <td>11.386929</td>\n",
       "      <td>11.053655</td>\n",
       "      <td>11.141656</td>\n",
       "      <td>...</td>\n",
       "      <td>9.713718</td>\n",
       "      <td>9.699599</td>\n",
       "      <td>9.634776</td>\n",
       "      <td>9.989976</td>\n",
       "      <td>8.849398</td>\n",
       "      <td>NaN</td>\n",
       "      <td>NaN</td>\n",
       "      <td>NaN</td>\n",
       "      <td>NaN</td>\n",
       "      <td>NaN</td>\n",
       "    </tr>\n",
       "    <tr>\n",
       "      <th>16</th>\n",
       "      <td>Benin</td>\n",
       "      <td>BEN</td>\n",
       "      <td>CO2 emissions (metric tons per capita)</td>\n",
       "      <td>EN.ATM.CO2E.PC</td>\n",
       "      <td>0.066354</td>\n",
       "      <td>0.052046</td>\n",
       "      <td>0.054202</td>\n",
       "      <td>0.047580</td>\n",
       "      <td>0.055295</td>\n",
       "      <td>0.057115</td>\n",
       "      <td>...</td>\n",
       "      <td>0.516299</td>\n",
       "      <td>0.500183</td>\n",
       "      <td>0.514278</td>\n",
       "      <td>0.541771</td>\n",
       "      <td>0.509962</td>\n",
       "      <td>NaN</td>\n",
       "      <td>NaN</td>\n",
       "      <td>NaN</td>\n",
       "      <td>NaN</td>\n",
       "      <td>NaN</td>\n",
       "    </tr>\n",
       "    <tr>\n",
       "      <th>17</th>\n",
       "      <td>Burkina Faso</td>\n",
       "      <td>BFA</td>\n",
       "      <td>CO2 emissions (metric tons per capita)</td>\n",
       "      <td>EN.ATM.CO2E.PC</td>\n",
       "      <td>0.009112</td>\n",
       "      <td>0.018730</td>\n",
       "      <td>0.017003</td>\n",
       "      <td>0.017504</td>\n",
       "      <td>0.021575</td>\n",
       "      <td>0.019841</td>\n",
       "      <td>...</td>\n",
       "      <td>0.115429</td>\n",
       "      <td>0.115427</td>\n",
       "      <td>0.109774</td>\n",
       "      <td>0.107673</td>\n",
       "      <td>0.119981</td>\n",
       "      <td>NaN</td>\n",
       "      <td>NaN</td>\n",
       "      <td>NaN</td>\n",
       "      <td>NaN</td>\n",
       "      <td>NaN</td>\n",
       "    </tr>\n",
       "    <tr>\n",
       "      <th>18</th>\n",
       "      <td>Bangladesh</td>\n",
       "      <td>BGD</td>\n",
       "      <td>CO2 emissions (metric tons per capita)</td>\n",
       "      <td>EN.ATM.CO2E.PC</td>\n",
       "      <td>NaN</td>\n",
       "      <td>NaN</td>\n",
       "      <td>NaN</td>\n",
       "      <td>NaN</td>\n",
       "      <td>NaN</td>\n",
       "      <td>NaN</td>\n",
       "      <td>...</td>\n",
       "      <td>0.319840</td>\n",
       "      <td>0.334440</td>\n",
       "      <td>0.352155</td>\n",
       "      <td>0.370360</td>\n",
       "      <td>0.372017</td>\n",
       "      <td>NaN</td>\n",
       "      <td>NaN</td>\n",
       "      <td>NaN</td>\n",
       "      <td>NaN</td>\n",
       "      <td>NaN</td>\n",
       "    </tr>\n",
       "    <tr>\n",
       "      <th>19</th>\n",
       "      <td>Bulgaria</td>\n",
       "      <td>BGR</td>\n",
       "      <td>CO2 emissions (metric tons per capita)</td>\n",
       "      <td>EN.ATM.CO2E.PC</td>\n",
       "      <td>2.833901</td>\n",
       "      <td>3.269920</td>\n",
       "      <td>3.835892</td>\n",
       "      <td>4.259781</td>\n",
       "      <td>5.262988</td>\n",
       "      <td>5.645652</td>\n",
       "      <td>...</td>\n",
       "      <td>6.916687</td>\n",
       "      <td>6.778939</td>\n",
       "      <td>5.729716</td>\n",
       "      <td>5.966884</td>\n",
       "      <td>6.714383</td>\n",
       "      <td>NaN</td>\n",
       "      <td>NaN</td>\n",
       "      <td>NaN</td>\n",
       "      <td>NaN</td>\n",
       "      <td>NaN</td>\n",
       "    </tr>\n",
       "    <tr>\n",
       "      <th>20</th>\n",
       "      <td>Bahrain</td>\n",
       "      <td>BHR</td>\n",
       "      <td>CO2 emissions (metric tons per capita)</td>\n",
       "      <td>EN.ATM.CO2E.PC</td>\n",
       "      <td>3.542864</td>\n",
       "      <td>10.547396</td>\n",
       "      <td>9.193609</td>\n",
       "      <td>6.714156</td>\n",
       "      <td>8.747480</td>\n",
       "      <td>6.557022</td>\n",
       "      <td>...</td>\n",
       "      <td>21.443296</td>\n",
       "      <td>21.519995</td>\n",
       "      <td>18.136234</td>\n",
       "      <td>18.435025</td>\n",
       "      <td>17.947330</td>\n",
       "      <td>NaN</td>\n",
       "      <td>NaN</td>\n",
       "      <td>NaN</td>\n",
       "      <td>NaN</td>\n",
       "      <td>NaN</td>\n",
       "    </tr>\n",
       "    <tr>\n",
       "      <th>21</th>\n",
       "      <td>Bahamas, The</td>\n",
       "      <td>BHS</td>\n",
       "      <td>CO2 emissions (metric tons per capita)</td>\n",
       "      <td>EN.ATM.CO2E.PC</td>\n",
       "      <td>3.749831</td>\n",
       "      <td>4.746699</td>\n",
       "      <td>5.996432</td>\n",
       "      <td>5.558199</td>\n",
       "      <td>8.118597</td>\n",
       "      <td>9.399946</td>\n",
       "      <td>...</td>\n",
       "      <td>4.521354</td>\n",
       "      <td>2.998089</td>\n",
       "      <td>4.630520</td>\n",
       "      <td>6.829321</td>\n",
       "      <td>5.199844</td>\n",
       "      <td>NaN</td>\n",
       "      <td>NaN</td>\n",
       "      <td>NaN</td>\n",
       "      <td>NaN</td>\n",
       "      <td>NaN</td>\n",
       "    </tr>\n",
       "    <tr>\n",
       "      <th>22</th>\n",
       "      <td>Bosnia and Herzegovina</td>\n",
       "      <td>BIH</td>\n",
       "      <td>CO2 emissions (metric tons per capita)</td>\n",
       "      <td>EN.ATM.CO2E.PC</td>\n",
       "      <td>NaN</td>\n",
       "      <td>NaN</td>\n",
       "      <td>NaN</td>\n",
       "      <td>NaN</td>\n",
       "      <td>NaN</td>\n",
       "      <td>NaN</td>\n",
       "      <td>...</td>\n",
       "      <td>4.580387</td>\n",
       "      <td>5.231547</td>\n",
       "      <td>5.371890</td>\n",
       "      <td>5.513994</td>\n",
       "      <td>6.196652</td>\n",
       "      <td>NaN</td>\n",
       "      <td>NaN</td>\n",
       "      <td>NaN</td>\n",
       "      <td>NaN</td>\n",
       "      <td>NaN</td>\n",
       "    </tr>\n",
       "    <tr>\n",
       "      <th>23</th>\n",
       "      <td>Belarus</td>\n",
       "      <td>BLR</td>\n",
       "      <td>CO2 emissions (metric tons per capita)</td>\n",
       "      <td>EN.ATM.CO2E.PC</td>\n",
       "      <td>NaN</td>\n",
       "      <td>NaN</td>\n",
       "      <td>NaN</td>\n",
       "      <td>NaN</td>\n",
       "      <td>NaN</td>\n",
       "      <td>NaN</td>\n",
       "      <td>...</td>\n",
       "      <td>6.305629</td>\n",
       "      <td>6.592749</td>\n",
       "      <td>6.341939</td>\n",
       "      <td>6.556550</td>\n",
       "      <td>6.682510</td>\n",
       "      <td>NaN</td>\n",
       "      <td>NaN</td>\n",
       "      <td>NaN</td>\n",
       "      <td>NaN</td>\n",
       "      <td>NaN</td>\n",
       "    </tr>\n",
       "    <tr>\n",
       "      <th>24</th>\n",
       "      <td>Belize</td>\n",
       "      <td>BLZ</td>\n",
       "      <td>CO2 emissions (metric tons per capita)</td>\n",
       "      <td>EN.ATM.CO2E.PC</td>\n",
       "      <td>0.477951</td>\n",
       "      <td>0.387219</td>\n",
       "      <td>0.715409</td>\n",
       "      <td>0.622357</td>\n",
       "      <td>0.818289</td>\n",
       "      <td>0.794763</td>\n",
       "      <td>...</td>\n",
       "      <td>1.536094</td>\n",
       "      <td>1.473196</td>\n",
       "      <td>1.495185</td>\n",
       "      <td>1.721709</td>\n",
       "      <td>1.670904</td>\n",
       "      <td>NaN</td>\n",
       "      <td>NaN</td>\n",
       "      <td>NaN</td>\n",
       "      <td>NaN</td>\n",
       "      <td>NaN</td>\n",
       "    </tr>\n",
       "    <tr>\n",
       "      <th>25</th>\n",
       "      <td>Bermuda</td>\n",
       "      <td>BMU</td>\n",
       "      <td>CO2 emissions (metric tons per capita)</td>\n",
       "      <td>EN.ATM.CO2E.PC</td>\n",
       "      <td>3.551374</td>\n",
       "      <td>3.868484</td>\n",
       "      <td>3.383712</td>\n",
       "      <td>3.151929</td>\n",
       "      <td>4.124438</td>\n",
       "      <td>3.586487</td>\n",
       "      <td>...</td>\n",
       "      <td>7.968299</td>\n",
       "      <td>5.955020</td>\n",
       "      <td>7.095329</td>\n",
       "      <td>7.320036</td>\n",
       "      <td>6.077210</td>\n",
       "      <td>NaN</td>\n",
       "      <td>NaN</td>\n",
       "      <td>NaN</td>\n",
       "      <td>NaN</td>\n",
       "      <td>NaN</td>\n",
       "    </tr>\n",
       "    <tr>\n",
       "      <th>26</th>\n",
       "      <td>Bolivia</td>\n",
       "      <td>BOL</td>\n",
       "      <td>CO2 emissions (metric tons per capita)</td>\n",
       "      <td>EN.ATM.CO2E.PC</td>\n",
       "      <td>0.272038</td>\n",
       "      <td>0.276621</td>\n",
       "      <td>0.286626</td>\n",
       "      <td>0.310159</td>\n",
       "      <td>0.371216</td>\n",
       "      <td>0.371151</td>\n",
       "      <td>...</td>\n",
       "      <td>1.318204</td>\n",
       "      <td>1.412189</td>\n",
       "      <td>1.459841</td>\n",
       "      <td>1.547659</td>\n",
       "      <td>1.599499</td>\n",
       "      <td>NaN</td>\n",
       "      <td>NaN</td>\n",
       "      <td>NaN</td>\n",
       "      <td>NaN</td>\n",
       "      <td>NaN</td>\n",
       "    </tr>\n",
       "    <tr>\n",
       "      <th>27</th>\n",
       "      <td>Brazil</td>\n",
       "      <td>BRA</td>\n",
       "      <td>CO2 emissions (metric tons per capita)</td>\n",
       "      <td>EN.ATM.CO2E.PC</td>\n",
       "      <td>0.647068</td>\n",
       "      <td>0.658625</td>\n",
       "      <td>0.697281</td>\n",
       "      <td>0.700749</td>\n",
       "      <td>0.694001</td>\n",
       "      <td>0.670372</td>\n",
       "      <td>...</td>\n",
       "      <td>1.884034</td>\n",
       "      <td>1.990429</td>\n",
       "      <td>1.866522</td>\n",
       "      <td>2.113415</td>\n",
       "      <td>2.191394</td>\n",
       "      <td>NaN</td>\n",
       "      <td>NaN</td>\n",
       "      <td>NaN</td>\n",
       "      <td>NaN</td>\n",
       "      <td>NaN</td>\n",
       "    </tr>\n",
       "    <tr>\n",
       "      <th>28</th>\n",
       "      <td>Barbados</td>\n",
       "      <td>BRB</td>\n",
       "      <td>CO2 emissions (metric tons per capita)</td>\n",
       "      <td>EN.ATM.CO2E.PC</td>\n",
       "      <td>0.746313</td>\n",
       "      <td>0.838899</td>\n",
       "      <td>1.119411</td>\n",
       "      <td>0.816330</td>\n",
       "      <td>0.766085</td>\n",
       "      <td>0.872454</td>\n",
       "      <td>...</td>\n",
       "      <td>5.178741</td>\n",
       "      <td>5.871114</td>\n",
       "      <td>5.833678</td>\n",
       "      <td>5.430338</td>\n",
       "      <td>5.580178</td>\n",
       "      <td>NaN</td>\n",
       "      <td>NaN</td>\n",
       "      <td>NaN</td>\n",
       "      <td>NaN</td>\n",
       "      <td>NaN</td>\n",
       "    </tr>\n",
       "    <tr>\n",
       "      <th>29</th>\n",
       "      <td>Brunei Darussalam</td>\n",
       "      <td>BRN</td>\n",
       "      <td>CO2 emissions (metric tons per capita)</td>\n",
       "      <td>EN.ATM.CO2E.PC</td>\n",
       "      <td>4.078179</td>\n",
       "      <td>3.552009</td>\n",
       "      <td>4.133422</td>\n",
       "      <td>3.798174</td>\n",
       "      <td>3.482289</td>\n",
       "      <td>3.254787</td>\n",
       "      <td>...</td>\n",
       "      <td>24.178409</td>\n",
       "      <td>26.338271</td>\n",
       "      <td>22.149029</td>\n",
       "      <td>21.873222</td>\n",
       "      <td>24.392013</td>\n",
       "      <td>NaN</td>\n",
       "      <td>NaN</td>\n",
       "      <td>NaN</td>\n",
       "      <td>NaN</td>\n",
       "      <td>NaN</td>\n",
       "    </tr>\n",
       "    <tr>\n",
       "      <th>...</th>\n",
       "      <td>...</td>\n",
       "      <td>...</td>\n",
       "      <td>...</td>\n",
       "      <td>...</td>\n",
       "      <td>...</td>\n",
       "      <td>...</td>\n",
       "      <td>...</td>\n",
       "      <td>...</td>\n",
       "      <td>...</td>\n",
       "      <td>...</td>\n",
       "      <td>...</td>\n",
       "      <td>...</td>\n",
       "      <td>...</td>\n",
       "      <td>...</td>\n",
       "      <td>...</td>\n",
       "      <td>...</td>\n",
       "      <td>...</td>\n",
       "      <td>...</td>\n",
       "      <td>...</td>\n",
       "      <td>...</td>\n",
       "      <td>...</td>\n",
       "    </tr>\n",
       "    <tr>\n",
       "      <th>219</th>\n",
       "      <td>Thailand</td>\n",
       "      <td>THA</td>\n",
       "      <td>CO2 emissions (metric tons per capita)</td>\n",
       "      <td>EN.ATM.CO2E.PC</td>\n",
       "      <td>0.135586</td>\n",
       "      <td>0.146944</td>\n",
       "      <td>0.173130</td>\n",
       "      <td>0.185877</td>\n",
       "      <td>0.242240</td>\n",
       "      <td>0.234151</td>\n",
       "      <td>...</td>\n",
       "      <td>3.994687</td>\n",
       "      <td>3.984060</td>\n",
       "      <td>4.198512</td>\n",
       "      <td>4.470426</td>\n",
       "      <td>4.534492</td>\n",
       "      <td>NaN</td>\n",
       "      <td>NaN</td>\n",
       "      <td>NaN</td>\n",
       "      <td>NaN</td>\n",
       "      <td>NaN</td>\n",
       "    </tr>\n",
       "    <tr>\n",
       "      <th>220</th>\n",
       "      <td>Tajikistan</td>\n",
       "      <td>TJK</td>\n",
       "      <td>CO2 emissions (metric tons per capita)</td>\n",
       "      <td>EN.ATM.CO2E.PC</td>\n",
       "      <td>NaN</td>\n",
       "      <td>NaN</td>\n",
       "      <td>NaN</td>\n",
       "      <td>NaN</td>\n",
       "      <td>NaN</td>\n",
       "      <td>NaN</td>\n",
       "      <td>...</td>\n",
       "      <td>0.463345</td>\n",
       "      <td>0.409462</td>\n",
       "      <td>0.382775</td>\n",
       "      <td>0.373873</td>\n",
       "      <td>0.358948</td>\n",
       "      <td>NaN</td>\n",
       "      <td>NaN</td>\n",
       "      <td>NaN</td>\n",
       "      <td>NaN</td>\n",
       "      <td>NaN</td>\n",
       "    </tr>\n",
       "    <tr>\n",
       "      <th>221</th>\n",
       "      <td>Turkmenistan</td>\n",
       "      <td>TKM</td>\n",
       "      <td>CO2 emissions (metric tons per capita)</td>\n",
       "      <td>EN.ATM.CO2E.PC</td>\n",
       "      <td>NaN</td>\n",
       "      <td>NaN</td>\n",
       "      <td>NaN</td>\n",
       "      <td>NaN</td>\n",
       "      <td>NaN</td>\n",
       "      <td>NaN</td>\n",
       "      <td>...</td>\n",
       "      <td>11.535622</td>\n",
       "      <td>11.557572</td>\n",
       "      <td>10.110661</td>\n",
       "      <td>11.358111</td>\n",
       "      <td>12.183667</td>\n",
       "      <td>NaN</td>\n",
       "      <td>NaN</td>\n",
       "      <td>NaN</td>\n",
       "      <td>NaN</td>\n",
       "      <td>NaN</td>\n",
       "    </tr>\n",
       "    <tr>\n",
       "      <th>222</th>\n",
       "      <td>Timor-Leste</td>\n",
       "      <td>TLS</td>\n",
       "      <td>CO2 emissions (metric tons per capita)</td>\n",
       "      <td>EN.ATM.CO2E.PC</td>\n",
       "      <td>NaN</td>\n",
       "      <td>NaN</td>\n",
       "      <td>NaN</td>\n",
       "      <td>NaN</td>\n",
       "      <td>NaN</td>\n",
       "      <td>NaN</td>\n",
       "      <td>...</td>\n",
       "      <td>0.180962</td>\n",
       "      <td>0.185017</td>\n",
       "      <td>0.174891</td>\n",
       "      <td>0.171932</td>\n",
       "      <td>0.163648</td>\n",
       "      <td>NaN</td>\n",
       "      <td>NaN</td>\n",
       "      <td>NaN</td>\n",
       "      <td>NaN</td>\n",
       "      <td>NaN</td>\n",
       "    </tr>\n",
       "    <tr>\n",
       "      <th>223</th>\n",
       "      <td>Tonga</td>\n",
       "      <td>TON</td>\n",
       "      <td>CO2 emissions (metric tons per capita)</td>\n",
       "      <td>EN.ATM.CO2E.PC</td>\n",
       "      <td>0.178588</td>\n",
       "      <td>0.172592</td>\n",
       "      <td>0.166040</td>\n",
       "      <td>0.159435</td>\n",
       "      <td>0.153309</td>\n",
       "      <td>0.147936</td>\n",
       "      <td>...</td>\n",
       "      <td>1.112637</td>\n",
       "      <td>1.176967</td>\n",
       "      <td>1.276514</td>\n",
       "      <td>1.128883</td>\n",
       "      <td>0.983562</td>\n",
       "      <td>NaN</td>\n",
       "      <td>NaN</td>\n",
       "      <td>NaN</td>\n",
       "      <td>NaN</td>\n",
       "      <td>NaN</td>\n",
       "    </tr>\n",
       "    <tr>\n",
       "      <th>224</th>\n",
       "      <td>Trinidad and Tobago</td>\n",
       "      <td>TTO</td>\n",
       "      <td>CO2 emissions (metric tons per capita)</td>\n",
       "      <td>EN.ATM.CO2E.PC</td>\n",
       "      <td>3.042576</td>\n",
       "      <td>5.318141</td>\n",
       "      <td>8.225570</td>\n",
       "      <td>1.466683</td>\n",
       "      <td>4.201774</td>\n",
       "      <td>5.694904</td>\n",
       "      <td>...</td>\n",
       "      <td>36.816763</td>\n",
       "      <td>35.455298</td>\n",
       "      <td>36.569448</td>\n",
       "      <td>38.337841</td>\n",
       "      <td>37.140054</td>\n",
       "      <td>NaN</td>\n",
       "      <td>NaN</td>\n",
       "      <td>NaN</td>\n",
       "      <td>NaN</td>\n",
       "      <td>NaN</td>\n",
       "    </tr>\n",
       "    <tr>\n",
       "      <th>225</th>\n",
       "      <td>Tunisia</td>\n",
       "      <td>TUN</td>\n",
       "      <td>CO2 emissions (metric tons per capita)</td>\n",
       "      <td>EN.ATM.CO2E.PC</td>\n",
       "      <td>0.409211</td>\n",
       "      <td>0.413220</td>\n",
       "      <td>0.412987</td>\n",
       "      <td>0.438885</td>\n",
       "      <td>0.608626</td>\n",
       "      <td>0.532230</td>\n",
       "      <td>...</td>\n",
       "      <td>2.357974</td>\n",
       "      <td>2.403508</td>\n",
       "      <td>2.374157</td>\n",
       "      <td>2.535619</td>\n",
       "      <td>2.402456</td>\n",
       "      <td>NaN</td>\n",
       "      <td>NaN</td>\n",
       "      <td>NaN</td>\n",
       "      <td>NaN</td>\n",
       "      <td>NaN</td>\n",
       "    </tr>\n",
       "    <tr>\n",
       "      <th>226</th>\n",
       "      <td>Turkey</td>\n",
       "      <td>TUR</td>\n",
       "      <td>CO2 emissions (metric tons per capita)</td>\n",
       "      <td>EN.ATM.CO2E.PC</td>\n",
       "      <td>0.610473</td>\n",
       "      <td>0.615079</td>\n",
       "      <td>0.748241</td>\n",
       "      <td>0.765934</td>\n",
       "      <td>0.869390</td>\n",
       "      <td>0.883506</td>\n",
       "      <td>...</td>\n",
       "      <td>4.094889</td>\n",
       "      <td>4.055397</td>\n",
       "      <td>3.898959</td>\n",
       "      <td>4.121155</td>\n",
       "      <td>4.383105</td>\n",
       "      <td>NaN</td>\n",
       "      <td>NaN</td>\n",
       "      <td>NaN</td>\n",
       "      <td>NaN</td>\n",
       "      <td>NaN</td>\n",
       "    </tr>\n",
       "    <tr>\n",
       "      <th>227</th>\n",
       "      <td>Tuvalu</td>\n",
       "      <td>TUV</td>\n",
       "      <td>CO2 emissions (metric tons per capita)</td>\n",
       "      <td>EN.ATM.CO2E.PC</td>\n",
       "      <td>NaN</td>\n",
       "      <td>NaN</td>\n",
       "      <td>NaN</td>\n",
       "      <td>NaN</td>\n",
       "      <td>NaN</td>\n",
       "      <td>NaN</td>\n",
       "      <td>...</td>\n",
       "      <td>NaN</td>\n",
       "      <td>NaN</td>\n",
       "      <td>NaN</td>\n",
       "      <td>NaN</td>\n",
       "      <td>NaN</td>\n",
       "      <td>NaN</td>\n",
       "      <td>NaN</td>\n",
       "      <td>NaN</td>\n",
       "      <td>NaN</td>\n",
       "      <td>NaN</td>\n",
       "    </tr>\n",
       "    <tr>\n",
       "      <th>228</th>\n",
       "      <td>Taiwan, China</td>\n",
       "      <td>TWN</td>\n",
       "      <td>CO2 emissions (metric tons per capita)</td>\n",
       "      <td>EN.ATM.CO2E.PC</td>\n",
       "      <td>NaN</td>\n",
       "      <td>NaN</td>\n",
       "      <td>NaN</td>\n",
       "      <td>NaN</td>\n",
       "      <td>NaN</td>\n",
       "      <td>NaN</td>\n",
       "      <td>...</td>\n",
       "      <td>NaN</td>\n",
       "      <td>NaN</td>\n",
       "      <td>NaN</td>\n",
       "      <td>NaN</td>\n",
       "      <td>NaN</td>\n",
       "      <td>NaN</td>\n",
       "      <td>NaN</td>\n",
       "      <td>NaN</td>\n",
       "      <td>NaN</td>\n",
       "      <td>NaN</td>\n",
       "    </tr>\n",
       "    <tr>\n",
       "      <th>229</th>\n",
       "      <td>Tanzania</td>\n",
       "      <td>TZA</td>\n",
       "      <td>CO2 emissions (metric tons per capita)</td>\n",
       "      <td>EN.ATM.CO2E.PC</td>\n",
       "      <td>0.082261</td>\n",
       "      <td>0.067872</td>\n",
       "      <td>0.071734</td>\n",
       "      <td>0.072968</td>\n",
       "      <td>0.091197</td>\n",
       "      <td>0.099494</td>\n",
       "      <td>...</td>\n",
       "      <td>0.144041</td>\n",
       "      <td>0.147982</td>\n",
       "      <td>0.139973</td>\n",
       "      <td>0.150059</td>\n",
       "      <td>0.154935</td>\n",
       "      <td>NaN</td>\n",
       "      <td>NaN</td>\n",
       "      <td>NaN</td>\n",
       "      <td>NaN</td>\n",
       "      <td>NaN</td>\n",
       "    </tr>\n",
       "    <tr>\n",
       "      <th>230</th>\n",
       "      <td>Uganda</td>\n",
       "      <td>UGA</td>\n",
       "      <td>CO2 emissions (metric tons per capita)</td>\n",
       "      <td>EN.ATM.CO2E.PC</td>\n",
       "      <td>0.062123</td>\n",
       "      <td>0.058093</td>\n",
       "      <td>0.059258</td>\n",
       "      <td>0.057791</td>\n",
       "      <td>0.063435</td>\n",
       "      <td>0.078242</td>\n",
       "      <td>...</td>\n",
       "      <td>0.104293</td>\n",
       "      <td>0.101919</td>\n",
       "      <td>0.105320</td>\n",
       "      <td>0.108297</td>\n",
       "      <td>0.110887</td>\n",
       "      <td>NaN</td>\n",
       "      <td>NaN</td>\n",
       "      <td>NaN</td>\n",
       "      <td>NaN</td>\n",
       "      <td>NaN</td>\n",
       "    </tr>\n",
       "    <tr>\n",
       "      <th>231</th>\n",
       "      <td>Ukraine</td>\n",
       "      <td>UKR</td>\n",
       "      <td>CO2 emissions (metric tons per capita)</td>\n",
       "      <td>EN.ATM.CO2E.PC</td>\n",
       "      <td>NaN</td>\n",
       "      <td>NaN</td>\n",
       "      <td>NaN</td>\n",
       "      <td>NaN</td>\n",
       "      <td>NaN</td>\n",
       "      <td>NaN</td>\n",
       "      <td>...</td>\n",
       "      <td>6.910708</td>\n",
       "      <td>6.724046</td>\n",
       "      <td>5.647014</td>\n",
       "      <td>6.638152</td>\n",
       "      <td>6.262352</td>\n",
       "      <td>NaN</td>\n",
       "      <td>NaN</td>\n",
       "      <td>NaN</td>\n",
       "      <td>NaN</td>\n",
       "      <td>NaN</td>\n",
       "    </tr>\n",
       "    <tr>\n",
       "      <th>232</th>\n",
       "      <td>Upper middle income</td>\n",
       "      <td>UMC</td>\n",
       "      <td>CO2 emissions (metric tons per capita)</td>\n",
       "      <td>EN.ATM.CO2E.PC</td>\n",
       "      <td>1.288256</td>\n",
       "      <td>1.057435</td>\n",
       "      <td>0.957318</td>\n",
       "      <td>0.955719</td>\n",
       "      <td>0.982914</td>\n",
       "      <td>1.036033</td>\n",
       "      <td>...</td>\n",
       "      <td>4.689606</td>\n",
       "      <td>4.838241</td>\n",
       "      <td>5.074839</td>\n",
       "      <td>5.359268</td>\n",
       "      <td>5.710659</td>\n",
       "      <td>NaN</td>\n",
       "      <td>NaN</td>\n",
       "      <td>NaN</td>\n",
       "      <td>NaN</td>\n",
       "      <td>NaN</td>\n",
       "    </tr>\n",
       "    <tr>\n",
       "      <th>233</th>\n",
       "      <td>Uruguay</td>\n",
       "      <td>URY</td>\n",
       "      <td>CO2 emissions (metric tons per capita)</td>\n",
       "      <td>EN.ATM.CO2E.PC</td>\n",
       "      <td>1.701583</td>\n",
       "      <td>1.602723</td>\n",
       "      <td>1.540657</td>\n",
       "      <td>1.639285</td>\n",
       "      <td>1.710101</td>\n",
       "      <td>2.049519</td>\n",
       "      <td>...</td>\n",
       "      <td>1.796306</td>\n",
       "      <td>2.471054</td>\n",
       "      <td>2.401221</td>\n",
       "      <td>1.912605</td>\n",
       "      <td>2.296201</td>\n",
       "      <td>NaN</td>\n",
       "      <td>NaN</td>\n",
       "      <td>NaN</td>\n",
       "      <td>NaN</td>\n",
       "      <td>NaN</td>\n",
       "    </tr>\n",
       "    <tr>\n",
       "      <th>234</th>\n",
       "      <td>United States</td>\n",
       "      <td>USA</td>\n",
       "      <td>CO2 emissions (metric tons per capita)</td>\n",
       "      <td>EN.ATM.CO2E.PC</td>\n",
       "      <td>15.999779</td>\n",
       "      <td>15.681256</td>\n",
       "      <td>16.013937</td>\n",
       "      <td>16.482762</td>\n",
       "      <td>16.968119</td>\n",
       "      <td>17.451725</td>\n",
       "      <td>...</td>\n",
       "      <td>19.237460</td>\n",
       "      <td>18.489234</td>\n",
       "      <td>17.192379</td>\n",
       "      <td>17.484792</td>\n",
       "      <td>17.020216</td>\n",
       "      <td>NaN</td>\n",
       "      <td>NaN</td>\n",
       "      <td>NaN</td>\n",
       "      <td>NaN</td>\n",
       "      <td>NaN</td>\n",
       "    </tr>\n",
       "    <tr>\n",
       "      <th>235</th>\n",
       "      <td>Uzbekistan</td>\n",
       "      <td>UZB</td>\n",
       "      <td>CO2 emissions (metric tons per capita)</td>\n",
       "      <td>EN.ATM.CO2E.PC</td>\n",
       "      <td>NaN</td>\n",
       "      <td>NaN</td>\n",
       "      <td>NaN</td>\n",
       "      <td>NaN</td>\n",
       "      <td>NaN</td>\n",
       "      <td>NaN</td>\n",
       "      <td>...</td>\n",
       "      <td>4.391447</td>\n",
       "      <td>4.434466</td>\n",
       "      <td>3.912053</td>\n",
       "      <td>3.693268</td>\n",
       "      <td>3.914921</td>\n",
       "      <td>NaN</td>\n",
       "      <td>NaN</td>\n",
       "      <td>NaN</td>\n",
       "      <td>NaN</td>\n",
       "      <td>NaN</td>\n",
       "    </tr>\n",
       "    <tr>\n",
       "      <th>236</th>\n",
       "      <td>St. Vincent and the Grenadines</td>\n",
       "      <td>VCT</td>\n",
       "      <td>CO2 emissions (metric tons per capita)</td>\n",
       "      <td>EN.ATM.CO2E.PC</td>\n",
       "      <td>0.135902</td>\n",
       "      <td>0.133923</td>\n",
       "      <td>0.132214</td>\n",
       "      <td>0.174273</td>\n",
       "      <td>0.215513</td>\n",
       "      <td>0.170614</td>\n",
       "      <td>...</td>\n",
       "      <td>2.084879</td>\n",
       "      <td>2.116255</td>\n",
       "      <td>2.114512</td>\n",
       "      <td>2.146877</td>\n",
       "      <td>2.179923</td>\n",
       "      <td>NaN</td>\n",
       "      <td>NaN</td>\n",
       "      <td>NaN</td>\n",
       "      <td>NaN</td>\n",
       "      <td>NaN</td>\n",
       "    </tr>\n",
       "    <tr>\n",
       "      <th>237</th>\n",
       "      <td>Venezuela, RB</td>\n",
       "      <td>VEN</td>\n",
       "      <td>CO2 emissions (metric tons per capita)</td>\n",
       "      <td>EN.ATM.CO2E.PC</td>\n",
       "      <td>7.005107</td>\n",
       "      <td>6.136886</td>\n",
       "      <td>6.155057</td>\n",
       "      <td>6.155748</td>\n",
       "      <td>5.973226</td>\n",
       "      <td>6.187252</td>\n",
       "      <td>...</td>\n",
       "      <td>5.868518</td>\n",
       "      <td>6.604892</td>\n",
       "      <td>6.525293</td>\n",
       "      <td>6.811756</td>\n",
       "      <td>6.416334</td>\n",
       "      <td>NaN</td>\n",
       "      <td>NaN</td>\n",
       "      <td>NaN</td>\n",
       "      <td>NaN</td>\n",
       "      <td>NaN</td>\n",
       "    </tr>\n",
       "    <tr>\n",
       "      <th>238</th>\n",
       "      <td>Virgin Islands (U.S.)</td>\n",
       "      <td>VIR</td>\n",
       "      <td>CO2 emissions (metric tons per capita)</td>\n",
       "      <td>EN.ATM.CO2E.PC</td>\n",
       "      <td>NaN</td>\n",
       "      <td>NaN</td>\n",
       "      <td>NaN</td>\n",
       "      <td>NaN</td>\n",
       "      <td>NaN</td>\n",
       "      <td>NaN</td>\n",
       "      <td>...</td>\n",
       "      <td>NaN</td>\n",
       "      <td>NaN</td>\n",
       "      <td>NaN</td>\n",
       "      <td>NaN</td>\n",
       "      <td>NaN</td>\n",
       "      <td>NaN</td>\n",
       "      <td>NaN</td>\n",
       "      <td>NaN</td>\n",
       "      <td>NaN</td>\n",
       "      <td>NaN</td>\n",
       "    </tr>\n",
       "    <tr>\n",
       "      <th>239</th>\n",
       "      <td>Vietnam</td>\n",
       "      <td>VNM</td>\n",
       "      <td>CO2 emissions (metric tons per capita)</td>\n",
       "      <td>EN.ATM.CO2E.PC</td>\n",
       "      <td>0.215631</td>\n",
       "      <td>0.225435</td>\n",
       "      <td>0.258760</td>\n",
       "      <td>0.247579</td>\n",
       "      <td>0.314058</td>\n",
       "      <td>0.343354</td>\n",
       "      <td>...</td>\n",
       "      <td>1.352791</td>\n",
       "      <td>1.497496</td>\n",
       "      <td>1.636371</td>\n",
       "      <td>1.761695</td>\n",
       "      <td>1.971889</td>\n",
       "      <td>NaN</td>\n",
       "      <td>NaN</td>\n",
       "      <td>NaN</td>\n",
       "      <td>NaN</td>\n",
       "      <td>NaN</td>\n",
       "    </tr>\n",
       "    <tr>\n",
       "      <th>240</th>\n",
       "      <td>Vanuatu</td>\n",
       "      <td>VUT</td>\n",
       "      <td>CO2 emissions (metric tons per capita)</td>\n",
       "      <td>EN.ATM.CO2E.PC</td>\n",
       "      <td>NaN</td>\n",
       "      <td>NaN</td>\n",
       "      <td>0.594888</td>\n",
       "      <td>0.471728</td>\n",
       "      <td>0.864247</td>\n",
       "      <td>0.641714</td>\n",
       "      <td>...</td>\n",
       "      <td>0.433459</td>\n",
       "      <td>0.406839</td>\n",
       "      <td>0.508463</td>\n",
       "      <td>0.496591</td>\n",
       "      <td>0.591266</td>\n",
       "      <td>NaN</td>\n",
       "      <td>NaN</td>\n",
       "      <td>NaN</td>\n",
       "      <td>NaN</td>\n",
       "      <td>NaN</td>\n",
       "    </tr>\n",
       "    <tr>\n",
       "      <th>241</th>\n",
       "      <td>West Bank and Gaza</td>\n",
       "      <td>PSE</td>\n",
       "      <td>CO2 emissions (metric tons per capita)</td>\n",
       "      <td>EN.ATM.CO2E.PC</td>\n",
       "      <td>NaN</td>\n",
       "      <td>NaN</td>\n",
       "      <td>NaN</td>\n",
       "      <td>NaN</td>\n",
       "      <td>NaN</td>\n",
       "      <td>NaN</td>\n",
       "      <td>...</td>\n",
       "      <td>0.665297</td>\n",
       "      <td>0.570947</td>\n",
       "      <td>0.564578</td>\n",
       "      <td>0.534015</td>\n",
       "      <td>0.572407</td>\n",
       "      <td>NaN</td>\n",
       "      <td>NaN</td>\n",
       "      <td>NaN</td>\n",
       "      <td>NaN</td>\n",
       "      <td>NaN</td>\n",
       "    </tr>\n",
       "    <tr>\n",
       "      <th>242</th>\n",
       "      <td>World</td>\n",
       "      <td>WLD</td>\n",
       "      <td>CO2 emissions (metric tons per capita)</td>\n",
       "      <td>EN.ATM.CO2E.PC</td>\n",
       "      <td>3.096144</td>\n",
       "      <td>3.067062</td>\n",
       "      <td>3.138020</td>\n",
       "      <td>3.242364</td>\n",
       "      <td>3.358696</td>\n",
       "      <td>3.437595</td>\n",
       "      <td>...</td>\n",
       "      <td>4.686122</td>\n",
       "      <td>4.741826</td>\n",
       "      <td>4.663120</td>\n",
       "      <td>4.840436</td>\n",
       "      <td>4.944676</td>\n",
       "      <td>NaN</td>\n",
       "      <td>NaN</td>\n",
       "      <td>NaN</td>\n",
       "      <td>NaN</td>\n",
       "      <td>NaN</td>\n",
       "    </tr>\n",
       "    <tr>\n",
       "      <th>243</th>\n",
       "      <td>Samoa</td>\n",
       "      <td>WSM</td>\n",
       "      <td>CO2 emissions (metric tons per capita)</td>\n",
       "      <td>EN.ATM.CO2E.PC</td>\n",
       "      <td>0.135009</td>\n",
       "      <td>0.163529</td>\n",
       "      <td>0.158352</td>\n",
       "      <td>0.184019</td>\n",
       "      <td>0.208092</td>\n",
       "      <td>0.230869</td>\n",
       "      <td>...</td>\n",
       "      <td>1.026224</td>\n",
       "      <td>1.039490</td>\n",
       "      <td>1.072106</td>\n",
       "      <td>1.103871</td>\n",
       "      <td>1.252110</td>\n",
       "      <td>NaN</td>\n",
       "      <td>NaN</td>\n",
       "      <td>NaN</td>\n",
       "      <td>NaN</td>\n",
       "      <td>NaN</td>\n",
       "    </tr>\n",
       "    <tr>\n",
       "      <th>244</th>\n",
       "      <td>Yemen, Rep.</td>\n",
       "      <td>YEM</td>\n",
       "      <td>CO2 emissions (metric tons per capita)</td>\n",
       "      <td>EN.ATM.CO2E.PC</td>\n",
       "      <td>0.703403</td>\n",
       "      <td>0.507631</td>\n",
       "      <td>0.728004</td>\n",
       "      <td>0.537606</td>\n",
       "      <td>0.658012</td>\n",
       "      <td>0.699574</td>\n",
       "      <td>...</td>\n",
       "      <td>0.981422</td>\n",
       "      <td>0.989905</td>\n",
       "      <td>1.026251</td>\n",
       "      <td>1.090060</td>\n",
       "      <td>0.919968</td>\n",
       "      <td>NaN</td>\n",
       "      <td>NaN</td>\n",
       "      <td>NaN</td>\n",
       "      <td>NaN</td>\n",
       "      <td>NaN</td>\n",
       "    </tr>\n",
       "    <tr>\n",
       "      <th>245</th>\n",
       "      <td>South Africa</td>\n",
       "      <td>ZAF</td>\n",
       "      <td>CO2 emissions (metric tons per capita)</td>\n",
       "      <td>EN.ATM.CO2E.PC</td>\n",
       "      <td>5.629718</td>\n",
       "      <td>5.694383</td>\n",
       "      <td>5.729712</td>\n",
       "      <td>5.799844</td>\n",
       "      <td>6.170936</td>\n",
       "      <td>6.467359</td>\n",
       "      <td>...</td>\n",
       "      <td>9.063326</td>\n",
       "      <td>9.506481</td>\n",
       "      <td>9.545495</td>\n",
       "      <td>8.957154</td>\n",
       "      <td>9.257216</td>\n",
       "      <td>NaN</td>\n",
       "      <td>NaN</td>\n",
       "      <td>NaN</td>\n",
       "      <td>NaN</td>\n",
       "      <td>NaN</td>\n",
       "    </tr>\n",
       "    <tr>\n",
       "      <th>246</th>\n",
       "      <td>Congo, Dem. Rep.</td>\n",
       "      <td>COD</td>\n",
       "      <td>CO2 emissions (metric tons per capita)</td>\n",
       "      <td>EN.ATM.CO2E.PC</td>\n",
       "      <td>0.152228</td>\n",
       "      <td>0.150782</td>\n",
       "      <td>0.135559</td>\n",
       "      <td>0.139446</td>\n",
       "      <td>0.116926</td>\n",
       "      <td>0.142290</td>\n",
       "      <td>...</td>\n",
       "      <td>0.047312</td>\n",
       "      <td>0.048411</td>\n",
       "      <td>0.045604</td>\n",
       "      <td>0.049328</td>\n",
       "      <td>0.050303</td>\n",
       "      <td>NaN</td>\n",
       "      <td>NaN</td>\n",
       "      <td>NaN</td>\n",
       "      <td>NaN</td>\n",
       "      <td>NaN</td>\n",
       "    </tr>\n",
       "    <tr>\n",
       "      <th>247</th>\n",
       "      <td>Zambia</td>\n",
       "      <td>ZMB</td>\n",
       "      <td>CO2 emissions (metric tons per capita)</td>\n",
       "      <td>EN.ATM.CO2E.PC</td>\n",
       "      <td>NaN</td>\n",
       "      <td>NaN</td>\n",
       "      <td>NaN</td>\n",
       "      <td>NaN</td>\n",
       "      <td>0.950434</td>\n",
       "      <td>1.100197</td>\n",
       "      <td>...</td>\n",
       "      <td>0.150265</td>\n",
       "      <td>0.164692</td>\n",
       "      <td>0.184058</td>\n",
       "      <td>0.192079</td>\n",
       "      <td>0.212450</td>\n",
       "      <td>NaN</td>\n",
       "      <td>NaN</td>\n",
       "      <td>NaN</td>\n",
       "      <td>NaN</td>\n",
       "      <td>NaN</td>\n",
       "    </tr>\n",
       "    <tr>\n",
       "      <th>248</th>\n",
       "      <td>Zimbabwe</td>\n",
       "      <td>ZWE</td>\n",
       "      <td>CO2 emissions (metric tons per capita)</td>\n",
       "      <td>EN.ATM.CO2E.PC</td>\n",
       "      <td>NaN</td>\n",
       "      <td>NaN</td>\n",
       "      <td>NaN</td>\n",
       "      <td>NaN</td>\n",
       "      <td>1.045374</td>\n",
       "      <td>1.179176</td>\n",
       "      <td>...</td>\n",
       "      <td>0.731867</td>\n",
       "      <td>0.569255</td>\n",
       "      <td>0.600521</td>\n",
       "      <td>0.646073</td>\n",
       "      <td>0.691698</td>\n",
       "      <td>NaN</td>\n",
       "      <td>NaN</td>\n",
       "      <td>NaN</td>\n",
       "      <td>NaN</td>\n",
       "      <td>NaN</td>\n",
       "    </tr>\n",
       "  </tbody>\n",
       "</table>\n",
       "<p>249 rows × 61 columns</p>\n",
       "</div>"
      ],
      "text/plain": [
       "                       Country Name Country Code  \\\n",
       "0                             Aruba          ABW   \n",
       "1                           Andorra          AND   \n",
       "2                       Afghanistan          AFG   \n",
       "3                            Angola          AGO   \n",
       "4                           Albania          ALB   \n",
       "5                        Arab World          ARB   \n",
       "6              United Arab Emirates          ARE   \n",
       "7                         Argentina          ARG   \n",
       "8                           Armenia          ARM   \n",
       "9                    American Samoa          ASM   \n",
       "10              Antigua and Barbuda          ATG   \n",
       "11                        Australia          AUS   \n",
       "12                          Austria          AUT   \n",
       "13                       Azerbaijan          AZE   \n",
       "14                          Burundi          BDI   \n",
       "15                          Belgium          BEL   \n",
       "16                            Benin          BEN   \n",
       "17                     Burkina Faso          BFA   \n",
       "18                       Bangladesh          BGD   \n",
       "19                         Bulgaria          BGR   \n",
       "20                          Bahrain          BHR   \n",
       "21                     Bahamas, The          BHS   \n",
       "22           Bosnia and Herzegovina          BIH   \n",
       "23                          Belarus          BLR   \n",
       "24                           Belize          BLZ   \n",
       "25                          Bermuda          BMU   \n",
       "26                          Bolivia          BOL   \n",
       "27                           Brazil          BRA   \n",
       "28                         Barbados          BRB   \n",
       "29                Brunei Darussalam          BRN   \n",
       "..                              ...          ...   \n",
       "219                        Thailand          THA   \n",
       "220                      Tajikistan          TJK   \n",
       "221                    Turkmenistan          TKM   \n",
       "222                     Timor-Leste          TLS   \n",
       "223                           Tonga          TON   \n",
       "224             Trinidad and Tobago          TTO   \n",
       "225                         Tunisia          TUN   \n",
       "226                          Turkey          TUR   \n",
       "227                          Tuvalu          TUV   \n",
       "228                   Taiwan, China          TWN   \n",
       "229                        Tanzania          TZA   \n",
       "230                          Uganda          UGA   \n",
       "231                         Ukraine          UKR   \n",
       "232             Upper middle income          UMC   \n",
       "233                         Uruguay          URY   \n",
       "234                   United States          USA   \n",
       "235                      Uzbekistan          UZB   \n",
       "236  St. Vincent and the Grenadines          VCT   \n",
       "237                   Venezuela, RB          VEN   \n",
       "238           Virgin Islands (U.S.)          VIR   \n",
       "239                         Vietnam          VNM   \n",
       "240                         Vanuatu          VUT   \n",
       "241              West Bank and Gaza          PSE   \n",
       "242                           World          WLD   \n",
       "243                           Samoa          WSM   \n",
       "244                     Yemen, Rep.          YEM   \n",
       "245                    South Africa          ZAF   \n",
       "246                Congo, Dem. Rep.          COD   \n",
       "247                          Zambia          ZMB   \n",
       "248                        Zimbabwe          ZWE   \n",
       "\n",
       "                             Indicator Name  Indicator Code       1960  \\\n",
       "0    CO2 emissions (metric tons per capita)  EN.ATM.CO2E.PC        NaN   \n",
       "1    CO2 emissions (metric tons per capita)  EN.ATM.CO2E.PC        NaN   \n",
       "2    CO2 emissions (metric tons per capita)  EN.ATM.CO2E.PC   0.046068   \n",
       "3    CO2 emissions (metric tons per capita)  EN.ATM.CO2E.PC   0.104357   \n",
       "4    CO2 emissions (metric tons per capita)  EN.ATM.CO2E.PC   1.258195   \n",
       "5    CO2 emissions (metric tons per capita)  EN.ATM.CO2E.PC   0.643964   \n",
       "6    CO2 emissions (metric tons per capita)  EN.ATM.CO2E.PC   0.118786   \n",
       "7    CO2 emissions (metric tons per capita)  EN.ATM.CO2E.PC   2.367473   \n",
       "8    CO2 emissions (metric tons per capita)  EN.ATM.CO2E.PC        NaN   \n",
       "9    CO2 emissions (metric tons per capita)  EN.ATM.CO2E.PC        NaN   \n",
       "10   CO2 emissions (metric tons per capita)  EN.ATM.CO2E.PC   0.670617   \n",
       "11   CO2 emissions (metric tons per capita)  EN.ATM.CO2E.PC   8.582937   \n",
       "12   CO2 emissions (metric tons per capita)  EN.ATM.CO2E.PC   4.373319   \n",
       "13   CO2 emissions (metric tons per capita)  EN.ATM.CO2E.PC        NaN   \n",
       "14   CO2 emissions (metric tons per capita)  EN.ATM.CO2E.PC        NaN   \n",
       "15   CO2 emissions (metric tons per capita)  EN.ATM.CO2E.PC   9.941594   \n",
       "16   CO2 emissions (metric tons per capita)  EN.ATM.CO2E.PC   0.066354   \n",
       "17   CO2 emissions (metric tons per capita)  EN.ATM.CO2E.PC   0.009112   \n",
       "18   CO2 emissions (metric tons per capita)  EN.ATM.CO2E.PC        NaN   \n",
       "19   CO2 emissions (metric tons per capita)  EN.ATM.CO2E.PC   2.833901   \n",
       "20   CO2 emissions (metric tons per capita)  EN.ATM.CO2E.PC   3.542864   \n",
       "21   CO2 emissions (metric tons per capita)  EN.ATM.CO2E.PC   3.749831   \n",
       "22   CO2 emissions (metric tons per capita)  EN.ATM.CO2E.PC        NaN   \n",
       "23   CO2 emissions (metric tons per capita)  EN.ATM.CO2E.PC        NaN   \n",
       "24   CO2 emissions (metric tons per capita)  EN.ATM.CO2E.PC   0.477951   \n",
       "25   CO2 emissions (metric tons per capita)  EN.ATM.CO2E.PC   3.551374   \n",
       "26   CO2 emissions (metric tons per capita)  EN.ATM.CO2E.PC   0.272038   \n",
       "27   CO2 emissions (metric tons per capita)  EN.ATM.CO2E.PC   0.647068   \n",
       "28   CO2 emissions (metric tons per capita)  EN.ATM.CO2E.PC   0.746313   \n",
       "29   CO2 emissions (metric tons per capita)  EN.ATM.CO2E.PC   4.078179   \n",
       "..                                      ...             ...        ...   \n",
       "219  CO2 emissions (metric tons per capita)  EN.ATM.CO2E.PC   0.135586   \n",
       "220  CO2 emissions (metric tons per capita)  EN.ATM.CO2E.PC        NaN   \n",
       "221  CO2 emissions (metric tons per capita)  EN.ATM.CO2E.PC        NaN   \n",
       "222  CO2 emissions (metric tons per capita)  EN.ATM.CO2E.PC        NaN   \n",
       "223  CO2 emissions (metric tons per capita)  EN.ATM.CO2E.PC   0.178588   \n",
       "224  CO2 emissions (metric tons per capita)  EN.ATM.CO2E.PC   3.042576   \n",
       "225  CO2 emissions (metric tons per capita)  EN.ATM.CO2E.PC   0.409211   \n",
       "226  CO2 emissions (metric tons per capita)  EN.ATM.CO2E.PC   0.610473   \n",
       "227  CO2 emissions (metric tons per capita)  EN.ATM.CO2E.PC        NaN   \n",
       "228  CO2 emissions (metric tons per capita)  EN.ATM.CO2E.PC        NaN   \n",
       "229  CO2 emissions (metric tons per capita)  EN.ATM.CO2E.PC   0.082261   \n",
       "230  CO2 emissions (metric tons per capita)  EN.ATM.CO2E.PC   0.062123   \n",
       "231  CO2 emissions (metric tons per capita)  EN.ATM.CO2E.PC        NaN   \n",
       "232  CO2 emissions (metric tons per capita)  EN.ATM.CO2E.PC   1.288256   \n",
       "233  CO2 emissions (metric tons per capita)  EN.ATM.CO2E.PC   1.701583   \n",
       "234  CO2 emissions (metric tons per capita)  EN.ATM.CO2E.PC  15.999779   \n",
       "235  CO2 emissions (metric tons per capita)  EN.ATM.CO2E.PC        NaN   \n",
       "236  CO2 emissions (metric tons per capita)  EN.ATM.CO2E.PC   0.135902   \n",
       "237  CO2 emissions (metric tons per capita)  EN.ATM.CO2E.PC   7.005107   \n",
       "238  CO2 emissions (metric tons per capita)  EN.ATM.CO2E.PC        NaN   \n",
       "239  CO2 emissions (metric tons per capita)  EN.ATM.CO2E.PC   0.215631   \n",
       "240  CO2 emissions (metric tons per capita)  EN.ATM.CO2E.PC        NaN   \n",
       "241  CO2 emissions (metric tons per capita)  EN.ATM.CO2E.PC        NaN   \n",
       "242  CO2 emissions (metric tons per capita)  EN.ATM.CO2E.PC   3.096144   \n",
       "243  CO2 emissions (metric tons per capita)  EN.ATM.CO2E.PC   0.135009   \n",
       "244  CO2 emissions (metric tons per capita)  EN.ATM.CO2E.PC   0.703403   \n",
       "245  CO2 emissions (metric tons per capita)  EN.ATM.CO2E.PC   5.629718   \n",
       "246  CO2 emissions (metric tons per capita)  EN.ATM.CO2E.PC   0.152228   \n",
       "247  CO2 emissions (metric tons per capita)  EN.ATM.CO2E.PC        NaN   \n",
       "248  CO2 emissions (metric tons per capita)  EN.ATM.CO2E.PC        NaN   \n",
       "\n",
       "          1961       1962       1963       1964       1965     ...       \\\n",
       "0          NaN        NaN        NaN        NaN        NaN     ...        \n",
       "1          NaN        NaN        NaN        NaN        NaN     ...        \n",
       "2     0.053615   0.073781   0.074251   0.086317   0.101499     ...        \n",
       "3     0.084718   0.216025   0.206877   0.216174   0.206089     ...        \n",
       "4     1.374186   1.439956   1.181681   1.111742   1.166099     ...        \n",
       "5     0.685501   0.761148   0.875124   0.999248   1.166075     ...        \n",
       "6     0.108937   0.163355   0.175712   0.132651   0.146370     ...        \n",
       "7     2.442616   2.522392   2.316356   2.538380   2.641714     ...        \n",
       "8          NaN        NaN        NaN        NaN        NaN     ...        \n",
       "9          NaN        NaN        NaN        NaN        NaN     ...        \n",
       "10    0.860441   1.823374   1.470175   1.567094   2.520359     ...        \n",
       "11    8.641569   8.835688   9.226440   9.759073  10.622321     ...        \n",
       "12    4.496362   4.755362   5.155194   5.391004   5.252197     ...        \n",
       "13         NaN        NaN        NaN        NaN        NaN     ...        \n",
       "14         NaN   0.015203   0.016155   0.015827   0.011910     ...        \n",
       "15   10.103872  10.641190  11.386929  11.053655  11.141656     ...        \n",
       "16    0.052046   0.054202   0.047580   0.055295   0.057115     ...        \n",
       "17    0.018730   0.017003   0.017504   0.021575   0.019841     ...        \n",
       "18         NaN        NaN        NaN        NaN        NaN     ...        \n",
       "19    3.269920   3.835892   4.259781   5.262988   5.645652     ...        \n",
       "20   10.547396   9.193609   6.714156   8.747480   6.557022     ...        \n",
       "21    4.746699   5.996432   5.558199   8.118597   9.399946     ...        \n",
       "22         NaN        NaN        NaN        NaN        NaN     ...        \n",
       "23         NaN        NaN        NaN        NaN        NaN     ...        \n",
       "24    0.387219   0.715409   0.622357   0.818289   0.794763     ...        \n",
       "25    3.868484   3.383712   3.151929   4.124438   3.586487     ...        \n",
       "26    0.276621   0.286626   0.310159   0.371216   0.371151     ...        \n",
       "27    0.658625   0.697281   0.700749   0.694001   0.670372     ...        \n",
       "28    0.838899   1.119411   0.816330   0.766085   0.872454     ...        \n",
       "29    3.552009   4.133422   3.798174   3.482289   3.254787     ...        \n",
       "..         ...        ...        ...        ...        ...     ...        \n",
       "219   0.146944   0.173130   0.185877   0.242240   0.234151     ...        \n",
       "220        NaN        NaN        NaN        NaN        NaN     ...        \n",
       "221        NaN        NaN        NaN        NaN        NaN     ...        \n",
       "222        NaN        NaN        NaN        NaN        NaN     ...        \n",
       "223   0.172592   0.166040   0.159435   0.153309   0.147936     ...        \n",
       "224   5.318141   8.225570   1.466683   4.201774   5.694904     ...        \n",
       "225   0.413220   0.412987   0.438885   0.608626   0.532230     ...        \n",
       "226   0.615079   0.748241   0.765934   0.869390   0.883506     ...        \n",
       "227        NaN        NaN        NaN        NaN        NaN     ...        \n",
       "228        NaN        NaN        NaN        NaN        NaN     ...        \n",
       "229   0.067872   0.071734   0.072968   0.091197   0.099494     ...        \n",
       "230   0.058093   0.059258   0.057791   0.063435   0.078242     ...        \n",
       "231        NaN        NaN        NaN        NaN        NaN     ...        \n",
       "232   1.057435   0.957318   0.955719   0.982914   1.036033     ...        \n",
       "233   1.602723   1.540657   1.639285   1.710101   2.049519     ...        \n",
       "234  15.681256  16.013937  16.482762  16.968119  17.451725     ...        \n",
       "235        NaN        NaN        NaN        NaN        NaN     ...        \n",
       "236   0.133923   0.132214   0.174273   0.215513   0.170614     ...        \n",
       "237   6.136886   6.155057   6.155748   5.973226   6.187252     ...        \n",
       "238        NaN        NaN        NaN        NaN        NaN     ...        \n",
       "239   0.225435   0.258760   0.247579   0.314058   0.343354     ...        \n",
       "240        NaN   0.594888   0.471728   0.864247   0.641714     ...        \n",
       "241        NaN        NaN        NaN        NaN        NaN     ...        \n",
       "242   3.067062   3.138020   3.242364   3.358696   3.437595     ...        \n",
       "243   0.163529   0.158352   0.184019   0.208092   0.230869     ...        \n",
       "244   0.507631   0.728004   0.537606   0.658012   0.699574     ...        \n",
       "245   5.694383   5.729712   5.799844   6.170936   6.467359     ...        \n",
       "246   0.150782   0.135559   0.139446   0.116926   0.142290     ...        \n",
       "247        NaN        NaN        NaN   0.950434   1.100197     ...        \n",
       "248        NaN        NaN        NaN   1.045374   1.179176     ...        \n",
       "\n",
       "          2007       2008       2009       2010       2011  2012  2013  2014  \\\n",
       "0    25.613715  24.750133  24.876706  24.182702  23.922412   NaN   NaN   NaN   \n",
       "1     6.350868   6.296125   6.049173   6.124770   5.968685   NaN   NaN   NaN   \n",
       "2     0.088141   0.158962   0.249074   0.302936   0.425262   NaN   NaN   NaN   \n",
       "3     1.311096   1.369425   1.430873   1.401654   1.354008   NaN   NaN   NaN   \n",
       "4     1.507536   1.580113   1.533178   1.515632   1.607038   NaN   NaN   NaN   \n",
       "5     4.181153   4.373573   4.575251   4.764912   4.724500   NaN   NaN   NaN   \n",
       "6    23.195067  23.033600  21.102296  20.120957  20.433838   NaN   NaN   NaN   \n",
       "7     4.496834   4.744178   4.427960   4.342272   4.562049   NaN   NaN   NaN   \n",
       "8     1.694755   1.868611   1.469961   1.422998   1.671657   NaN   NaN   NaN   \n",
       "9          NaN        NaN        NaN        NaN        NaN   NaN   NaN   NaN   \n",
       "10    5.561525   5.628319   5.906292   6.011269   5.823804   NaN   NaN   NaN   \n",
       "11   17.467002  17.704080  17.631833  16.710904  16.519210   NaN   NaN   NaN   \n",
       "12    8.405093   8.262046   7.608851   8.127693   7.769983   NaN   NaN   NaN   \n",
       "13    3.555340   4.051383   3.565668   3.388226   3.647379   NaN   NaN   NaN   \n",
       "14    0.021964   0.021615   0.020868   0.020542   0.021350   NaN   NaN   NaN   \n",
       "15    9.713718   9.699599   9.634776   9.989976   8.849398   NaN   NaN   NaN   \n",
       "16    0.516299   0.500183   0.514278   0.541771   0.509962   NaN   NaN   NaN   \n",
       "17    0.115429   0.115427   0.109774   0.107673   0.119981   NaN   NaN   NaN   \n",
       "18    0.319840   0.334440   0.352155   0.370360   0.372017   NaN   NaN   NaN   \n",
       "19    6.916687   6.778939   5.729716   5.966884   6.714383   NaN   NaN   NaN   \n",
       "20   21.443296  21.519995  18.136234  18.435025  17.947330   NaN   NaN   NaN   \n",
       "21    4.521354   2.998089   4.630520   6.829321   5.199844   NaN   NaN   NaN   \n",
       "22    4.580387   5.231547   5.371890   5.513994   6.196652   NaN   NaN   NaN   \n",
       "23    6.305629   6.592749   6.341939   6.556550   6.682510   NaN   NaN   NaN   \n",
       "24    1.536094   1.473196   1.495185   1.721709   1.670904   NaN   NaN   NaN   \n",
       "25    7.968299   5.955020   7.095329   7.320036   6.077210   NaN   NaN   NaN   \n",
       "26    1.318204   1.412189   1.459841   1.547659   1.599499   NaN   NaN   NaN   \n",
       "27    1.884034   1.990429   1.866522   2.113415   2.191394   NaN   NaN   NaN   \n",
       "28    5.178741   5.871114   5.833678   5.430338   5.580178   NaN   NaN   NaN   \n",
       "29   24.178409  26.338271  22.149029  21.873222  24.392013   NaN   NaN   NaN   \n",
       "..         ...        ...        ...        ...        ...   ...   ...   ...   \n",
       "219   3.994687   3.984060   4.198512   4.470426   4.534492   NaN   NaN   NaN   \n",
       "220   0.463345   0.409462   0.382775   0.373873   0.358948   NaN   NaN   NaN   \n",
       "221  11.535622  11.557572  10.110661  11.358111  12.183667   NaN   NaN   NaN   \n",
       "222   0.180962   0.185017   0.174891   0.171932   0.163648   NaN   NaN   NaN   \n",
       "223   1.112637   1.176967   1.276514   1.128883   0.983562   NaN   NaN   NaN   \n",
       "224  36.816763  35.455298  36.569448  38.337841  37.140054   NaN   NaN   NaN   \n",
       "225   2.357974   2.403508   2.374157   2.535619   2.402456   NaN   NaN   NaN   \n",
       "226   4.094889   4.055397   3.898959   4.121155   4.383105   NaN   NaN   NaN   \n",
       "227        NaN        NaN        NaN        NaN        NaN   NaN   NaN   NaN   \n",
       "228        NaN        NaN        NaN        NaN        NaN   NaN   NaN   NaN   \n",
       "229   0.144041   0.147982   0.139973   0.150059   0.154935   NaN   NaN   NaN   \n",
       "230   0.104293   0.101919   0.105320   0.108297   0.110887   NaN   NaN   NaN   \n",
       "231   6.910708   6.724046   5.647014   6.638152   6.262352   NaN   NaN   NaN   \n",
       "232   4.689606   4.838241   5.074839   5.359268   5.710659   NaN   NaN   NaN   \n",
       "233   1.796306   2.471054   2.401221   1.912605   2.296201   NaN   NaN   NaN   \n",
       "234  19.237460  18.489234  17.192379  17.484792  17.020216   NaN   NaN   NaN   \n",
       "235   4.391447   4.434466   3.912053   3.693268   3.914921   NaN   NaN   NaN   \n",
       "236   2.084879   2.116255   2.114512   2.146877   2.179923   NaN   NaN   NaN   \n",
       "237   5.868518   6.604892   6.525293   6.811756   6.416334   NaN   NaN   NaN   \n",
       "238        NaN        NaN        NaN        NaN        NaN   NaN   NaN   NaN   \n",
       "239   1.352791   1.497496   1.636371   1.761695   1.971889   NaN   NaN   NaN   \n",
       "240   0.433459   0.406839   0.508463   0.496591   0.591266   NaN   NaN   NaN   \n",
       "241   0.665297   0.570947   0.564578   0.534015   0.572407   NaN   NaN   NaN   \n",
       "242   4.686122   4.741826   4.663120   4.840436   4.944676   NaN   NaN   NaN   \n",
       "243   1.026224   1.039490   1.072106   1.103871   1.252110   NaN   NaN   NaN   \n",
       "244   0.981422   0.989905   1.026251   1.090060   0.919968   NaN   NaN   NaN   \n",
       "245   9.063326   9.506481   9.545495   8.957154   9.257216   NaN   NaN   NaN   \n",
       "246   0.047312   0.048411   0.045604   0.049328   0.050303   NaN   NaN   NaN   \n",
       "247   0.150265   0.164692   0.184058   0.192079   0.212450   NaN   NaN   NaN   \n",
       "248   0.731867   0.569255   0.600521   0.646073   0.691698   NaN   NaN   NaN   \n",
       "\n",
       "     2015  Unnamed: 60  \n",
       "0     NaN          NaN  \n",
       "1     NaN          NaN  \n",
       "2     NaN          NaN  \n",
       "3     NaN          NaN  \n",
       "4     NaN          NaN  \n",
       "5     NaN          NaN  \n",
       "6     NaN          NaN  \n",
       "7     NaN          NaN  \n",
       "8     NaN          NaN  \n",
       "9     NaN          NaN  \n",
       "10    NaN          NaN  \n",
       "11    NaN          NaN  \n",
       "12    NaN          NaN  \n",
       "13    NaN          NaN  \n",
       "14    NaN          NaN  \n",
       "15    NaN          NaN  \n",
       "16    NaN          NaN  \n",
       "17    NaN          NaN  \n",
       "18    NaN          NaN  \n",
       "19    NaN          NaN  \n",
       "20    NaN          NaN  \n",
       "21    NaN          NaN  \n",
       "22    NaN          NaN  \n",
       "23    NaN          NaN  \n",
       "24    NaN          NaN  \n",
       "25    NaN          NaN  \n",
       "26    NaN          NaN  \n",
       "27    NaN          NaN  \n",
       "28    NaN          NaN  \n",
       "29    NaN          NaN  \n",
       "..    ...          ...  \n",
       "219   NaN          NaN  \n",
       "220   NaN          NaN  \n",
       "221   NaN          NaN  \n",
       "222   NaN          NaN  \n",
       "223   NaN          NaN  \n",
       "224   NaN          NaN  \n",
       "225   NaN          NaN  \n",
       "226   NaN          NaN  \n",
       "227   NaN          NaN  \n",
       "228   NaN          NaN  \n",
       "229   NaN          NaN  \n",
       "230   NaN          NaN  \n",
       "231   NaN          NaN  \n",
       "232   NaN          NaN  \n",
       "233   NaN          NaN  \n",
       "234   NaN          NaN  \n",
       "235   NaN          NaN  \n",
       "236   NaN          NaN  \n",
       "237   NaN          NaN  \n",
       "238   NaN          NaN  \n",
       "239   NaN          NaN  \n",
       "240   NaN          NaN  \n",
       "241   NaN          NaN  \n",
       "242   NaN          NaN  \n",
       "243   NaN          NaN  \n",
       "244   NaN          NaN  \n",
       "245   NaN          NaN  \n",
       "246   NaN          NaN  \n",
       "247   NaN          NaN  \n",
       "248   NaN          NaN  \n",
       "\n",
       "[249 rows x 61 columns]"
      ]
     },
     "execution_count": 33,
     "metadata": {},
     "output_type": "execute_result"
    }
   ],
   "source": [
    "data"
   ]
  },
  {
   "cell_type": "markdown",
   "metadata": {},
   "source": [
    "<h2, align=center>Dataframe 的操作</h2>"
   ]
  },
  {
   "cell_type": "markdown",
   "metadata": {},
   "source": [
    "#### 使用 `head` 显示 `data`  的前5行"
   ]
  },
  {
   "cell_type": "code",
   "execution_count": 34,
   "metadata": {
    "collapsed": false
   },
   "outputs": [
    {
     "data": {
      "text/html": [
       "<div>\n",
       "<style scoped>\n",
       "    .dataframe tbody tr th:only-of-type {\n",
       "        vertical-align: middle;\n",
       "    }\n",
       "\n",
       "    .dataframe tbody tr th {\n",
       "        vertical-align: top;\n",
       "    }\n",
       "\n",
       "    .dataframe thead th {\n",
       "        text-align: right;\n",
       "    }\n",
       "</style>\n",
       "<table border=\"1\" class=\"dataframe\">\n",
       "  <thead>\n",
       "    <tr style=\"text-align: right;\">\n",
       "      <th></th>\n",
       "      <th>Country Name</th>\n",
       "      <th>Country Code</th>\n",
       "      <th>Indicator Name</th>\n",
       "      <th>Indicator Code</th>\n",
       "      <th>1960</th>\n",
       "      <th>1961</th>\n",
       "      <th>1962</th>\n",
       "      <th>1963</th>\n",
       "      <th>1964</th>\n",
       "      <th>1965</th>\n",
       "      <th>...</th>\n",
       "      <th>2007</th>\n",
       "      <th>2008</th>\n",
       "      <th>2009</th>\n",
       "      <th>2010</th>\n",
       "      <th>2011</th>\n",
       "      <th>2012</th>\n",
       "      <th>2013</th>\n",
       "      <th>2014</th>\n",
       "      <th>2015</th>\n",
       "      <th>Unnamed: 60</th>\n",
       "    </tr>\n",
       "  </thead>\n",
       "  <tbody>\n",
       "    <tr>\n",
       "      <th>0</th>\n",
       "      <td>Aruba</td>\n",
       "      <td>ABW</td>\n",
       "      <td>CO2 emissions (metric tons per capita)</td>\n",
       "      <td>EN.ATM.CO2E.PC</td>\n",
       "      <td>NaN</td>\n",
       "      <td>NaN</td>\n",
       "      <td>NaN</td>\n",
       "      <td>NaN</td>\n",
       "      <td>NaN</td>\n",
       "      <td>NaN</td>\n",
       "      <td>...</td>\n",
       "      <td>25.613715</td>\n",
       "      <td>24.750133</td>\n",
       "      <td>24.876706</td>\n",
       "      <td>24.182702</td>\n",
       "      <td>23.922412</td>\n",
       "      <td>NaN</td>\n",
       "      <td>NaN</td>\n",
       "      <td>NaN</td>\n",
       "      <td>NaN</td>\n",
       "      <td>NaN</td>\n",
       "    </tr>\n",
       "    <tr>\n",
       "      <th>1</th>\n",
       "      <td>Andorra</td>\n",
       "      <td>AND</td>\n",
       "      <td>CO2 emissions (metric tons per capita)</td>\n",
       "      <td>EN.ATM.CO2E.PC</td>\n",
       "      <td>NaN</td>\n",
       "      <td>NaN</td>\n",
       "      <td>NaN</td>\n",
       "      <td>NaN</td>\n",
       "      <td>NaN</td>\n",
       "      <td>NaN</td>\n",
       "      <td>...</td>\n",
       "      <td>6.350868</td>\n",
       "      <td>6.296125</td>\n",
       "      <td>6.049173</td>\n",
       "      <td>6.124770</td>\n",
       "      <td>5.968685</td>\n",
       "      <td>NaN</td>\n",
       "      <td>NaN</td>\n",
       "      <td>NaN</td>\n",
       "      <td>NaN</td>\n",
       "      <td>NaN</td>\n",
       "    </tr>\n",
       "    <tr>\n",
       "      <th>2</th>\n",
       "      <td>Afghanistan</td>\n",
       "      <td>AFG</td>\n",
       "      <td>CO2 emissions (metric tons per capita)</td>\n",
       "      <td>EN.ATM.CO2E.PC</td>\n",
       "      <td>0.046068</td>\n",
       "      <td>0.053615</td>\n",
       "      <td>0.073781</td>\n",
       "      <td>0.074251</td>\n",
       "      <td>0.086317</td>\n",
       "      <td>0.101499</td>\n",
       "      <td>...</td>\n",
       "      <td>0.088141</td>\n",
       "      <td>0.158962</td>\n",
       "      <td>0.249074</td>\n",
       "      <td>0.302936</td>\n",
       "      <td>0.425262</td>\n",
       "      <td>NaN</td>\n",
       "      <td>NaN</td>\n",
       "      <td>NaN</td>\n",
       "      <td>NaN</td>\n",
       "      <td>NaN</td>\n",
       "    </tr>\n",
       "    <tr>\n",
       "      <th>3</th>\n",
       "      <td>Angola</td>\n",
       "      <td>AGO</td>\n",
       "      <td>CO2 emissions (metric tons per capita)</td>\n",
       "      <td>EN.ATM.CO2E.PC</td>\n",
       "      <td>0.104357</td>\n",
       "      <td>0.084718</td>\n",
       "      <td>0.216025</td>\n",
       "      <td>0.206877</td>\n",
       "      <td>0.216174</td>\n",
       "      <td>0.206089</td>\n",
       "      <td>...</td>\n",
       "      <td>1.311096</td>\n",
       "      <td>1.369425</td>\n",
       "      <td>1.430873</td>\n",
       "      <td>1.401654</td>\n",
       "      <td>1.354008</td>\n",
       "      <td>NaN</td>\n",
       "      <td>NaN</td>\n",
       "      <td>NaN</td>\n",
       "      <td>NaN</td>\n",
       "      <td>NaN</td>\n",
       "    </tr>\n",
       "    <tr>\n",
       "      <th>4</th>\n",
       "      <td>Albania</td>\n",
       "      <td>ALB</td>\n",
       "      <td>CO2 emissions (metric tons per capita)</td>\n",
       "      <td>EN.ATM.CO2E.PC</td>\n",
       "      <td>1.258195</td>\n",
       "      <td>1.374186</td>\n",
       "      <td>1.439956</td>\n",
       "      <td>1.181681</td>\n",
       "      <td>1.111742</td>\n",
       "      <td>1.166099</td>\n",
       "      <td>...</td>\n",
       "      <td>1.507536</td>\n",
       "      <td>1.580113</td>\n",
       "      <td>1.533178</td>\n",
       "      <td>1.515632</td>\n",
       "      <td>1.607038</td>\n",
       "      <td>NaN</td>\n",
       "      <td>NaN</td>\n",
       "      <td>NaN</td>\n",
       "      <td>NaN</td>\n",
       "      <td>NaN</td>\n",
       "    </tr>\n",
       "  </tbody>\n",
       "</table>\n",
       "<p>5 rows × 61 columns</p>\n",
       "</div>"
      ],
      "text/plain": [
       "  Country Name Country Code                          Indicator Name  \\\n",
       "0        Aruba          ABW  CO2 emissions (metric tons per capita)   \n",
       "1      Andorra          AND  CO2 emissions (metric tons per capita)   \n",
       "2  Afghanistan          AFG  CO2 emissions (metric tons per capita)   \n",
       "3       Angola          AGO  CO2 emissions (metric tons per capita)   \n",
       "4      Albania          ALB  CO2 emissions (metric tons per capita)   \n",
       "\n",
       "   Indicator Code      1960      1961      1962      1963      1964      1965  \\\n",
       "0  EN.ATM.CO2E.PC       NaN       NaN       NaN       NaN       NaN       NaN   \n",
       "1  EN.ATM.CO2E.PC       NaN       NaN       NaN       NaN       NaN       NaN   \n",
       "2  EN.ATM.CO2E.PC  0.046068  0.053615  0.073781  0.074251  0.086317  0.101499   \n",
       "3  EN.ATM.CO2E.PC  0.104357  0.084718  0.216025  0.206877  0.216174  0.206089   \n",
       "4  EN.ATM.CO2E.PC  1.258195  1.374186  1.439956  1.181681  1.111742  1.166099   \n",
       "\n",
       "      ...            2007       2008       2009       2010       2011  2012  \\\n",
       "0     ...       25.613715  24.750133  24.876706  24.182702  23.922412   NaN   \n",
       "1     ...        6.350868   6.296125   6.049173   6.124770   5.968685   NaN   \n",
       "2     ...        0.088141   0.158962   0.249074   0.302936   0.425262   NaN   \n",
       "3     ...        1.311096   1.369425   1.430873   1.401654   1.354008   NaN   \n",
       "4     ...        1.507536   1.580113   1.533178   1.515632   1.607038   NaN   \n",
       "\n",
       "   2013  2014  2015  Unnamed: 60  \n",
       "0   NaN   NaN   NaN          NaN  \n",
       "1   NaN   NaN   NaN          NaN  \n",
       "2   NaN   NaN   NaN          NaN  \n",
       "3   NaN   NaN   NaN          NaN  \n",
       "4   NaN   NaN   NaN          NaN  \n",
       "\n",
       "[5 rows x 61 columns]"
      ]
     },
     "execution_count": 34,
     "metadata": {},
     "output_type": "execute_result"
    }
   ],
   "source": [
    "data.head()"
   ]
  },
  {
   "cell_type": "markdown",
   "metadata": {},
   "source": [
    "#### 使用 `head` 获取前2行"
   ]
  },
  {
   "cell_type": "code",
   "execution_count": null,
   "metadata": {
    "collapsed": false
   },
   "outputs": [],
   "source": [
    "data.head(2)"
   ]
  },
  {
   "cell_type": "code",
   "execution_count": 19,
   "metadata": {
    "collapsed": false,
    "scrolled": true
   },
   "outputs": [
    {
     "data": {
      "text/html": [
       "<div>\n",
       "<style scoped>\n",
       "    .dataframe tbody tr th:only-of-type {\n",
       "        vertical-align: middle;\n",
       "    }\n",
       "\n",
       "    .dataframe tbody tr th {\n",
       "        vertical-align: top;\n",
       "    }\n",
       "\n",
       "    .dataframe thead th {\n",
       "        text-align: right;\n",
       "    }\n",
       "</style>\n",
       "<table border=\"1\" class=\"dataframe\">\n",
       "  <thead>\n",
       "    <tr style=\"text-align: right;\">\n",
       "      <th></th>\n",
       "      <th>Country Name</th>\n",
       "      <th>Country Code</th>\n",
       "      <th>Indicator Name</th>\n",
       "      <th>Indicator Code</th>\n",
       "      <th>1960</th>\n",
       "      <th>1961</th>\n",
       "      <th>1962</th>\n",
       "      <th>1963</th>\n",
       "      <th>1964</th>\n",
       "      <th>1965</th>\n",
       "      <th>...</th>\n",
       "      <th>2007</th>\n",
       "      <th>2008</th>\n",
       "      <th>2009</th>\n",
       "      <th>2010</th>\n",
       "      <th>2011</th>\n",
       "      <th>2012</th>\n",
       "      <th>2013</th>\n",
       "      <th>2014</th>\n",
       "      <th>2015</th>\n",
       "      <th>Unnamed: 60</th>\n",
       "    </tr>\n",
       "  </thead>\n",
       "  <tbody>\n",
       "    <tr>\n",
       "      <th>0</th>\n",
       "      <td>Aruba</td>\n",
       "      <td>ABW</td>\n",
       "      <td>CO2 emissions (metric tons per capita)</td>\n",
       "      <td>EN.ATM.CO2E.PC</td>\n",
       "      <td>NaN</td>\n",
       "      <td>NaN</td>\n",
       "      <td>NaN</td>\n",
       "      <td>NaN</td>\n",
       "      <td>NaN</td>\n",
       "      <td>NaN</td>\n",
       "      <td>...</td>\n",
       "      <td>25.613715</td>\n",
       "      <td>24.750133</td>\n",
       "      <td>24.876706</td>\n",
       "      <td>24.182702</td>\n",
       "      <td>23.922412</td>\n",
       "      <td>NaN</td>\n",
       "      <td>NaN</td>\n",
       "      <td>NaN</td>\n",
       "      <td>NaN</td>\n",
       "      <td>NaN</td>\n",
       "    </tr>\n",
       "    <tr>\n",
       "      <th>1</th>\n",
       "      <td>Andorra</td>\n",
       "      <td>AND</td>\n",
       "      <td>CO2 emissions (metric tons per capita)</td>\n",
       "      <td>EN.ATM.CO2E.PC</td>\n",
       "      <td>NaN</td>\n",
       "      <td>NaN</td>\n",
       "      <td>NaN</td>\n",
       "      <td>NaN</td>\n",
       "      <td>NaN</td>\n",
       "      <td>NaN</td>\n",
       "      <td>...</td>\n",
       "      <td>6.350868</td>\n",
       "      <td>6.296125</td>\n",
       "      <td>6.049173</td>\n",
       "      <td>6.124770</td>\n",
       "      <td>5.968685</td>\n",
       "      <td>NaN</td>\n",
       "      <td>NaN</td>\n",
       "      <td>NaN</td>\n",
       "      <td>NaN</td>\n",
       "      <td>NaN</td>\n",
       "    </tr>\n",
       "  </tbody>\n",
       "</table>\n",
       "<p>2 rows × 61 columns</p>\n",
       "</div>"
      ],
      "text/plain": [
       "  Country Name Country Code                          Indicator Name  \\\n",
       "0        Aruba          ABW  CO2 emissions (metric tons per capita)   \n",
       "1      Andorra          AND  CO2 emissions (metric tons per capita)   \n",
       "\n",
       "   Indicator Code  1960  1961  1962  1963  1964  1965     ...            2007  \\\n",
       "0  EN.ATM.CO2E.PC   NaN   NaN   NaN   NaN   NaN   NaN     ...       25.613715   \n",
       "1  EN.ATM.CO2E.PC   NaN   NaN   NaN   NaN   NaN   NaN     ...        6.350868   \n",
       "\n",
       "        2008       2009       2010       2011  2012  2013  2014  2015  \\\n",
       "0  24.750133  24.876706  24.182702  23.922412   NaN   NaN   NaN   NaN   \n",
       "1   6.296125   6.049173   6.124770   5.968685   NaN   NaN   NaN   NaN   \n",
       "\n",
       "   Unnamed: 60  \n",
       "0          NaN  \n",
       "1          NaN  \n",
       "\n",
       "[2 rows x 61 columns]"
      ]
     },
     "execution_count": 19,
     "metadata": {},
     "output_type": "execute_result"
    }
   ],
   "source": [
    "data.head(n=2)"
   ]
  },
  {
   "cell_type": "markdown",
   "metadata": {},
   "source": [
    "### 不记得需要向函数传递什么参数了？可以使用 `?`"
   ]
  },
  {
   "cell_type": "code",
   "execution_count": 22,
   "metadata": {
    "collapsed": false
   },
   "outputs": [],
   "source": [
    "#To close help window, press q\n",
    "? data.head"
   ]
  },
  {
   "cell_type": "markdown",
   "metadata": {},
   "source": [
    "#### 显示最后3行数据"
   ]
  },
  {
   "cell_type": "code",
   "execution_count": 23,
   "metadata": {
    "collapsed": false
   },
   "outputs": [
    {
     "data": {
      "text/html": [
       "<div>\n",
       "<style scoped>\n",
       "    .dataframe tbody tr th:only-of-type {\n",
       "        vertical-align: middle;\n",
       "    }\n",
       "\n",
       "    .dataframe tbody tr th {\n",
       "        vertical-align: top;\n",
       "    }\n",
       "\n",
       "    .dataframe thead th {\n",
       "        text-align: right;\n",
       "    }\n",
       "</style>\n",
       "<table border=\"1\" class=\"dataframe\">\n",
       "  <thead>\n",
       "    <tr style=\"text-align: right;\">\n",
       "      <th></th>\n",
       "      <th>Country Name</th>\n",
       "      <th>Country Code</th>\n",
       "      <th>Indicator Name</th>\n",
       "      <th>Indicator Code</th>\n",
       "      <th>1960</th>\n",
       "      <th>1961</th>\n",
       "      <th>1962</th>\n",
       "      <th>1963</th>\n",
       "      <th>1964</th>\n",
       "      <th>1965</th>\n",
       "      <th>...</th>\n",
       "      <th>2007</th>\n",
       "      <th>2008</th>\n",
       "      <th>2009</th>\n",
       "      <th>2010</th>\n",
       "      <th>2011</th>\n",
       "      <th>2012</th>\n",
       "      <th>2013</th>\n",
       "      <th>2014</th>\n",
       "      <th>2015</th>\n",
       "      <th>Unnamed: 60</th>\n",
       "    </tr>\n",
       "  </thead>\n",
       "  <tbody>\n",
       "    <tr>\n",
       "      <th>246</th>\n",
       "      <td>Congo, Dem. Rep.</td>\n",
       "      <td>COD</td>\n",
       "      <td>CO2 emissions (metric tons per capita)</td>\n",
       "      <td>EN.ATM.CO2E.PC</td>\n",
       "      <td>0.152228</td>\n",
       "      <td>0.150782</td>\n",
       "      <td>0.135559</td>\n",
       "      <td>0.139446</td>\n",
       "      <td>0.116926</td>\n",
       "      <td>0.142290</td>\n",
       "      <td>...</td>\n",
       "      <td>0.047312</td>\n",
       "      <td>0.048411</td>\n",
       "      <td>0.045604</td>\n",
       "      <td>0.049328</td>\n",
       "      <td>0.050303</td>\n",
       "      <td>NaN</td>\n",
       "      <td>NaN</td>\n",
       "      <td>NaN</td>\n",
       "      <td>NaN</td>\n",
       "      <td>NaN</td>\n",
       "    </tr>\n",
       "    <tr>\n",
       "      <th>247</th>\n",
       "      <td>Zambia</td>\n",
       "      <td>ZMB</td>\n",
       "      <td>CO2 emissions (metric tons per capita)</td>\n",
       "      <td>EN.ATM.CO2E.PC</td>\n",
       "      <td>NaN</td>\n",
       "      <td>NaN</td>\n",
       "      <td>NaN</td>\n",
       "      <td>NaN</td>\n",
       "      <td>0.950434</td>\n",
       "      <td>1.100197</td>\n",
       "      <td>...</td>\n",
       "      <td>0.150265</td>\n",
       "      <td>0.164692</td>\n",
       "      <td>0.184058</td>\n",
       "      <td>0.192079</td>\n",
       "      <td>0.212450</td>\n",
       "      <td>NaN</td>\n",
       "      <td>NaN</td>\n",
       "      <td>NaN</td>\n",
       "      <td>NaN</td>\n",
       "      <td>NaN</td>\n",
       "    </tr>\n",
       "    <tr>\n",
       "      <th>248</th>\n",
       "      <td>Zimbabwe</td>\n",
       "      <td>ZWE</td>\n",
       "      <td>CO2 emissions (metric tons per capita)</td>\n",
       "      <td>EN.ATM.CO2E.PC</td>\n",
       "      <td>NaN</td>\n",
       "      <td>NaN</td>\n",
       "      <td>NaN</td>\n",
       "      <td>NaN</td>\n",
       "      <td>1.045374</td>\n",
       "      <td>1.179176</td>\n",
       "      <td>...</td>\n",
       "      <td>0.731867</td>\n",
       "      <td>0.569255</td>\n",
       "      <td>0.600521</td>\n",
       "      <td>0.646073</td>\n",
       "      <td>0.691698</td>\n",
       "      <td>NaN</td>\n",
       "      <td>NaN</td>\n",
       "      <td>NaN</td>\n",
       "      <td>NaN</td>\n",
       "      <td>NaN</td>\n",
       "    </tr>\n",
       "  </tbody>\n",
       "</table>\n",
       "<p>3 rows × 61 columns</p>\n",
       "</div>"
      ],
      "text/plain": [
       "         Country Name Country Code                          Indicator Name  \\\n",
       "246  Congo, Dem. Rep.          COD  CO2 emissions (metric tons per capita)   \n",
       "247            Zambia          ZMB  CO2 emissions (metric tons per capita)   \n",
       "248          Zimbabwe          ZWE  CO2 emissions (metric tons per capita)   \n",
       "\n",
       "     Indicator Code      1960      1961      1962      1963      1964  \\\n",
       "246  EN.ATM.CO2E.PC  0.152228  0.150782  0.135559  0.139446  0.116926   \n",
       "247  EN.ATM.CO2E.PC       NaN       NaN       NaN       NaN  0.950434   \n",
       "248  EN.ATM.CO2E.PC       NaN       NaN       NaN       NaN  1.045374   \n",
       "\n",
       "         1965     ...           2007      2008      2009      2010      2011  \\\n",
       "246  0.142290     ...       0.047312  0.048411  0.045604  0.049328  0.050303   \n",
       "247  1.100197     ...       0.150265  0.164692  0.184058  0.192079  0.212450   \n",
       "248  1.179176     ...       0.731867  0.569255  0.600521  0.646073  0.691698   \n",
       "\n",
       "     2012  2013  2014  2015  Unnamed: 60  \n",
       "246   NaN   NaN   NaN   NaN          NaN  \n",
       "247   NaN   NaN   NaN   NaN          NaN  \n",
       "248   NaN   NaN   NaN   NaN          NaN  \n",
       "\n",
       "[3 rows x 61 columns]"
      ]
     },
     "execution_count": 23,
     "metadata": {},
     "output_type": "execute_result"
    }
   ],
   "source": [
    "data.tail(3)"
   ]
  },
  {
   "cell_type": "markdown",
   "metadata": {},
   "source": [
    "<hr>"
   ]
  },
  {
   "cell_type": "markdown",
   "metadata": {},
   "source": [
    "<h2, align=center>Dataframe 的特性</h2>"
   ]
  },
  {
   "cell_type": "markdown",
   "metadata": {},
   "source": [
    "#### 有多少行和多少列?"
   ]
  },
  {
   "cell_type": "code",
   "execution_count": 43,
   "metadata": {
    "collapsed": false
   },
   "outputs": [
    {
     "data": {
      "text/plain": [
       "(249, 61)"
      ]
     },
     "execution_count": 43,
     "metadata": {},
     "output_type": "execute_result"
    }
   ],
   "source": [
    "data.shape #(rows, columns)"
   ]
  },
  {
   "cell_type": "code",
   "execution_count": 35,
   "metadata": {
    "collapsed": false
   },
   "outputs": [
    {
     "data": {
      "text/html": [
       "<div>\n",
       "<style scoped>\n",
       "    .dataframe tbody tr th:only-of-type {\n",
       "        vertical-align: middle;\n",
       "    }\n",
       "\n",
       "    .dataframe tbody tr th {\n",
       "        vertical-align: top;\n",
       "    }\n",
       "\n",
       "    .dataframe thead th {\n",
       "        text-align: right;\n",
       "    }\n",
       "</style>\n",
       "<table border=\"1\" class=\"dataframe\">\n",
       "  <thead>\n",
       "    <tr style=\"text-align: right;\">\n",
       "      <th></th>\n",
       "      <th>1960</th>\n",
       "      <th>1961</th>\n",
       "      <th>1962</th>\n",
       "      <th>1963</th>\n",
       "      <th>1964</th>\n",
       "      <th>1965</th>\n",
       "      <th>1966</th>\n",
       "      <th>1967</th>\n",
       "      <th>1968</th>\n",
       "      <th>1969</th>\n",
       "      <th>...</th>\n",
       "      <th>2007</th>\n",
       "      <th>2008</th>\n",
       "      <th>2009</th>\n",
       "      <th>2010</th>\n",
       "      <th>2011</th>\n",
       "      <th>2012</th>\n",
       "      <th>2013</th>\n",
       "      <th>2014</th>\n",
       "      <th>2015</th>\n",
       "      <th>Unnamed: 60</th>\n",
       "    </tr>\n",
       "  </thead>\n",
       "  <tbody>\n",
       "    <tr>\n",
       "      <th>count</th>\n",
       "      <td>180.000000</td>\n",
       "      <td>181.000000</td>\n",
       "      <td>182.000000</td>\n",
       "      <td>183.000000</td>\n",
       "      <td>188.000000</td>\n",
       "      <td>188.000000</td>\n",
       "      <td>188.000000</td>\n",
       "      <td>188.000000</td>\n",
       "      <td>187.000000</td>\n",
       "      <td>188.000000</td>\n",
       "      <td>...</td>\n",
       "      <td>232.000000</td>\n",
       "      <td>232.000000</td>\n",
       "      <td>232.000000</td>\n",
       "      <td>232.000000</td>\n",
       "      <td>232.000000</td>\n",
       "      <td>0.0</td>\n",
       "      <td>0.0</td>\n",
       "      <td>0.0</td>\n",
       "      <td>0.0</td>\n",
       "      <td>0.0</td>\n",
       "    </tr>\n",
       "    <tr>\n",
       "      <th>mean</th>\n",
       "      <td>2.147848</td>\n",
       "      <td>2.273331</td>\n",
       "      <td>2.382827</td>\n",
       "      <td>2.925962</td>\n",
       "      <td>3.076591</td>\n",
       "      <td>3.203665</td>\n",
       "      <td>3.216921</td>\n",
       "      <td>3.287063</td>\n",
       "      <td>3.515189</td>\n",
       "      <td>4.136080</td>\n",
       "      <td>...</td>\n",
       "      <td>5.023040</td>\n",
       "      <td>4.980116</td>\n",
       "      <td>4.755409</td>\n",
       "      <td>4.911618</td>\n",
       "      <td>4.884828</td>\n",
       "      <td>NaN</td>\n",
       "      <td>NaN</td>\n",
       "      <td>NaN</td>\n",
       "      <td>NaN</td>\n",
       "      <td>NaN</td>\n",
       "    </tr>\n",
       "    <tr>\n",
       "      <th>std</th>\n",
       "      <td>4.348322</td>\n",
       "      <td>4.542379</td>\n",
       "      <td>4.889944</td>\n",
       "      <td>8.741776</td>\n",
       "      <td>8.776709</td>\n",
       "      <td>8.964691</td>\n",
       "      <td>8.309355</td>\n",
       "      <td>7.504329</td>\n",
       "      <td>7.450713</td>\n",
       "      <td>10.208690</td>\n",
       "      <td>...</td>\n",
       "      <td>6.598310</td>\n",
       "      <td>6.328807</td>\n",
       "      <td>5.975440</td>\n",
       "      <td>6.100080</td>\n",
       "      <td>6.051724</td>\n",
       "      <td>NaN</td>\n",
       "      <td>NaN</td>\n",
       "      <td>NaN</td>\n",
       "      <td>NaN</td>\n",
       "      <td>NaN</td>\n",
       "    </tr>\n",
       "    <tr>\n",
       "      <th>min</th>\n",
       "      <td>0.008022</td>\n",
       "      <td>0.007897</td>\n",
       "      <td>0.008481</td>\n",
       "      <td>0.009390</td>\n",
       "      <td>0.011598</td>\n",
       "      <td>0.011910</td>\n",
       "      <td>0.013258</td>\n",
       "      <td>0.011800</td>\n",
       "      <td>0.015594</td>\n",
       "      <td>0.016116</td>\n",
       "      <td>...</td>\n",
       "      <td>0.021964</td>\n",
       "      <td>0.021615</td>\n",
       "      <td>0.020868</td>\n",
       "      <td>0.020542</td>\n",
       "      <td>0.021350</td>\n",
       "      <td>NaN</td>\n",
       "      <td>NaN</td>\n",
       "      <td>NaN</td>\n",
       "      <td>NaN</td>\n",
       "      <td>NaN</td>\n",
       "    </tr>\n",
       "    <tr>\n",
       "      <th>25%</th>\n",
       "      <td>0.176743</td>\n",
       "      <td>0.173541</td>\n",
       "      <td>0.196524</td>\n",
       "      <td>0.192676</td>\n",
       "      <td>0.213766</td>\n",
       "      <td>0.229534</td>\n",
       "      <td>0.231413</td>\n",
       "      <td>0.241491</td>\n",
       "      <td>0.269411</td>\n",
       "      <td>0.318197</td>\n",
       "      <td>...</td>\n",
       "      <td>0.765607</td>\n",
       "      <td>0.776208</td>\n",
       "      <td>0.793028</td>\n",
       "      <td>0.797337</td>\n",
       "      <td>0.829105</td>\n",
       "      <td>NaN</td>\n",
       "      <td>NaN</td>\n",
       "      <td>NaN</td>\n",
       "      <td>NaN</td>\n",
       "      <td>NaN</td>\n",
       "    </tr>\n",
       "    <tr>\n",
       "      <th>50%</th>\n",
       "      <td>0.606451</td>\n",
       "      <td>0.646400</td>\n",
       "      <td>0.657922</td>\n",
       "      <td>0.655980</td>\n",
       "      <td>0.726711</td>\n",
       "      <td>0.716547</td>\n",
       "      <td>0.760381</td>\n",
       "      <td>0.785352</td>\n",
       "      <td>0.884673</td>\n",
       "      <td>0.910402</td>\n",
       "      <td>...</td>\n",
       "      <td>2.893936</td>\n",
       "      <td>2.989729</td>\n",
       "      <td>2.958360</td>\n",
       "      <td>2.943880</td>\n",
       "      <td>3.045189</td>\n",
       "      <td>NaN</td>\n",
       "      <td>NaN</td>\n",
       "      <td>NaN</td>\n",
       "      <td>NaN</td>\n",
       "      <td>NaN</td>\n",
       "    </tr>\n",
       "    <tr>\n",
       "      <th>75%</th>\n",
       "      <td>1.960040</td>\n",
       "      <td>2.442616</td>\n",
       "      <td>2.674866</td>\n",
       "      <td>2.211640</td>\n",
       "      <td>2.404358</td>\n",
       "      <td>2.609091</td>\n",
       "      <td>3.256631</td>\n",
       "      <td>3.997464</td>\n",
       "      <td>4.279434</td>\n",
       "      <td>4.267795</td>\n",
       "      <td>...</td>\n",
       "      <td>7.219751</td>\n",
       "      <td>7.022516</td>\n",
       "      <td>6.522355</td>\n",
       "      <td>6.816148</td>\n",
       "      <td>6.711322</td>\n",
       "      <td>NaN</td>\n",
       "      <td>NaN</td>\n",
       "      <td>NaN</td>\n",
       "      <td>NaN</td>\n",
       "      <td>NaN</td>\n",
       "    </tr>\n",
       "    <tr>\n",
       "      <th>max</th>\n",
       "      <td>36.685183</td>\n",
       "      <td>36.583778</td>\n",
       "      <td>42.637118</td>\n",
       "      <td>99.575940</td>\n",
       "      <td>92.969565</td>\n",
       "      <td>85.563167</td>\n",
       "      <td>78.734608</td>\n",
       "      <td>77.629183</td>\n",
       "      <td>76.104350</td>\n",
       "      <td>99.840439</td>\n",
       "      <td>...</td>\n",
       "      <td>55.336800</td>\n",
       "      <td>48.601620</td>\n",
       "      <td>44.836401</td>\n",
       "      <td>42.639076</td>\n",
       "      <td>44.018926</td>\n",
       "      <td>NaN</td>\n",
       "      <td>NaN</td>\n",
       "      <td>NaN</td>\n",
       "      <td>NaN</td>\n",
       "      <td>NaN</td>\n",
       "    </tr>\n",
       "  </tbody>\n",
       "</table>\n",
       "<p>8 rows × 57 columns</p>\n",
       "</div>"
      ],
      "text/plain": [
       "             1960        1961        1962        1963        1964        1965  \\\n",
       "count  180.000000  181.000000  182.000000  183.000000  188.000000  188.000000   \n",
       "mean     2.147848    2.273331    2.382827    2.925962    3.076591    3.203665   \n",
       "std      4.348322    4.542379    4.889944    8.741776    8.776709    8.964691   \n",
       "min      0.008022    0.007897    0.008481    0.009390    0.011598    0.011910   \n",
       "25%      0.176743    0.173541    0.196524    0.192676    0.213766    0.229534   \n",
       "50%      0.606451    0.646400    0.657922    0.655980    0.726711    0.716547   \n",
       "75%      1.960040    2.442616    2.674866    2.211640    2.404358    2.609091   \n",
       "max     36.685183   36.583778   42.637118   99.575940   92.969565   85.563167   \n",
       "\n",
       "             1966        1967        1968        1969     ...       \\\n",
       "count  188.000000  188.000000  187.000000  188.000000     ...        \n",
       "mean     3.216921    3.287063    3.515189    4.136080     ...        \n",
       "std      8.309355    7.504329    7.450713   10.208690     ...        \n",
       "min      0.013258    0.011800    0.015594    0.016116     ...        \n",
       "25%      0.231413    0.241491    0.269411    0.318197     ...        \n",
       "50%      0.760381    0.785352    0.884673    0.910402     ...        \n",
       "75%      3.256631    3.997464    4.279434    4.267795     ...        \n",
       "max     78.734608   77.629183   76.104350   99.840439     ...        \n",
       "\n",
       "             2007        2008        2009        2010        2011  2012  2013  \\\n",
       "count  232.000000  232.000000  232.000000  232.000000  232.000000   0.0   0.0   \n",
       "mean     5.023040    4.980116    4.755409    4.911618    4.884828   NaN   NaN   \n",
       "std      6.598310    6.328807    5.975440    6.100080    6.051724   NaN   NaN   \n",
       "min      0.021964    0.021615    0.020868    0.020542    0.021350   NaN   NaN   \n",
       "25%      0.765607    0.776208    0.793028    0.797337    0.829105   NaN   NaN   \n",
       "50%      2.893936    2.989729    2.958360    2.943880    3.045189   NaN   NaN   \n",
       "75%      7.219751    7.022516    6.522355    6.816148    6.711322   NaN   NaN   \n",
       "max     55.336800   48.601620   44.836401   42.639076   44.018926   NaN   NaN   \n",
       "\n",
       "       2014  2015  Unnamed: 60  \n",
       "count   0.0   0.0          0.0  \n",
       "mean    NaN   NaN          NaN  \n",
       "std     NaN   NaN          NaN  \n",
       "min     NaN   NaN          NaN  \n",
       "25%     NaN   NaN          NaN  \n",
       "50%     NaN   NaN          NaN  \n",
       "75%     NaN   NaN          NaN  \n",
       "max     NaN   NaN          NaN  \n",
       "\n",
       "[8 rows x 57 columns]"
      ]
     },
     "execution_count": 35,
     "metadata": {},
     "output_type": "execute_result"
    }
   ],
   "source": [
    "data.describe()"
   ]
  },
  {
   "cell_type": "markdown",
   "metadata": {},
   "source": [
    "#### 列名有哪些?"
   ]
  },
  {
   "cell_type": "code",
   "execution_count": 36,
   "metadata": {
    "collapsed": false,
    "scrolled": true
   },
   "outputs": [
    {
     "data": {
      "text/plain": [
       "Index(['Country Name', 'Country Code', 'Indicator Name', 'Indicator Code',\n",
       "       '1960', '1961', '1962', '1963', '1964', '1965', '1966', '1967', '1968',\n",
       "       '1969', '1970', '1971', '1972', '1973', '1974', '1975', '1976', '1977',\n",
       "       '1978', '1979', '1980', '1981', '1982', '1983', '1984', '1985', '1986',\n",
       "       '1987', '1988', '1989', '1990', '1991', '1992', '1993', '1994', '1995',\n",
       "       '1996', '1997', '1998', '1999', '2000', '2001', '2002', '2003', '2004',\n",
       "       '2005', '2006', '2007', '2008', '2009', '2010', '2011', '2012', '2013',\n",
       "       '2014', '2015', 'Unnamed: 60'],\n",
       "      dtype='object')"
      ]
     },
     "execution_count": 36,
     "metadata": {},
     "output_type": "execute_result"
    }
   ],
   "source": [
    "data.columns"
   ]
  },
  {
   "cell_type": "markdown",
   "metadata": {},
   "source": [
    "#### 第一列的名字是什么?"
   ]
  },
  {
   "cell_type": "code",
   "execution_count": 46,
   "metadata": {
    "collapsed": false
   },
   "outputs": [
    {
     "data": {
      "text/plain": [
       "'Country Name'"
      ]
     },
     "execution_count": 46,
     "metadata": {},
     "output_type": "execute_result"
    }
   ],
   "source": [
    "data.columns[0]"
   ]
  },
  {
   "cell_type": "markdown",
   "metadata": {},
   "source": [
    "#### 第一列和第二列的名字是什么?"
   ]
  },
  {
   "cell_type": "code",
   "execution_count": 47,
   "metadata": {
    "collapsed": false
   },
   "outputs": [
    {
     "data": {
      "text/plain": [
       "Index(['Country Name', 'Country Code'], dtype='object')"
      ]
     },
     "execution_count": 47,
     "metadata": {},
     "output_type": "execute_result"
    }
   ],
   "source": [
    "data.columns[[0,1]]"
   ]
  },
  {
   "cell_type": "markdown",
   "metadata": {},
   "source": [
    "<hr>"
   ]
  },
  {
   "cell_type": "markdown",
   "metadata": {},
   "source": [
    "## 复习"
   ]
  },
  {
   "cell_type": "markdown",
   "metadata": {},
   "source": [
    "### <span style=\"color: red\">轮到你了:</span> "
   ]
  },
  {
   "cell_type": "markdown",
   "metadata": {},
   "source": [
    "#### 打印 `data` 的前3行"
   ]
  },
  {
   "cell_type": "code",
   "execution_count": null,
   "metadata": {
    "collapsed": false
   },
   "outputs": [],
   "source": [
    "## YOUR CODE BELOW\n",
    "\n"
   ]
  },
  {
   "cell_type": "markdown",
   "metadata": {},
   "source": [
    "#### 打印第一列和最后一列的名字"
   ]
  },
  {
   "cell_type": "code",
   "execution_count": null,
   "metadata": {
    "collapsed": false
   },
   "outputs": [],
   "source": [
    "## YOUR CODE BELOW\n",
    "\n"
   ]
  },
  {
   "cell_type": "markdown",
   "metadata": {},
   "source": [
    "<hr>"
   ]
  },
  {
   "cell_type": "markdown",
   "metadata": {},
   "source": [
    "<h2, align=center>对 Dataframe 求子集</h2>"
   ]
  },
  {
   "cell_type": "markdown",
   "metadata": {},
   "source": [
    "### 选择列"
   ]
  },
  {
   "cell_type": "markdown",
   "metadata": {},
   "source": [
    "#### 按名字选择列:"
   ]
  },
  {
   "cell_type": "code",
   "execution_count": 48,
   "metadata": {
    "collapsed": false
   },
   "outputs": [
    {
     "data": {
      "text/plain": [
       "0                               Aruba\n",
       "1                             Andorra\n",
       "2                         Afghanistan\n",
       "3                              Angola\n",
       "4                             Albania\n",
       "5                          Arab World\n",
       "6                United Arab Emirates\n",
       "7                           Argentina\n",
       "8                             Armenia\n",
       "9                      American Samoa\n",
       "10                Antigua and Barbuda\n",
       "11                          Australia\n",
       "12                            Austria\n",
       "13                         Azerbaijan\n",
       "14                            Burundi\n",
       "15                            Belgium\n",
       "16                              Benin\n",
       "17                       Burkina Faso\n",
       "18                         Bangladesh\n",
       "19                           Bulgaria\n",
       "20                            Bahrain\n",
       "21                       Bahamas, The\n",
       "22             Bosnia and Herzegovina\n",
       "23                            Belarus\n",
       "24                             Belize\n",
       "25                            Bermuda\n",
       "26                            Bolivia\n",
       "27                             Brazil\n",
       "28                           Barbados\n",
       "29                  Brunei Darussalam\n",
       "                    ...              \n",
       "219                          Thailand\n",
       "220                        Tajikistan\n",
       "221                      Turkmenistan\n",
       "222                       Timor-Leste\n",
       "223                             Tonga\n",
       "224               Trinidad and Tobago\n",
       "225                           Tunisia\n",
       "226                            Turkey\n",
       "227                            Tuvalu\n",
       "228                     Taiwan, China\n",
       "229                          Tanzania\n",
       "230                            Uganda\n",
       "231                           Ukraine\n",
       "232               Upper middle income\n",
       "233                           Uruguay\n",
       "234                     United States\n",
       "235                        Uzbekistan\n",
       "236    St. Vincent and the Grenadines\n",
       "237                     Venezuela, RB\n",
       "238             Virgin Islands (U.S.)\n",
       "239                           Vietnam\n",
       "240                           Vanuatu\n",
       "241                West Bank and Gaza\n",
       "242                             World\n",
       "243                             Samoa\n",
       "244                       Yemen, Rep.\n",
       "245                      South Africa\n",
       "246                  Congo, Dem. Rep.\n",
       "247                            Zambia\n",
       "248                          Zimbabwe\n",
       "Name: Country Name, dtype: object"
      ]
     },
     "execution_count": 48,
     "metadata": {},
     "output_type": "execute_result"
    }
   ],
   "source": [
    "data['Country Name']"
   ]
  },
  {
   "cell_type": "markdown",
   "metadata": {},
   "source": [
    "#### 按列号选择列:"
   ]
  },
  {
   "cell_type": "code",
   "execution_count": 49,
   "metadata": {
    "collapsed": false
   },
   "outputs": [
    {
     "data": {
      "text/plain": [
       "0                               Aruba\n",
       "1                             Andorra\n",
       "2                         Afghanistan\n",
       "3                              Angola\n",
       "4                             Albania\n",
       "5                          Arab World\n",
       "6                United Arab Emirates\n",
       "7                           Argentina\n",
       "8                             Armenia\n",
       "9                      American Samoa\n",
       "10                Antigua and Barbuda\n",
       "11                          Australia\n",
       "12                            Austria\n",
       "13                         Azerbaijan\n",
       "14                            Burundi\n",
       "15                            Belgium\n",
       "16                              Benin\n",
       "17                       Burkina Faso\n",
       "18                         Bangladesh\n",
       "19                           Bulgaria\n",
       "20                            Bahrain\n",
       "21                       Bahamas, The\n",
       "22             Bosnia and Herzegovina\n",
       "23                            Belarus\n",
       "24                             Belize\n",
       "25                            Bermuda\n",
       "26                            Bolivia\n",
       "27                             Brazil\n",
       "28                           Barbados\n",
       "29                  Brunei Darussalam\n",
       "                    ...              \n",
       "219                          Thailand\n",
       "220                        Tajikistan\n",
       "221                      Turkmenistan\n",
       "222                       Timor-Leste\n",
       "223                             Tonga\n",
       "224               Trinidad and Tobago\n",
       "225                           Tunisia\n",
       "226                            Turkey\n",
       "227                            Tuvalu\n",
       "228                     Taiwan, China\n",
       "229                          Tanzania\n",
       "230                            Uganda\n",
       "231                           Ukraine\n",
       "232               Upper middle income\n",
       "233                           Uruguay\n",
       "234                     United States\n",
       "235                        Uzbekistan\n",
       "236    St. Vincent and the Grenadines\n",
       "237                     Venezuela, RB\n",
       "238             Virgin Islands (U.S.)\n",
       "239                           Vietnam\n",
       "240                           Vanuatu\n",
       "241                West Bank and Gaza\n",
       "242                             World\n",
       "243                             Samoa\n",
       "244                       Yemen, Rep.\n",
       "245                      South Africa\n",
       "246                  Congo, Dem. Rep.\n",
       "247                            Zambia\n",
       "248                          Zimbabwe\n",
       "Name: Country Name, dtype: object"
      ]
     },
     "execution_count": 49,
     "metadata": {},
     "output_type": "execute_result"
    }
   ],
   "source": [
    "data[data.columns[0]]"
   ]
  },
  {
   "cell_type": "markdown",
   "metadata": {},
   "source": [
    "#### 选择最后一列:"
   ]
  },
  {
   "cell_type": "code",
   "execution_count": null,
   "metadata": {
    "collapsed": false
   },
   "outputs": [],
   "source": [
    "data[data.columns[-1]]"
   ]
  },
  {
   "cell_type": "markdown",
   "metadata": {},
   "source": [
    "#### 按名字选择由多列构成子集"
   ]
  },
  {
   "cell_type": "code",
   "execution_count": 50,
   "metadata": {
    "collapsed": false,
    "scrolled": true
   },
   "outputs": [
    {
     "data": {
      "text/html": [
       "<div>\n",
       "<table border=\"1\" class=\"dataframe\">\n",
       "  <thead>\n",
       "    <tr style=\"text-align: right;\">\n",
       "      <th></th>\n",
       "      <th>Country Name</th>\n",
       "      <th>Country Code</th>\n",
       "    </tr>\n",
       "  </thead>\n",
       "  <tbody>\n",
       "    <tr>\n",
       "      <th>0</th>\n",
       "      <td>Aruba</td>\n",
       "      <td>ABW</td>\n",
       "    </tr>\n",
       "    <tr>\n",
       "      <th>1</th>\n",
       "      <td>Andorra</td>\n",
       "      <td>AND</td>\n",
       "    </tr>\n",
       "    <tr>\n",
       "      <th>2</th>\n",
       "      <td>Afghanistan</td>\n",
       "      <td>AFG</td>\n",
       "    </tr>\n",
       "    <tr>\n",
       "      <th>3</th>\n",
       "      <td>Angola</td>\n",
       "      <td>AGO</td>\n",
       "    </tr>\n",
       "    <tr>\n",
       "      <th>4</th>\n",
       "      <td>Albania</td>\n",
       "      <td>ALB</td>\n",
       "    </tr>\n",
       "    <tr>\n",
       "      <th>5</th>\n",
       "      <td>Arab World</td>\n",
       "      <td>ARB</td>\n",
       "    </tr>\n",
       "    <tr>\n",
       "      <th>6</th>\n",
       "      <td>United Arab Emirates</td>\n",
       "      <td>ARE</td>\n",
       "    </tr>\n",
       "    <tr>\n",
       "      <th>7</th>\n",
       "      <td>Argentina</td>\n",
       "      <td>ARG</td>\n",
       "    </tr>\n",
       "    <tr>\n",
       "      <th>8</th>\n",
       "      <td>Armenia</td>\n",
       "      <td>ARM</td>\n",
       "    </tr>\n",
       "    <tr>\n",
       "      <th>9</th>\n",
       "      <td>American Samoa</td>\n",
       "      <td>ASM</td>\n",
       "    </tr>\n",
       "    <tr>\n",
       "      <th>10</th>\n",
       "      <td>Antigua and Barbuda</td>\n",
       "      <td>ATG</td>\n",
       "    </tr>\n",
       "    <tr>\n",
       "      <th>11</th>\n",
       "      <td>Australia</td>\n",
       "      <td>AUS</td>\n",
       "    </tr>\n",
       "    <tr>\n",
       "      <th>12</th>\n",
       "      <td>Austria</td>\n",
       "      <td>AUT</td>\n",
       "    </tr>\n",
       "    <tr>\n",
       "      <th>13</th>\n",
       "      <td>Azerbaijan</td>\n",
       "      <td>AZE</td>\n",
       "    </tr>\n",
       "    <tr>\n",
       "      <th>14</th>\n",
       "      <td>Burundi</td>\n",
       "      <td>BDI</td>\n",
       "    </tr>\n",
       "    <tr>\n",
       "      <th>15</th>\n",
       "      <td>Belgium</td>\n",
       "      <td>BEL</td>\n",
       "    </tr>\n",
       "    <tr>\n",
       "      <th>16</th>\n",
       "      <td>Benin</td>\n",
       "      <td>BEN</td>\n",
       "    </tr>\n",
       "    <tr>\n",
       "      <th>17</th>\n",
       "      <td>Burkina Faso</td>\n",
       "      <td>BFA</td>\n",
       "    </tr>\n",
       "    <tr>\n",
       "      <th>18</th>\n",
       "      <td>Bangladesh</td>\n",
       "      <td>BGD</td>\n",
       "    </tr>\n",
       "    <tr>\n",
       "      <th>19</th>\n",
       "      <td>Bulgaria</td>\n",
       "      <td>BGR</td>\n",
       "    </tr>\n",
       "    <tr>\n",
       "      <th>20</th>\n",
       "      <td>Bahrain</td>\n",
       "      <td>BHR</td>\n",
       "    </tr>\n",
       "    <tr>\n",
       "      <th>21</th>\n",
       "      <td>Bahamas, The</td>\n",
       "      <td>BHS</td>\n",
       "    </tr>\n",
       "    <tr>\n",
       "      <th>22</th>\n",
       "      <td>Bosnia and Herzegovina</td>\n",
       "      <td>BIH</td>\n",
       "    </tr>\n",
       "    <tr>\n",
       "      <th>23</th>\n",
       "      <td>Belarus</td>\n",
       "      <td>BLR</td>\n",
       "    </tr>\n",
       "    <tr>\n",
       "      <th>24</th>\n",
       "      <td>Belize</td>\n",
       "      <td>BLZ</td>\n",
       "    </tr>\n",
       "    <tr>\n",
       "      <th>25</th>\n",
       "      <td>Bermuda</td>\n",
       "      <td>BMU</td>\n",
       "    </tr>\n",
       "    <tr>\n",
       "      <th>26</th>\n",
       "      <td>Bolivia</td>\n",
       "      <td>BOL</td>\n",
       "    </tr>\n",
       "    <tr>\n",
       "      <th>27</th>\n",
       "      <td>Brazil</td>\n",
       "      <td>BRA</td>\n",
       "    </tr>\n",
       "    <tr>\n",
       "      <th>28</th>\n",
       "      <td>Barbados</td>\n",
       "      <td>BRB</td>\n",
       "    </tr>\n",
       "    <tr>\n",
       "      <th>29</th>\n",
       "      <td>Brunei Darussalam</td>\n",
       "      <td>BRN</td>\n",
       "    </tr>\n",
       "    <tr>\n",
       "      <th>...</th>\n",
       "      <td>...</td>\n",
       "      <td>...</td>\n",
       "    </tr>\n",
       "    <tr>\n",
       "      <th>219</th>\n",
       "      <td>Thailand</td>\n",
       "      <td>THA</td>\n",
       "    </tr>\n",
       "    <tr>\n",
       "      <th>220</th>\n",
       "      <td>Tajikistan</td>\n",
       "      <td>TJK</td>\n",
       "    </tr>\n",
       "    <tr>\n",
       "      <th>221</th>\n",
       "      <td>Turkmenistan</td>\n",
       "      <td>TKM</td>\n",
       "    </tr>\n",
       "    <tr>\n",
       "      <th>222</th>\n",
       "      <td>Timor-Leste</td>\n",
       "      <td>TLS</td>\n",
       "    </tr>\n",
       "    <tr>\n",
       "      <th>223</th>\n",
       "      <td>Tonga</td>\n",
       "      <td>TON</td>\n",
       "    </tr>\n",
       "    <tr>\n",
       "      <th>224</th>\n",
       "      <td>Trinidad and Tobago</td>\n",
       "      <td>TTO</td>\n",
       "    </tr>\n",
       "    <tr>\n",
       "      <th>225</th>\n",
       "      <td>Tunisia</td>\n",
       "      <td>TUN</td>\n",
       "    </tr>\n",
       "    <tr>\n",
       "      <th>226</th>\n",
       "      <td>Turkey</td>\n",
       "      <td>TUR</td>\n",
       "    </tr>\n",
       "    <tr>\n",
       "      <th>227</th>\n",
       "      <td>Tuvalu</td>\n",
       "      <td>TUV</td>\n",
       "    </tr>\n",
       "    <tr>\n",
       "      <th>228</th>\n",
       "      <td>Taiwan, China</td>\n",
       "      <td>TWN</td>\n",
       "    </tr>\n",
       "    <tr>\n",
       "      <th>229</th>\n",
       "      <td>Tanzania</td>\n",
       "      <td>TZA</td>\n",
       "    </tr>\n",
       "    <tr>\n",
       "      <th>230</th>\n",
       "      <td>Uganda</td>\n",
       "      <td>UGA</td>\n",
       "    </tr>\n",
       "    <tr>\n",
       "      <th>231</th>\n",
       "      <td>Ukraine</td>\n",
       "      <td>UKR</td>\n",
       "    </tr>\n",
       "    <tr>\n",
       "      <th>232</th>\n",
       "      <td>Upper middle income</td>\n",
       "      <td>UMC</td>\n",
       "    </tr>\n",
       "    <tr>\n",
       "      <th>233</th>\n",
       "      <td>Uruguay</td>\n",
       "      <td>URY</td>\n",
       "    </tr>\n",
       "    <tr>\n",
       "      <th>234</th>\n",
       "      <td>United States</td>\n",
       "      <td>USA</td>\n",
       "    </tr>\n",
       "    <tr>\n",
       "      <th>235</th>\n",
       "      <td>Uzbekistan</td>\n",
       "      <td>UZB</td>\n",
       "    </tr>\n",
       "    <tr>\n",
       "      <th>236</th>\n",
       "      <td>St. Vincent and the Grenadines</td>\n",
       "      <td>VCT</td>\n",
       "    </tr>\n",
       "    <tr>\n",
       "      <th>237</th>\n",
       "      <td>Venezuela, RB</td>\n",
       "      <td>VEN</td>\n",
       "    </tr>\n",
       "    <tr>\n",
       "      <th>238</th>\n",
       "      <td>Virgin Islands (U.S.)</td>\n",
       "      <td>VIR</td>\n",
       "    </tr>\n",
       "    <tr>\n",
       "      <th>239</th>\n",
       "      <td>Vietnam</td>\n",
       "      <td>VNM</td>\n",
       "    </tr>\n",
       "    <tr>\n",
       "      <th>240</th>\n",
       "      <td>Vanuatu</td>\n",
       "      <td>VUT</td>\n",
       "    </tr>\n",
       "    <tr>\n",
       "      <th>241</th>\n",
       "      <td>West Bank and Gaza</td>\n",
       "      <td>PSE</td>\n",
       "    </tr>\n",
       "    <tr>\n",
       "      <th>242</th>\n",
       "      <td>World</td>\n",
       "      <td>WLD</td>\n",
       "    </tr>\n",
       "    <tr>\n",
       "      <th>243</th>\n",
       "      <td>Samoa</td>\n",
       "      <td>WSM</td>\n",
       "    </tr>\n",
       "    <tr>\n",
       "      <th>244</th>\n",
       "      <td>Yemen, Rep.</td>\n",
       "      <td>YEM</td>\n",
       "    </tr>\n",
       "    <tr>\n",
       "      <th>245</th>\n",
       "      <td>South Africa</td>\n",
       "      <td>ZAF</td>\n",
       "    </tr>\n",
       "    <tr>\n",
       "      <th>246</th>\n",
       "      <td>Congo, Dem. Rep.</td>\n",
       "      <td>COD</td>\n",
       "    </tr>\n",
       "    <tr>\n",
       "      <th>247</th>\n",
       "      <td>Zambia</td>\n",
       "      <td>ZMB</td>\n",
       "    </tr>\n",
       "    <tr>\n",
       "      <th>248</th>\n",
       "      <td>Zimbabwe</td>\n",
       "      <td>ZWE</td>\n",
       "    </tr>\n",
       "  </tbody>\n",
       "</table>\n",
       "<p>249 rows × 2 columns</p>\n",
       "</div>"
      ],
      "text/plain": [
       "                       Country Name Country Code\n",
       "0                             Aruba          ABW\n",
       "1                           Andorra          AND\n",
       "2                       Afghanistan          AFG\n",
       "3                            Angola          AGO\n",
       "4                           Albania          ALB\n",
       "5                        Arab World          ARB\n",
       "6              United Arab Emirates          ARE\n",
       "7                         Argentina          ARG\n",
       "8                           Armenia          ARM\n",
       "9                    American Samoa          ASM\n",
       "10              Antigua and Barbuda          ATG\n",
       "11                        Australia          AUS\n",
       "12                          Austria          AUT\n",
       "13                       Azerbaijan          AZE\n",
       "14                          Burundi          BDI\n",
       "15                          Belgium          BEL\n",
       "16                            Benin          BEN\n",
       "17                     Burkina Faso          BFA\n",
       "18                       Bangladesh          BGD\n",
       "19                         Bulgaria          BGR\n",
       "20                          Bahrain          BHR\n",
       "21                     Bahamas, The          BHS\n",
       "22           Bosnia and Herzegovina          BIH\n",
       "23                          Belarus          BLR\n",
       "24                           Belize          BLZ\n",
       "25                          Bermuda          BMU\n",
       "26                          Bolivia          BOL\n",
       "27                           Brazil          BRA\n",
       "28                         Barbados          BRB\n",
       "29                Brunei Darussalam          BRN\n",
       "..                              ...          ...\n",
       "219                        Thailand          THA\n",
       "220                      Tajikistan          TJK\n",
       "221                    Turkmenistan          TKM\n",
       "222                     Timor-Leste          TLS\n",
       "223                           Tonga          TON\n",
       "224             Trinidad and Tobago          TTO\n",
       "225                         Tunisia          TUN\n",
       "226                          Turkey          TUR\n",
       "227                          Tuvalu          TUV\n",
       "228                   Taiwan, China          TWN\n",
       "229                        Tanzania          TZA\n",
       "230                          Uganda          UGA\n",
       "231                         Ukraine          UKR\n",
       "232             Upper middle income          UMC\n",
       "233                         Uruguay          URY\n",
       "234                   United States          USA\n",
       "235                      Uzbekistan          UZB\n",
       "236  St. Vincent and the Grenadines          VCT\n",
       "237                   Venezuela, RB          VEN\n",
       "238           Virgin Islands (U.S.)          VIR\n",
       "239                         Vietnam          VNM\n",
       "240                         Vanuatu          VUT\n",
       "241              West Bank and Gaza          PSE\n",
       "242                           World          WLD\n",
       "243                           Samoa          WSM\n",
       "244                     Yemen, Rep.          YEM\n",
       "245                    South Africa          ZAF\n",
       "246                Congo, Dem. Rep.          COD\n",
       "247                          Zambia          ZMB\n",
       "248                        Zimbabwe          ZWE\n",
       "\n",
       "[249 rows x 2 columns]"
      ]
     },
     "execution_count": 50,
     "metadata": {},
     "output_type": "execute_result"
    }
   ],
   "source": [
    "data[['Country Name', 'Country Code']]"
   ]
  },
  {
   "cell_type": "markdown",
   "metadata": {},
   "source": [
    "### 选择行"
   ]
  },
  {
   "cell_type": "markdown",
   "metadata": {},
   "source": [
    "若干种方式:"
   ]
  },
  {
   "cell_type": "code",
   "execution_count": 51,
   "metadata": {
    "collapsed": false,
    "render": true
   },
   "outputs": [
    {
     "data": {
      "text/html": [
       "<div>\n",
       "<table border=\"1\" class=\"dataframe\">\n",
       "  <thead>\n",
       "    <tr style=\"text-align: right;\">\n",
       "      <th></th>\n",
       "      <th>Country Name</th>\n",
       "      <th>Country Code</th>\n",
       "      <th>Indicator Name</th>\n",
       "      <th>Indicator Code</th>\n",
       "      <th>1960</th>\n",
       "      <th>1961</th>\n",
       "      <th>1962</th>\n",
       "      <th>1963</th>\n",
       "      <th>1964</th>\n",
       "      <th>1965</th>\n",
       "      <th>...</th>\n",
       "      <th>2007</th>\n",
       "      <th>2008</th>\n",
       "      <th>2009</th>\n",
       "      <th>2010</th>\n",
       "      <th>2011</th>\n",
       "      <th>2012</th>\n",
       "      <th>2013</th>\n",
       "      <th>2014</th>\n",
       "      <th>2015</th>\n",
       "      <th>Unnamed: 60</th>\n",
       "    </tr>\n",
       "  </thead>\n",
       "  <tbody>\n",
       "    <tr>\n",
       "      <th>0</th>\n",
       "      <td>Aruba</td>\n",
       "      <td>ABW</td>\n",
       "      <td>CO2 emissions (metric tons per capita)</td>\n",
       "      <td>EN.ATM.CO2E.PC</td>\n",
       "      <td>NaN</td>\n",
       "      <td>NaN</td>\n",
       "      <td>NaN</td>\n",
       "      <td>NaN</td>\n",
       "      <td>NaN</td>\n",
       "      <td>NaN</td>\n",
       "      <td>...</td>\n",
       "      <td>25.613715</td>\n",
       "      <td>24.750133</td>\n",
       "      <td>24.876706</td>\n",
       "      <td>24.182702</td>\n",
       "      <td>23.922412</td>\n",
       "      <td>NaN</td>\n",
       "      <td>NaN</td>\n",
       "      <td>NaN</td>\n",
       "      <td>NaN</td>\n",
       "      <td>NaN</td>\n",
       "    </tr>\n",
       "    <tr>\n",
       "      <th>1</th>\n",
       "      <td>Andorra</td>\n",
       "      <td>AND</td>\n",
       "      <td>CO2 emissions (metric tons per capita)</td>\n",
       "      <td>EN.ATM.CO2E.PC</td>\n",
       "      <td>NaN</td>\n",
       "      <td>NaN</td>\n",
       "      <td>NaN</td>\n",
       "      <td>NaN</td>\n",
       "      <td>NaN</td>\n",
       "      <td>NaN</td>\n",
       "      <td>...</td>\n",
       "      <td>6.350868</td>\n",
       "      <td>6.296125</td>\n",
       "      <td>6.049173</td>\n",
       "      <td>6.124770</td>\n",
       "      <td>5.968685</td>\n",
       "      <td>NaN</td>\n",
       "      <td>NaN</td>\n",
       "      <td>NaN</td>\n",
       "      <td>NaN</td>\n",
       "      <td>NaN</td>\n",
       "    </tr>\n",
       "  </tbody>\n",
       "</table>\n",
       "<p>2 rows × 61 columns</p>\n",
       "</div>"
      ],
      "text/plain": [
       "  Country Name Country Code                          Indicator Name  \\\n",
       "0        Aruba          ABW  CO2 emissions (metric tons per capita)   \n",
       "1      Andorra          AND  CO2 emissions (metric tons per capita)   \n",
       "\n",
       "   Indicator Code  1960  1961  1962  1963  1964  1965     ...            2007  \\\n",
       "0  EN.ATM.CO2E.PC   NaN   NaN   NaN   NaN   NaN   NaN     ...       25.613715   \n",
       "1  EN.ATM.CO2E.PC   NaN   NaN   NaN   NaN   NaN   NaN     ...        6.350868   \n",
       "\n",
       "        2008       2009       2010       2011  2012  2013  2014  2015  \\\n",
       "0  24.750133  24.876706  24.182702  23.922412   NaN   NaN   NaN   NaN   \n",
       "1   6.296125   6.049173   6.124770   5.968685   NaN   NaN   NaN   NaN   \n",
       "\n",
       "   Unnamed: 60  \n",
       "0          NaN  \n",
       "1          NaN  \n",
       "\n",
       "[2 rows x 61 columns]"
      ]
     },
     "execution_count": 51,
     "metadata": {},
     "output_type": "execute_result"
    }
   ],
   "source": [
    "data[0:2] #First and second row"
   ]
  },
  {
   "cell_type": "code",
   "execution_count": 52,
   "metadata": {
    "collapsed": false
   },
   "outputs": [
    {
     "data": {
      "text/html": [
       "<div>\n",
       "<table border=\"1\" class=\"dataframe\">\n",
       "  <thead>\n",
       "    <tr style=\"text-align: right;\">\n",
       "      <th></th>\n",
       "      <th>Country Name</th>\n",
       "      <th>Country Code</th>\n",
       "      <th>Indicator Name</th>\n",
       "      <th>Indicator Code</th>\n",
       "      <th>1960</th>\n",
       "      <th>1961</th>\n",
       "      <th>1962</th>\n",
       "      <th>1963</th>\n",
       "      <th>1964</th>\n",
       "      <th>1965</th>\n",
       "      <th>...</th>\n",
       "      <th>2007</th>\n",
       "      <th>2008</th>\n",
       "      <th>2009</th>\n",
       "      <th>2010</th>\n",
       "      <th>2011</th>\n",
       "      <th>2012</th>\n",
       "      <th>2013</th>\n",
       "      <th>2014</th>\n",
       "      <th>2015</th>\n",
       "      <th>Unnamed: 60</th>\n",
       "    </tr>\n",
       "  </thead>\n",
       "  <tbody>\n",
       "    <tr>\n",
       "      <th>0</th>\n",
       "      <td>Aruba</td>\n",
       "      <td>ABW</td>\n",
       "      <td>CO2 emissions (metric tons per capita)</td>\n",
       "      <td>EN.ATM.CO2E.PC</td>\n",
       "      <td>NaN</td>\n",
       "      <td>NaN</td>\n",
       "      <td>NaN</td>\n",
       "      <td>NaN</td>\n",
       "      <td>NaN</td>\n",
       "      <td>NaN</td>\n",
       "      <td>...</td>\n",
       "      <td>25.613715</td>\n",
       "      <td>24.750133</td>\n",
       "      <td>24.876706</td>\n",
       "      <td>24.182702</td>\n",
       "      <td>23.922412</td>\n",
       "      <td>NaN</td>\n",
       "      <td>NaN</td>\n",
       "      <td>NaN</td>\n",
       "      <td>NaN</td>\n",
       "      <td>NaN</td>\n",
       "    </tr>\n",
       "    <tr>\n",
       "      <th>1</th>\n",
       "      <td>Andorra</td>\n",
       "      <td>AND</td>\n",
       "      <td>CO2 emissions (metric tons per capita)</td>\n",
       "      <td>EN.ATM.CO2E.PC</td>\n",
       "      <td>NaN</td>\n",
       "      <td>NaN</td>\n",
       "      <td>NaN</td>\n",
       "      <td>NaN</td>\n",
       "      <td>NaN</td>\n",
       "      <td>NaN</td>\n",
       "      <td>...</td>\n",
       "      <td>6.350868</td>\n",
       "      <td>6.296125</td>\n",
       "      <td>6.049173</td>\n",
       "      <td>6.124770</td>\n",
       "      <td>5.968685</td>\n",
       "      <td>NaN</td>\n",
       "      <td>NaN</td>\n",
       "      <td>NaN</td>\n",
       "      <td>NaN</td>\n",
       "      <td>NaN</td>\n",
       "    </tr>\n",
       "  </tbody>\n",
       "</table>\n",
       "<p>2 rows × 61 columns</p>\n",
       "</div>"
      ],
      "text/plain": [
       "  Country Name Country Code                          Indicator Name  \\\n",
       "0        Aruba          ABW  CO2 emissions (metric tons per capita)   \n",
       "1      Andorra          AND  CO2 emissions (metric tons per capita)   \n",
       "\n",
       "   Indicator Code  1960  1961  1962  1963  1964  1965     ...            2007  \\\n",
       "0  EN.ATM.CO2E.PC   NaN   NaN   NaN   NaN   NaN   NaN     ...       25.613715   \n",
       "1  EN.ATM.CO2E.PC   NaN   NaN   NaN   NaN   NaN   NaN     ...        6.350868   \n",
       "\n",
       "        2008       2009       2010       2011  2012  2013  2014  2015  \\\n",
       "0  24.750133  24.876706  24.182702  23.922412   NaN   NaN   NaN   NaN   \n",
       "1   6.296125   6.049173   6.124770   5.968685   NaN   NaN   NaN   NaN   \n",
       "\n",
       "   Unnamed: 60  \n",
       "0          NaN  \n",
       "1          NaN  \n",
       "\n",
       "[2 rows x 61 columns]"
      ]
     },
     "execution_count": 52,
     "metadata": {},
     "output_type": "execute_result"
    }
   ],
   "source": [
    "data[:2] "
   ]
  },
  {
   "cell_type": "code",
   "execution_count": 53,
   "metadata": {
    "collapsed": false,
    "scrolled": false
   },
   "outputs": [
    {
     "data": {
      "text/html": [
       "<div>\n",
       "<table border=\"1\" class=\"dataframe\">\n",
       "  <thead>\n",
       "    <tr style=\"text-align: right;\">\n",
       "      <th></th>\n",
       "      <th>Country Name</th>\n",
       "      <th>Country Code</th>\n",
       "      <th>Indicator Name</th>\n",
       "      <th>Indicator Code</th>\n",
       "      <th>1960</th>\n",
       "      <th>1961</th>\n",
       "      <th>1962</th>\n",
       "      <th>1963</th>\n",
       "      <th>1964</th>\n",
       "      <th>1965</th>\n",
       "      <th>...</th>\n",
       "      <th>2007</th>\n",
       "      <th>2008</th>\n",
       "      <th>2009</th>\n",
       "      <th>2010</th>\n",
       "      <th>2011</th>\n",
       "      <th>2012</th>\n",
       "      <th>2013</th>\n",
       "      <th>2014</th>\n",
       "      <th>2015</th>\n",
       "      <th>Unnamed: 60</th>\n",
       "    </tr>\n",
       "  </thead>\n",
       "  <tbody>\n",
       "    <tr>\n",
       "      <th>0</th>\n",
       "      <td>Aruba</td>\n",
       "      <td>ABW</td>\n",
       "      <td>CO2 emissions (metric tons per capita)</td>\n",
       "      <td>EN.ATM.CO2E.PC</td>\n",
       "      <td>NaN</td>\n",
       "      <td>NaN</td>\n",
       "      <td>NaN</td>\n",
       "      <td>NaN</td>\n",
       "      <td>NaN</td>\n",
       "      <td>NaN</td>\n",
       "      <td>...</td>\n",
       "      <td>25.613715</td>\n",
       "      <td>24.750133</td>\n",
       "      <td>24.876706</td>\n",
       "      <td>24.182702</td>\n",
       "      <td>23.922412</td>\n",
       "      <td>NaN</td>\n",
       "      <td>NaN</td>\n",
       "      <td>NaN</td>\n",
       "      <td>NaN</td>\n",
       "      <td>NaN</td>\n",
       "    </tr>\n",
       "    <tr>\n",
       "      <th>2</th>\n",
       "      <td>Afghanistan</td>\n",
       "      <td>AFG</td>\n",
       "      <td>CO2 emissions (metric tons per capita)</td>\n",
       "      <td>EN.ATM.CO2E.PC</td>\n",
       "      <td>0.046068</td>\n",
       "      <td>0.053615</td>\n",
       "      <td>0.073781</td>\n",
       "      <td>0.074251</td>\n",
       "      <td>0.086317</td>\n",
       "      <td>0.101499</td>\n",
       "      <td>...</td>\n",
       "      <td>0.088141</td>\n",
       "      <td>0.158962</td>\n",
       "      <td>0.249074</td>\n",
       "      <td>0.302936</td>\n",
       "      <td>0.425262</td>\n",
       "      <td>NaN</td>\n",
       "      <td>NaN</td>\n",
       "      <td>NaN</td>\n",
       "      <td>NaN</td>\n",
       "      <td>NaN</td>\n",
       "    </tr>\n",
       "  </tbody>\n",
       "</table>\n",
       "<p>2 rows × 61 columns</p>\n",
       "</div>"
      ],
      "text/plain": [
       "  Country Name Country Code                          Indicator Name  \\\n",
       "0        Aruba          ABW  CO2 emissions (metric tons per capita)   \n",
       "2  Afghanistan          AFG  CO2 emissions (metric tons per capita)   \n",
       "\n",
       "   Indicator Code      1960      1961      1962      1963      1964      1965  \\\n",
       "0  EN.ATM.CO2E.PC       NaN       NaN       NaN       NaN       NaN       NaN   \n",
       "2  EN.ATM.CO2E.PC  0.046068  0.053615  0.073781  0.074251  0.086317  0.101499   \n",
       "\n",
       "      ...            2007       2008       2009       2010       2011  2012  \\\n",
       "0     ...       25.613715  24.750133  24.876706  24.182702  23.922412   NaN   \n",
       "2     ...        0.088141   0.158962   0.249074   0.302936   0.425262   NaN   \n",
       "\n",
       "   2013  2014  2015  Unnamed: 60  \n",
       "0   NaN   NaN   NaN          NaN  \n",
       "2   NaN   NaN   NaN          NaN  \n",
       "\n",
       "[2 rows x 61 columns]"
      ]
     },
     "execution_count": 53,
     "metadata": {},
     "output_type": "execute_result"
    }
   ],
   "source": [
    "data.iloc[[0,2]] #First and third rows"
   ]
  },
  {
   "cell_type": "code",
   "execution_count": 54,
   "metadata": {
    "collapsed": false
   },
   "outputs": [
    {
     "data": {
      "text/plain": [
       "0      Aruba\n",
       "1    Andorra\n",
       "Name: Country Name, dtype: object"
      ]
     },
     "execution_count": 54,
     "metadata": {},
     "output_type": "execute_result"
    }
   ],
   "source": [
    "data[0:2]['Country Name']"
   ]
  },
  {
   "cell_type": "code",
   "execution_count": 55,
   "metadata": {
    "collapsed": false
   },
   "outputs": [
    {
     "data": {
      "text/html": [
       "<div>\n",
       "<table border=\"1\" class=\"dataframe\">\n",
       "  <thead>\n",
       "    <tr style=\"text-align: right;\">\n",
       "      <th></th>\n",
       "      <th>Country Code</th>\n",
       "      <th>Indicator Name</th>\n",
       "      <th>Indicator Code</th>\n",
       "    </tr>\n",
       "  </thead>\n",
       "  <tbody>\n",
       "    <tr>\n",
       "      <th>0</th>\n",
       "      <td>ABW</td>\n",
       "      <td>CO2 emissions (metric tons per capita)</td>\n",
       "      <td>EN.ATM.CO2E.PC</td>\n",
       "    </tr>\n",
       "    <tr>\n",
       "      <th>1</th>\n",
       "      <td>AND</td>\n",
       "      <td>CO2 emissions (metric tons per capita)</td>\n",
       "      <td>EN.ATM.CO2E.PC</td>\n",
       "    </tr>\n",
       "    <tr>\n",
       "      <th>2</th>\n",
       "      <td>AFG</td>\n",
       "      <td>CO2 emissions (metric tons per capita)</td>\n",
       "      <td>EN.ATM.CO2E.PC</td>\n",
       "    </tr>\n",
       "    <tr>\n",
       "      <th>3</th>\n",
       "      <td>AGO</td>\n",
       "      <td>CO2 emissions (metric tons per capita)</td>\n",
       "      <td>EN.ATM.CO2E.PC</td>\n",
       "    </tr>\n",
       "  </tbody>\n",
       "</table>\n",
       "</div>"
      ],
      "text/plain": [
       "  Country Code                          Indicator Name  Indicator Code\n",
       "0          ABW  CO2 emissions (metric tons per capita)  EN.ATM.CO2E.PC\n",
       "1          AND  CO2 emissions (metric tons per capita)  EN.ATM.CO2E.PC\n",
       "2          AFG  CO2 emissions (metric tons per capita)  EN.ATM.CO2E.PC\n",
       "3          AGO  CO2 emissions (metric tons per capita)  EN.ATM.CO2E.PC"
      ]
     },
     "execution_count": 55,
     "metadata": {},
     "output_type": "execute_result"
    }
   ],
   "source": [
    "data.ix[0:3,1:4] #First row"
   ]
  },
  {
   "cell_type": "markdown",
   "metadata": {},
   "source": [
    "#### 选择最后一行"
   ]
  },
  {
   "cell_type": "code",
   "execution_count": null,
   "metadata": {
    "collapsed": false
   },
   "outputs": [],
   "source": [
    "data.iloc[-1]"
   ]
  },
  {
   "cell_type": "markdown",
   "metadata": {},
   "source": [
    "<h2, align=center>按照条件求子集</h2>"
   ]
  },
  {
   "cell_type": "markdown",
   "metadata": {},
   "source": [
    "回忆: 有多种逻辑操作符可以用来创建逻辑语句:"
   ]
  },
  {
   "cell_type": "code",
   "execution_count": 1,
   "metadata": {
    "collapsed": false
   },
   "outputs": [
    {
     "data": {
      "text/plain": [
       "False"
      ]
     },
     "execution_count": 1,
     "metadata": {},
     "output_type": "execute_result"
    }
   ],
   "source": [
    "1 == 2"
   ]
  },
  {
   "cell_type": "code",
   "execution_count": 2,
   "metadata": {
    "collapsed": false
   },
   "outputs": [
    {
     "data": {
      "text/plain": [
       "True"
      ]
     },
     "execution_count": 2,
     "metadata": {},
     "output_type": "execute_result"
    }
   ],
   "source": [
    "\"Me\" != \"You\""
   ]
  },
  {
   "cell_type": "code",
   "execution_count": 3,
   "metadata": {
    "collapsed": false
   },
   "outputs": [
    {
     "data": {
      "text/plain": [
       "True"
      ]
     },
     "execution_count": 3,
     "metadata": {},
     "output_type": "execute_result"
    }
   ],
   "source": [
    "1000 > 1"
   ]
  },
  {
   "cell_type": "markdown",
   "metadata": {},
   "source": [
    "在将一条逻辑语句应用到数组上时，会返回一个由True/False构成的数组，取值对应于该逻辑语句。"
   ]
  },
  {
   "cell_type": "code",
   "execution_count": 37,
   "metadata": {
    "collapsed": false,
    "scrolled": true
   },
   "outputs": [
    {
     "data": {
      "text/plain": [
       "array([ 1,  2,  3,  4,  5,  6,  7,  8,  9, 10, 11, 12, 13, 14, 15, 16, 17,\n",
       "       18, 19, 20, 21, 22, 23, 24, 25, 26, 27, 28, 29, 30, 31, 32, 33, 34,\n",
       "       35, 36, 37, 38, 39, 40, 41, 42, 43, 44, 45, 46, 47, 48, 49, 50, 51,\n",
       "       52, 53, 54, 55, 56, 57, 58, 59, 60, 61, 62, 63, 64, 65, 66, 67, 68,\n",
       "       69, 70, 71, 72, 73, 74, 75, 76, 77, 78, 79, 80, 81, 82, 83, 84, 85,\n",
       "       86, 87, 88, 89, 90, 91, 92, 93, 94, 95, 96, 97, 98, 99])"
      ]
     },
     "execution_count": 37,
     "metadata": {},
     "output_type": "execute_result"
    }
   ],
   "source": [
    "import numpy as np\n",
    "my_range = np.array(range(1,100))\n",
    "my_range"
   ]
  },
  {
   "cell_type": "code",
   "execution_count": 38,
   "metadata": {
    "collapsed": false
   },
   "outputs": [
    {
     "data": {
      "text/plain": [
       "array([False, False, False, False, False, False, False, False, False,\n",
       "       False, False, False, False, False, False, False, False, False,\n",
       "       False, False, False, False, False, False, False, False, False,\n",
       "       False, False, False, False, False, False, False, False, False,\n",
       "       False, False, False, False, False, False, False, False, False,\n",
       "       False, False, False, False, False,  True,  True,  True,  True,\n",
       "        True,  True,  True,  True,  True,  True,  True,  True,  True,\n",
       "        True,  True,  True,  True,  True,  True,  True,  True,  True,\n",
       "        True,  True,  True,  True,  True,  True,  True,  True,  True,\n",
       "        True,  True,  True,  True,  True,  True,  True,  True,  True,\n",
       "        True,  True,  True,  True,  True,  True,  True,  True,  True])"
      ]
     },
     "execution_count": 38,
     "metadata": {},
     "output_type": "execute_result"
    }
   ],
   "source": [
    "result = my_range > 50\n",
    "result"
   ]
  },
  {
   "cell_type": "markdown",
   "metadata": {},
   "source": [
    "然后，我们可以使用这个True/False数组来返回只包含原来数组中对应 true 的那些值。"
   ]
  },
  {
   "cell_type": "code",
   "execution_count": 39,
   "metadata": {
    "collapsed": false,
    "scrolled": false
   },
   "outputs": [
    {
     "data": {
      "text/plain": [
       "array([51, 52, 53, 54, 55, 56, 57, 58, 59, 60, 61, 62, 63, 64, 65, 66, 67,\n",
       "       68, 69, 70, 71, 72, 73, 74, 75, 76, 77, 78, 79, 80, 81, 82, 83, 84,\n",
       "       85, 86, 87, 88, 89, 90, 91, 92, 93, 94, 95, 96, 97, 98, 99])"
      ]
     },
     "execution_count": 39,
     "metadata": {},
     "output_type": "execute_result"
    }
   ],
   "source": [
    "my_range[result]"
   ]
  },
  {
   "cell_type": "markdown",
   "metadata": {},
   "source": [
    "#### 基于单一条件选择行"
   ]
  },
  {
   "cell_type": "code",
   "execution_count": 59,
   "metadata": {
    "collapsed": false
   },
   "outputs": [
    {
     "data": {
      "text/plain": [
       "0                               Aruba\n",
       "1                             Andorra\n",
       "2                         Afghanistan\n",
       "3                              Angola\n",
       "4                             Albania\n",
       "5                          Arab World\n",
       "6                United Arab Emirates\n",
       "7                           Argentina\n",
       "8                             Armenia\n",
       "9                      American Samoa\n",
       "10                Antigua and Barbuda\n",
       "11                          Australia\n",
       "12                            Austria\n",
       "13                         Azerbaijan\n",
       "14                            Burundi\n",
       "15                            Belgium\n",
       "16                              Benin\n",
       "17                       Burkina Faso\n",
       "18                         Bangladesh\n",
       "19                           Bulgaria\n",
       "20                            Bahrain\n",
       "21                       Bahamas, The\n",
       "22             Bosnia and Herzegovina\n",
       "23                            Belarus\n",
       "24                             Belize\n",
       "25                            Bermuda\n",
       "26                            Bolivia\n",
       "27                             Brazil\n",
       "28                           Barbados\n",
       "29                  Brunei Darussalam\n",
       "                    ...              \n",
       "219                          Thailand\n",
       "220                        Tajikistan\n",
       "221                      Turkmenistan\n",
       "222                       Timor-Leste\n",
       "223                             Tonga\n",
       "224               Trinidad and Tobago\n",
       "225                           Tunisia\n",
       "226                            Turkey\n",
       "227                            Tuvalu\n",
       "228                     Taiwan, China\n",
       "229                          Tanzania\n",
       "230                            Uganda\n",
       "231                           Ukraine\n",
       "232               Upper middle income\n",
       "233                           Uruguay\n",
       "234                     United States\n",
       "235                        Uzbekistan\n",
       "236    St. Vincent and the Grenadines\n",
       "237                     Venezuela, RB\n",
       "238             Virgin Islands (U.S.)\n",
       "239                           Vietnam\n",
       "240                           Vanuatu\n",
       "241                West Bank and Gaza\n",
       "242                             World\n",
       "243                             Samoa\n",
       "244                       Yemen, Rep.\n",
       "245                      South Africa\n",
       "246                  Congo, Dem. Rep.\n",
       "247                            Zambia\n",
       "248                          Zimbabwe\n",
       "Name: Country Name, dtype: object"
      ]
     },
     "execution_count": 59,
     "metadata": {},
     "output_type": "execute_result"
    }
   ],
   "source": [
    "data['Country Name']"
   ]
  },
  {
   "cell_type": "code",
   "execution_count": 60,
   "metadata": {
    "collapsed": false
   },
   "outputs": [
    {
     "data": {
      "text/plain": [
       "0      False\n",
       "1      False\n",
       "2      False\n",
       "3      False\n",
       "4       True\n",
       "5      False\n",
       "6      False\n",
       "7      False\n",
       "8      False\n",
       "9      False\n",
       "10     False\n",
       "11     False\n",
       "12     False\n",
       "13     False\n",
       "14     False\n",
       "15     False\n",
       "16     False\n",
       "17     False\n",
       "18     False\n",
       "19     False\n",
       "20     False\n",
       "21     False\n",
       "22     False\n",
       "23     False\n",
       "24     False\n",
       "25     False\n",
       "26     False\n",
       "27     False\n",
       "28     False\n",
       "29     False\n",
       "       ...  \n",
       "219    False\n",
       "220    False\n",
       "221    False\n",
       "222    False\n",
       "223    False\n",
       "224    False\n",
       "225    False\n",
       "226    False\n",
       "227    False\n",
       "228    False\n",
       "229    False\n",
       "230    False\n",
       "231    False\n",
       "232    False\n",
       "233    False\n",
       "234    False\n",
       "235    False\n",
       "236    False\n",
       "237    False\n",
       "238    False\n",
       "239    False\n",
       "240    False\n",
       "241    False\n",
       "242    False\n",
       "243    False\n",
       "244    False\n",
       "245    False\n",
       "246    False\n",
       "247    False\n",
       "248    False\n",
       "Name: Country Name, dtype: bool"
      ]
     },
     "execution_count": 60,
     "metadata": {},
     "output_type": "execute_result"
    }
   ],
   "source": [
    "#Data where the country name is Albania. Returns True/False\n",
    "data['Country Name'] == 'Albania'"
   ]
  },
  {
   "cell_type": "code",
   "execution_count": 61,
   "metadata": {
    "collapsed": false
   },
   "outputs": [
    {
     "data": {
      "text/html": [
       "<div>\n",
       "<table border=\"1\" class=\"dataframe\">\n",
       "  <thead>\n",
       "    <tr style=\"text-align: right;\">\n",
       "      <th></th>\n",
       "      <th>Country Name</th>\n",
       "      <th>Country Code</th>\n",
       "      <th>Indicator Name</th>\n",
       "      <th>Indicator Code</th>\n",
       "      <th>1960</th>\n",
       "      <th>1961</th>\n",
       "      <th>1962</th>\n",
       "      <th>1963</th>\n",
       "      <th>1964</th>\n",
       "      <th>1965</th>\n",
       "      <th>...</th>\n",
       "      <th>2007</th>\n",
       "      <th>2008</th>\n",
       "      <th>2009</th>\n",
       "      <th>2010</th>\n",
       "      <th>2011</th>\n",
       "      <th>2012</th>\n",
       "      <th>2013</th>\n",
       "      <th>2014</th>\n",
       "      <th>2015</th>\n",
       "      <th>Unnamed: 60</th>\n",
       "    </tr>\n",
       "  </thead>\n",
       "  <tbody>\n",
       "    <tr>\n",
       "      <th>38</th>\n",
       "      <td>China</td>\n",
       "      <td>CHN</td>\n",
       "      <td>CO2 emissions (metric tons per capita)</td>\n",
       "      <td>EN.ATM.CO2E.PC</td>\n",
       "      <td>1.170381</td>\n",
       "      <td>0.836047</td>\n",
       "      <td>0.661428</td>\n",
       "      <td>0.640002</td>\n",
       "      <td>0.625646</td>\n",
       "      <td>0.665524</td>\n",
       "      <td>...</td>\n",
       "      <td>5.153564</td>\n",
       "      <td>5.311152</td>\n",
       "      <td>5.778143</td>\n",
       "      <td>6.172489</td>\n",
       "      <td>6.710302</td>\n",
       "      <td>NaN</td>\n",
       "      <td>NaN</td>\n",
       "      <td>NaN</td>\n",
       "      <td>NaN</td>\n",
       "      <td>NaN</td>\n",
       "    </tr>\n",
       "  </tbody>\n",
       "</table>\n",
       "<p>1 rows × 61 columns</p>\n",
       "</div>"
      ],
      "text/plain": [
       "   Country Name Country Code                          Indicator Name  \\\n",
       "38        China          CHN  CO2 emissions (metric tons per capita)   \n",
       "\n",
       "    Indicator Code      1960      1961      1962      1963      1964  \\\n",
       "38  EN.ATM.CO2E.PC  1.170381  0.836047  0.661428  0.640002  0.625646   \n",
       "\n",
       "        1965     ...           2007      2008      2009      2010      2011  \\\n",
       "38  0.665524     ...       5.153564  5.311152  5.778143  6.172489  6.710302   \n",
       "\n",
       "    2012  2013  2014  2015  Unnamed: 60  \n",
       "38   NaN   NaN   NaN   NaN          NaN  \n",
       "\n",
       "[1 rows x 61 columns]"
      ]
     },
     "execution_count": 61,
     "metadata": {},
     "output_type": "execute_result"
    }
   ],
   "source": [
    "data[data['Country Code'] == 'CHN'] #Subset based on condition"
   ]
  },
  {
   "cell_type": "markdown",
   "metadata": {},
   "source": [
    "#### 基于多重条件选择行"
   ]
  },
  {
   "cell_type": "code",
   "execution_count": 62,
   "metadata": {
    "collapsed": false
   },
   "outputs": [
    {
     "data": {
      "text/html": [
       "<div>\n",
       "<table border=\"1\" class=\"dataframe\">\n",
       "  <thead>\n",
       "    <tr style=\"text-align: right;\">\n",
       "      <th></th>\n",
       "      <th>Country Name</th>\n",
       "      <th>Country Code</th>\n",
       "      <th>Indicator Name</th>\n",
       "      <th>Indicator Code</th>\n",
       "      <th>1960</th>\n",
       "      <th>1961</th>\n",
       "      <th>1962</th>\n",
       "      <th>1963</th>\n",
       "      <th>1964</th>\n",
       "      <th>1965</th>\n",
       "      <th>...</th>\n",
       "      <th>2007</th>\n",
       "      <th>2008</th>\n",
       "      <th>2009</th>\n",
       "      <th>2010</th>\n",
       "      <th>2011</th>\n",
       "      <th>2012</th>\n",
       "      <th>2013</th>\n",
       "      <th>2014</th>\n",
       "      <th>2015</th>\n",
       "      <th>Unnamed: 60</th>\n",
       "    </tr>\n",
       "  </thead>\n",
       "  <tbody>\n",
       "    <tr>\n",
       "      <th>38</th>\n",
       "      <td>China</td>\n",
       "      <td>CHN</td>\n",
       "      <td>CO2 emissions (metric tons per capita)</td>\n",
       "      <td>EN.ATM.CO2E.PC</td>\n",
       "      <td>1.170381</td>\n",
       "      <td>0.836047</td>\n",
       "      <td>0.661428</td>\n",
       "      <td>0.640002</td>\n",
       "      <td>0.625646</td>\n",
       "      <td>0.665524</td>\n",
       "      <td>...</td>\n",
       "      <td>5.153564</td>\n",
       "      <td>5.311152</td>\n",
       "      <td>5.778143</td>\n",
       "      <td>6.172489</td>\n",
       "      <td>6.710302</td>\n",
       "      <td>NaN</td>\n",
       "      <td>NaN</td>\n",
       "      <td>NaN</td>\n",
       "      <td>NaN</td>\n",
       "      <td>NaN</td>\n",
       "    </tr>\n",
       "  </tbody>\n",
       "</table>\n",
       "<p>1 rows × 61 columns</p>\n",
       "</div>"
      ],
      "text/plain": [
       "   Country Name Country Code                          Indicator Name  \\\n",
       "38        China          CHN  CO2 emissions (metric tons per capita)   \n",
       "\n",
       "    Indicator Code      1960      1961      1962      1963      1964  \\\n",
       "38  EN.ATM.CO2E.PC  1.170381  0.836047  0.661428  0.640002  0.625646   \n",
       "\n",
       "        1965     ...           2007      2008      2009      2010      2011  \\\n",
       "38  0.665524     ...       5.153564  5.311152  5.778143  6.172489  6.710302   \n",
       "\n",
       "    2012  2013  2014  2015  Unnamed: 60  \n",
       "38   NaN   NaN   NaN   NaN          NaN  \n",
       "\n",
       "[1 rows x 61 columns]"
      ]
     },
     "execution_count": 62,
     "metadata": {},
     "output_type": "execute_result"
    }
   ],
   "source": [
    "data[(data['Country Name'] == 'China') & (data['Country Code'] == 'CHN')]"
   ]
  },
  {
   "cell_type": "markdown",
   "metadata": {},
   "source": [
    "#### 为什么下面的语句不会返回任何符合条件的行?"
   ]
  },
  {
   "cell_type": "code",
   "execution_count": 63,
   "metadata": {
    "collapsed": false
   },
   "outputs": [
    {
     "data": {
      "text/html": [
       "<div>\n",
       "<table border=\"1\" class=\"dataframe\">\n",
       "  <thead>\n",
       "    <tr style=\"text-align: right;\">\n",
       "      <th></th>\n",
       "      <th>Country Name</th>\n",
       "      <th>Country Code</th>\n",
       "      <th>Indicator Name</th>\n",
       "      <th>Indicator Code</th>\n",
       "      <th>1960</th>\n",
       "      <th>1961</th>\n",
       "      <th>1962</th>\n",
       "      <th>1963</th>\n",
       "      <th>1964</th>\n",
       "      <th>1965</th>\n",
       "      <th>...</th>\n",
       "      <th>2007</th>\n",
       "      <th>2008</th>\n",
       "      <th>2009</th>\n",
       "      <th>2010</th>\n",
       "      <th>2011</th>\n",
       "      <th>2012</th>\n",
       "      <th>2013</th>\n",
       "      <th>2014</th>\n",
       "      <th>2015</th>\n",
       "      <th>Unnamed: 60</th>\n",
       "    </tr>\n",
       "  </thead>\n",
       "  <tbody>\n",
       "  </tbody>\n",
       "</table>\n",
       "<p>0 rows × 61 columns</p>\n",
       "</div>"
      ],
      "text/plain": [
       "Empty DataFrame\n",
       "Columns: [Country Name, Country Code, Indicator Name, Indicator Code, 1960, 1961, 1962, 1963, 1964, 1965, 1966, 1967, 1968, 1969, 1970, 1971, 1972, 1973, 1974, 1975, 1976, 1977, 1978, 1979, 1980, 1981, 1982, 1983, 1984, 1985, 1986, 1987, 1988, 1989, 1990, 1991, 1992, 1993, 1994, 1995, 1996, 1997, 1998, 1999, 2000, 2001, 2002, 2003, 2004, 2005, 2006, 2007, 2008, 2009, 2010, 2011, 2012, 2013, 2014, 2015, Unnamed: 60]\n",
       "Index: []\n",
       "\n",
       "[0 rows x 61 columns]"
      ]
     },
     "execution_count": 63,
     "metadata": {},
     "output_type": "execute_result"
    }
   ],
   "source": [
    "data[(data['Country Name'] == 'Canada') & (data['Country Code'] == 'CHN')]"
   ]
  },
  {
   "cell_type": "markdown",
   "metadata": {},
   "source": [
    "### 按行和列选择数据"
   ]
  },
  {
   "cell_type": "markdown",
   "metadata": {},
   "source": [
    "下面的代码产生什么结果?"
   ]
  },
  {
   "cell_type": "code",
   "execution_count": 64,
   "metadata": {
    "collapsed": false
   },
   "outputs": [
    {
     "data": {
      "text/html": [
       "<div>\n",
       "<table border=\"1\" class=\"dataframe\">\n",
       "  <thead>\n",
       "    <tr style=\"text-align: right;\">\n",
       "      <th></th>\n",
       "      <th>Country Name</th>\n",
       "      <th>Country Code</th>\n",
       "      <th>2010</th>\n",
       "    </tr>\n",
       "  </thead>\n",
       "  <tbody>\n",
       "    <tr>\n",
       "      <th>16</th>\n",
       "      <td>Benin</td>\n",
       "      <td>BEN</td>\n",
       "      <td>0.541771</td>\n",
       "    </tr>\n",
       "    <tr>\n",
       "      <th>17</th>\n",
       "      <td>Burkina Faso</td>\n",
       "      <td>BFA</td>\n",
       "      <td>0.107673</td>\n",
       "    </tr>\n",
       "    <tr>\n",
       "      <th>18</th>\n",
       "      <td>Bangladesh</td>\n",
       "      <td>BGD</td>\n",
       "      <td>0.370360</td>\n",
       "    </tr>\n",
       "    <tr>\n",
       "      <th>19</th>\n",
       "      <td>Bulgaria</td>\n",
       "      <td>BGR</td>\n",
       "      <td>5.966884</td>\n",
       "    </tr>\n",
       "    <tr>\n",
       "      <th>20</th>\n",
       "      <td>Bahrain</td>\n",
       "      <td>BHR</td>\n",
       "      <td>18.435025</td>\n",
       "    </tr>\n",
       "  </tbody>\n",
       "</table>\n",
       "</div>"
      ],
      "text/plain": [
       "    Country Name Country Code       2010\n",
       "16         Benin          BEN   0.541771\n",
       "17  Burkina Faso          BFA   0.107673\n",
       "18    Bangladesh          BGD   0.370360\n",
       "19      Bulgaria          BGR   5.966884\n",
       "20       Bahrain          BHR  18.435025"
      ]
     },
     "execution_count": 64,
     "metadata": {},
     "output_type": "execute_result"
    }
   ],
   "source": [
    "data[['Country Name', 'Country Code', '2010']][16:21]"
   ]
  },
  {
   "cell_type": "markdown",
   "metadata": {},
   "source": [
    "<hr>"
   ]
  },
  {
   "cell_type": "markdown",
   "metadata": {},
   "source": [
    "## 复习"
   ]
  },
  {
   "cell_type": "markdown",
   "metadata": {},
   "source": [
    "### <span style=\"color: red\">轮到你了:</span> \n",
    "<h3>查找法国和德国在2010和2011年的人均CO2排放量</h3>"
   ]
  },
  {
   "cell_type": "markdown",
   "metadata": {},
   "source": [
    "你应该产生像下面这样的输出:\n",
    "\n",
    "<img src = https://ibm.box.com/shared/static/23drzeu5h2uydwhb0un9qa4jq9yzrjbi.png, width = 300>"
   ]
  },
  {
   "cell_type": "code",
   "execution_count": null,
   "metadata": {
    "collapsed": false,
    "scrolled": true
   },
   "outputs": [],
   "source": [
    "#hint\n",
    "# data['Country Name']== ??\n",
    "# data[['Country Name', '2010', '2011']].iloc[[??,??]]"
   ]
  },
  {
   "cell_type": "code",
   "execution_count": null,
   "metadata": {
    "collapsed": false
   },
   "outputs": [],
   "source": [
    "## YOUR CODE BELOW\n",
    "\n"
   ]
  },
  {
   "cell_type": "markdown",
   "metadata": {},
   "source": [
    "<hr>"
   ]
  }
 ],
 "metadata": {
  "kernelspec": {
   "display_name": "Python 3",
   "language": "python",
   "name": "python3"
  },
  "language_info": {
   "codemirror_mode": {
    "name": "ipython",
    "version": 3
   },
   "file_extension": ".py",
   "mimetype": "text/x-python",
   "name": "python",
   "nbconvert_exporter": "python",
   "pygments_lexer": "ipython3",
   "version": "3.6.0"
  }
 },
 "nbformat": 4,
 "nbformat_minor": 0
}
