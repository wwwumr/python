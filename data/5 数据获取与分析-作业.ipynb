{
 "cells": [
  {
   "cell_type": "markdown",
   "metadata": {},
   "source": [
    "<h1 align=center>数据科学引论 - Python之道 </h1>\n",
    "\n",
    "<h1 align=center>数据爬取与分析</h1>"
   ]
  },
  {
   "cell_type": "markdown",
   "metadata": {},
   "source": [
    "---\n",
    "## 数据收集练习\n",
    "#### 运用本节课所学习到的内容，在网络上利用网络爬虫来收集数据。\n",
    "任务1 要求：  \n",
    "  1. 请你在下面的代码框中，运用本节课的知识，编写利用爬虫来获取你的项目需要用到的数据集的程序；  \n",
    "  2. 如果你使用的是现成的数据集，那么请你编写利用爬虫来获取下面数据集的程序：   \n",
    "     爬取下面这三个链接的网页中，列出的每一个Site的【名称、描述、网页地址】\n",
    "     http://dmoztools.net/Computers/Programming/Languages/Python/Development_Tools/\n",
    "     http://dmoztools.net/Computers/Programming/Languages/Python/Books/\n",
    "     http://dmoztools.net/Computers/Programming/Languages/Python/Implementations/\n",
    "  3. 爬取的所有数据存储到一个.csv格式的文件\n",
    "  \n",
    "  请在下面的代码框中编写你的程序。"
   ]
  },
  {
   "cell_type": "code",
   "execution_count": null,
   "metadata": {
    "collapsed": true
   },
   "outputs": [],
   "source": [
    "\n",
    "\n",
    "\n",
    "\n",
    "\n",
    "\n",
    "\n",
    "\n"
   ]
  },
  {
   "cell_type": "markdown",
   "metadata": {},
   "source": [
    "任务2 要求：\n",
    "\n",
    "  1. 针对你爬取的数据，分别统计有多少种不同的开发工具、书籍和参考实现\n",
    "  2. 将所有不同的名称取出后按照字典序排序，装载到一个DataFrame中\n",
    "\n",
    "  请在下面的代码框中编写你的程序。"
   ]
  },
  {
   "cell_type": "code",
   "execution_count": null,
   "metadata": {},
   "outputs": [],
   "source": [
    "\n",
    "\n",
    "\n",
    "\n",
    "\n",
    "\n",
    "\n",
    "\n"
   ]
  },
  {
   "cell_type": "markdown",
   "metadata": {},
   "source": [
    "#### 你需要提交你写好代码的这个notebook，以及存储了你爬取数据的.csv文件"
   ]
  }
 ],
 "metadata": {
  "kernelspec": {
   "display_name": "Python 3",
   "language": "python",
   "name": "python3"
  },
  "language_info": {
   "codemirror_mode": {
    "name": "ipython",
    "version": 3
   },
   "file_extension": ".py",
   "mimetype": "text/x-python",
   "name": "python",
   "nbconvert_exporter": "python",
   "pygments_lexer": "ipython3",
   "version": "3.6.5"
  }
 },
 "nbformat": 4,
 "nbformat_minor": 2
}
